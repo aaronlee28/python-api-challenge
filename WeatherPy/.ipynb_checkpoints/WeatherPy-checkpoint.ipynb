{
 "cells": [
  {
   "cell_type": "markdown",
   "metadata": {},
   "source": [
    "# WeatherPy\n",
    "----\n",
    "\n",
    "#### Note\n",
    "* Instructions have been included for each segment. You do not have to follow them exactly, but they are included to help you think through the steps."
   ]
  },
  {
   "cell_type": "code",
   "execution_count": 1,
   "metadata": {
    "scrolled": true
   },
   "outputs": [],
   "source": [
    "# Dependencies and Setup\n",
    "import matplotlib.pyplot as plt\n",
    "import pandas as pd\n",
    "import numpy as np\n",
    "import requests\n",
    "import time\n",
    "from scipy.stats import linregress\n",
    "\n",
    "# Import API key\n",
    "from api_keys import weather_api_key\n",
    "\n",
    "# Incorporated citipy to determine city based on latitude and longitude\n",
    "from citipy import citipy\n",
    "\n",
    "# Output File (CSV)\n",
    "output_data_file = \"output_data/cities.csv\"\n",
    "\n",
    "# Range of latitudes and longitudes\n",
    "lat_range = (-90, 90)\n",
    "lng_range = (-180, 180)\n"
   ]
  },
  {
   "cell_type": "markdown",
   "metadata": {},
   "source": [
    "## Generate Cities List"
   ]
  },
  {
   "cell_type": "code",
   "execution_count": 2,
   "metadata": {},
   "outputs": [
    {
     "data": {
      "text/plain": [
       "598"
      ]
     },
     "execution_count": 2,
     "metadata": {},
     "output_type": "execute_result"
    }
   ],
   "source": [
    "# List for holding lat_lngs and cities\n",
    "lat_lngs = []\n",
    "cities = []\n",
    "\n",
    "# Create a set of random lat and lng combinations\n",
    "lats = np.random.uniform(lat_range[0], lat_range[1], size=1500)\n",
    "lngs = np.random.uniform(lng_range[0], lng_range[1], size=1500)\n",
    "lat_lngs = zip(lats, lngs)\n",
    "\n",
    "# Identify nearest city for each lat, lng combination\n",
    "for lat_lng in lat_lngs:\n",
    "    city = citipy.nearest_city(lat_lng[0], lat_lng[1]).city_name\n",
    "    \n",
    "    # If the city is unique, then add it to a our cities list\n",
    "    if city not in cities:\n",
    "        cities.append(city)\n",
    "\n",
    "# Print the city count to confirm sufficient count\n",
    "len(cities)"
   ]
  },
  {
   "cell_type": "markdown",
   "metadata": {},
   "source": [
    "### Perform API Calls\n",
    "* Perform a weather check on each city using a series of successive API calls.\n",
    "* Include a print log of each city as it'sbeing processed (with the city number and city name).\n"
   ]
  },
  {
   "cell_type": "code",
   "execution_count": 3,
   "metadata": {
    "scrolled": true
   },
   "outputs": [],
   "source": [
    "# Set empty list to store data\n",
    "city2 = []\n",
    "lat = []\n",
    "lng = []\n",
    "max_temp = []\n",
    "humidity = []\n",
    "cloudiness = []\n",
    "windspeed = []\n",
    "date = []"
   ]
  },
  {
   "cell_type": "code",
   "execution_count": 4,
   "metadata": {},
   "outputs": [],
   "source": [
    "# Set vatiable to process data \n",
    "record = 0\n",
    "set_key = 1"
   ]
  },
  {
   "cell_type": "code",
   "execution_count": 5,
   "metadata": {},
   "outputs": [],
   "source": [
    "# Create search query \n",
    "\n",
    "url = 'https://api.openweathermap.org/data/2.5/weather?'\n",
    "units = 'imperial'\n",
    "query_url = f'{url}appid={weather_api_key}&units={units}&q='"
   ]
  },
  {
   "cell_type": "code",
   "execution_count": 6,
   "metadata": {},
   "outputs": [
    {
     "name": "stdout",
     "output_type": "stream",
     "text": [
      "Beginning Data Retrieval\n",
      "-----------------------------\n",
      "Processing Record 1 of Set 1 | killarney\n",
      "Processing Record 2 of Set 1 | hambantota\n",
      "Processing Record 3 of Set 1 | jamestown\n",
      "Processing Record 4 of Set 1 | vila franca do campo\n",
      "Processing Record 5 of Set 1 | tuatapere\n",
      "Processing Record 6 of Set 1 | andenes\n",
      "Processing Record 7 of Set 1 | klaksvik\n",
      "Processing Record 8 of Set 1 | mataura\n",
      "Processing Record 9 of Set 1 | port elizabeth\n",
      "Processing Record 10 of Set 1 | byron bay\n",
      "Processing Record 11 of Set 1 | busselton\n",
      "Processing Record 12 of Set 1 | ushuaia\n",
      "Processing Record 13 of Set 1 | nioaque\n",
      "Processing Record 14 of Set 1 | bonfim\n",
      "Processing Record 15 of Set 1 | east london\n",
      "Processing Record 16 of Set 1 | rikitea\n",
      "Processing Record 17 of Set 1 | kapaa\n",
      "Processing Record 18 of Set 1 | jalu\n",
      "City not found. Skipping...\n",
      "Processing Record 19 of Set 1 | havelock\n",
      "City not found. Skipping...\n",
      "Processing Record 20 of Set 1 | sola\n",
      "Processing Record 21 of Set 1 | isangel\n",
      "Processing Record 22 of Set 1 | hobart\n",
      "City not found. Skipping...\n",
      "Processing Record 23 of Set 1 | atuona\n",
      "Processing Record 24 of Set 1 | yellowknife\n",
      "Processing Record 25 of Set 1 | roma\n",
      "Processing Record 26 of Set 1 | punta arenas\n",
      "Processing Record 27 of Set 1 | mauganj\n",
      "Processing Record 28 of Set 1 | tasiilaq\n",
      "Processing Record 29 of Set 1 | nemuro\n",
      "Processing Record 30 of Set 1 | ponta do sol\n",
      "Processing Record 31 of Set 1 | moba\n",
      "Processing Record 32 of Set 1 | carnarvon\n",
      "Processing Record 33 of Set 1 | hilo\n",
      "Processing Record 34 of Set 1 | ribeira grande\n",
      "Processing Record 35 of Set 1 | walvis bay\n",
      "Processing Record 36 of Set 1 | fortuna\n",
      "Processing Record 37 of Set 1 | alyangula\n",
      "Processing Record 38 of Set 1 | kruisfontein\n",
      "Processing Record 39 of Set 1 | port alfred\n",
      "Processing Record 40 of Set 1 | shaunavon\n",
      "Processing Record 41 of Set 1 | kaitangata\n",
      "Processing Record 42 of Set 1 | gondanglegi\n",
      "Processing Record 43 of Set 1 | avarua\n",
      "Processing Record 44 of Set 1 | mar del plata\n",
      "Processing Record 45 of Set 1 | bambous virieux\n",
      "Processing Record 46 of Set 1 | yingcheng\n",
      "Processing Record 47 of Set 1 | umm lajj\n",
      "Processing Record 48 of Set 1 | bowen\n",
      "Processing Record 49 of Set 1 | oranjemund\n",
      "Processing Record 1 of Set 2 | bredasdorp\n",
      "Processing Record 2 of Set 2 | lata\n",
      "Processing Record 3 of Set 2 | provideniya\n",
      "Processing Record 4 of Set 2 | asau\n",
      "Processing Record 5 of Set 2 | new norfolk\n",
      "Processing Record 6 of Set 2 | rosetta\n",
      "Processing Record 7 of Set 2 | acapulco\n",
      "Processing Record 8 of Set 2 | qaanaaq\n",
      "Processing Record 9 of Set 2 | tanout\n",
      "City not found. Skipping...\n",
      "Processing Record 10 of Set 2 | visby\n",
      "Processing Record 11 of Set 2 | saskylakh\n",
      "Processing Record 12 of Set 2 | puerto ayacucho\n",
      "Processing Record 13 of Set 2 | karabuk\n",
      "Processing Record 14 of Set 2 | abu samrah\n",
      "City not found. Skipping...\n",
      "Processing Record 15 of Set 2 | moussoro\n",
      "City not found. Skipping...\n",
      "City not found. Skipping...\n",
      "Processing Record 16 of Set 2 | vaini\n",
      "Processing Record 17 of Set 2 | faanui\n",
      "Processing Record 18 of Set 2 | tyup\n",
      "Processing Record 19 of Set 2 | bilibino\n",
      "Processing Record 20 of Set 2 | albany\n",
      "Processing Record 21 of Set 2 | kristiinankaupunki\n",
      "Processing Record 22 of Set 2 | sorland\n",
      "Processing Record 23 of Set 2 | bluff\n",
      "Processing Record 24 of Set 2 | sarkand\n",
      "Processing Record 25 of Set 2 | matay\n",
      "Processing Record 26 of Set 2 | santa ines\n",
      "Processing Record 27 of Set 2 | tazmalt\n",
      "Processing Record 28 of Set 2 | egvekinot\n",
      "Processing Record 29 of Set 2 | jackson\n",
      "Processing Record 30 of Set 2 | columbus\n",
      "Processing Record 31 of Set 2 | gold coast\n",
      "Processing Record 32 of Set 2 | lebu\n",
      "Processing Record 33 of Set 2 | shimoda\n",
      "Processing Record 34 of Set 2 | ngunguru\n",
      "Processing Record 35 of Set 2 | tamale\n",
      "Processing Record 36 of Set 2 | senno\n",
      "Processing Record 37 of Set 2 | kulhudhuffushi\n",
      "Processing Record 38 of Set 2 | kailua\n",
      "Processing Record 39 of Set 2 | petropavlovsk-kamchatskiy\n",
      "Processing Record 40 of Set 2 | norman wells\n",
      "Processing Record 41 of Set 2 | bilma\n",
      "Processing Record 42 of Set 2 | gurh\n",
      "Processing Record 43 of Set 2 | victoria\n",
      "Processing Record 44 of Set 2 | coihaique\n",
      "Processing Record 45 of Set 2 | calca\n",
      "Processing Record 46 of Set 2 | rosamorada\n",
      "Processing Record 47 of Set 2 | abnub\n",
      "Processing Record 48 of Set 2 | talnakh\n",
      "Processing Record 49 of Set 2 | butaritari\n",
      "Processing Record 1 of Set 3 | tura\n",
      "Processing Record 2 of Set 3 | nassau\n",
      "Processing Record 3 of Set 3 | harper\n",
      "Processing Record 4 of Set 3 | hofn\n",
      "City not found. Skipping...\n",
      "Processing Record 5 of Set 3 | damietta\n",
      "Processing Record 6 of Set 3 | wewak\n",
      "Processing Record 7 of Set 3 | constantine\n",
      "Processing Record 8 of Set 3 | clinton\n",
      "Processing Record 9 of Set 3 | talara\n",
      "Processing Record 10 of Set 3 | alice town\n",
      "Processing Record 11 of Set 3 | marawi\n",
      "Processing Record 12 of Set 3 | itarema\n",
      "Processing Record 13 of Set 3 | namibe\n",
      "Processing Record 14 of Set 3 | barrow\n",
      "Processing Record 15 of Set 3 | biak\n",
      "Processing Record 16 of Set 3 | okhotsk\n",
      "Processing Record 17 of Set 3 | tosya\n",
      "Processing Record 18 of Set 3 | waterford\n",
      "Processing Record 19 of Set 3 | pincher creek\n",
      "Processing Record 20 of Set 3 | colares\n",
      "Processing Record 21 of Set 3 | townsville\n",
      "Processing Record 22 of Set 3 | katangli\n",
      "Processing Record 23 of Set 3 | chokurdakh\n",
      "Processing Record 24 of Set 3 | mancio lima\n",
      "Processing Record 25 of Set 3 | fare\n",
      "Processing Record 26 of Set 3 | kommunisticheskiy\n",
      "Processing Record 27 of Set 3 | wielun\n",
      "Processing Record 28 of Set 3 | kitale\n",
      "Processing Record 29 of Set 3 | codo\n",
      "City not found. Skipping...\n",
      "Processing Record 30 of Set 3 | sisimiut\n",
      "Processing Record 31 of Set 3 | qarqin\n",
      "Processing Record 32 of Set 3 | hithadhoo\n",
      "Processing Record 33 of Set 3 | taoudenni\n",
      "Processing Record 34 of Set 3 | vardo\n",
      "Processing Record 35 of Set 3 | leningradskiy\n",
      "Processing Record 36 of Set 3 | shenzhen\n",
      "Processing Record 37 of Set 3 | port hardy\n",
      "Processing Record 38 of Set 3 | puerto ayora\n",
      "Processing Record 39 of Set 3 | znamenskoye\n",
      "Processing Record 40 of Set 3 | padang\n",
      "Processing Record 41 of Set 3 | humaita\n",
      "Processing Record 42 of Set 3 | alice springs\n",
      "Processing Record 43 of Set 3 | poum\n",
      "Processing Record 44 of Set 3 | nikolskoye\n",
      "Processing Record 45 of Set 3 | samarai\n",
      "Processing Record 46 of Set 3 | cabo san lucas\n",
      "Processing Record 47 of Set 3 | torbay\n",
      "Processing Record 48 of Set 3 | atar\n",
      "Processing Record 49 of Set 3 | shingu\n",
      "Processing Record 1 of Set 4 | solton\n",
      "City not found. Skipping...\n",
      "Processing Record 2 of Set 4 | arraial do cabo\n",
      "City not found. Skipping...\n",
      "Processing Record 3 of Set 4 | havre\n",
      "Processing Record 4 of Set 4 | hermanus\n",
      "Processing Record 5 of Set 4 | lere\n",
      "Processing Record 6 of Set 4 | piacabucu\n",
      "Processing Record 7 of Set 4 | qobustan\n",
      "Processing Record 8 of Set 4 | yarim\n",
      "Processing Record 9 of Set 4 | barda\n",
      "Processing Record 10 of Set 4 | los llanos de aridane\n",
      "Processing Record 11 of Set 4 | paita\n",
      "Processing Record 12 of Set 4 | soe\n",
      "Processing Record 13 of Set 4 | cherskiy\n",
      "Processing Record 14 of Set 4 | tadine\n",
      "Processing Record 15 of Set 4 | westport\n",
      "Processing Record 16 of Set 4 | shasta lake\n",
      "Processing Record 17 of Set 4 | ishinomaki\n",
      "Processing Record 18 of Set 4 | karratha\n",
      "Processing Record 19 of Set 4 | aklavik\n",
      "Processing Record 20 of Set 4 | kodiak\n",
      "Processing Record 21 of Set 4 | slave lake\n",
      "Processing Record 22 of Set 4 | coahuayana\n",
      "Processing Record 23 of Set 4 | lorengau\n",
      "Processing Record 24 of Set 4 | elko\n",
      "Processing Record 25 of Set 4 | constitucion\n",
      "Processing Record 26 of Set 4 | channel-port aux basques\n",
      "Processing Record 27 of Set 4 | acari\n",
      "Processing Record 28 of Set 4 | khvoynaya\n",
      "Processing Record 29 of Set 4 | narsaq\n",
      "Processing Record 30 of Set 4 | chuy\n",
      "Processing Record 31 of Set 4 | mahebourg\n",
      "Processing Record 32 of Set 4 | castro\n",
      "Processing Record 33 of Set 4 | conceicao do araguaia\n",
      "Processing Record 34 of Set 4 | salalah\n",
      "Processing Record 35 of Set 4 | upernavik\n",
      "Processing Record 36 of Set 4 | shenkursk\n",
      "Processing Record 37 of Set 4 | fort nelson\n",
      "Processing Record 38 of Set 4 | geraldton\n",
      "Processing Record 39 of Set 4 | nantucket\n",
      "Processing Record 40 of Set 4 | sveti nikole\n",
      "Processing Record 41 of Set 4 | daru\n",
      "Processing Record 42 of Set 4 | lubao\n",
      "City not found. Skipping...\n",
      "Processing Record 43 of Set 4 | planeta rica\n",
      "Processing Record 44 of Set 4 | arlit\n"
     ]
    },
    {
     "name": "stdout",
     "output_type": "stream",
     "text": [
      "Processing Record 45 of Set 4 | flin flon\n",
      "Processing Record 46 of Set 4 | dingle\n",
      "Processing Record 47 of Set 4 | pevek\n",
      "Processing Record 48 of Set 4 | beloha\n",
      "City not found. Skipping...\n",
      "Processing Record 49 of Set 4 | thompson\n",
      "Processing Record 1 of Set 5 | longyearbyen\n",
      "Processing Record 2 of Set 5 | yuli\n",
      "Processing Record 3 of Set 5 | georgetown\n",
      "Processing Record 4 of Set 5 | bengkulu\n",
      "Processing Record 5 of Set 5 | nikolayevsk-na-amure\n",
      "Processing Record 6 of Set 5 | komsomolskiy\n",
      "Processing Record 7 of Set 5 | pacific grove\n",
      "Processing Record 8 of Set 5 | honningsvag\n",
      "City not found. Skipping...\n",
      "Processing Record 9 of Set 5 | kamyzyak\n",
      "Processing Record 10 of Set 5 | ucluelet\n",
      "Processing Record 11 of Set 5 | dikson\n",
      "Processing Record 12 of Set 5 | iqaluit\n",
      "Processing Record 13 of Set 5 | uarini\n",
      "Processing Record 14 of Set 5 | saldanha\n",
      "Processing Record 15 of Set 5 | hirara\n",
      "City not found. Skipping...\n",
      "Processing Record 16 of Set 5 | mount isa\n",
      "Processing Record 17 of Set 5 | kambove\n",
      "Processing Record 18 of Set 5 | norfolk\n",
      "Processing Record 19 of Set 5 | kameoka\n",
      "Processing Record 20 of Set 5 | port blair\n",
      "Processing Record 21 of Set 5 | plouzane\n",
      "Processing Record 22 of Set 5 | vilyuysk\n",
      "Processing Record 23 of Set 5 | disna\n",
      "Processing Record 24 of Set 5 | magadan\n",
      "Processing Record 25 of Set 5 | la ronge\n",
      "Processing Record 26 of Set 5 | saint-philippe\n",
      "Processing Record 27 of Set 5 | halifax\n",
      "Processing Record 28 of Set 5 | marau\n",
      "Processing Record 29 of Set 5 | la rioja\n",
      "Processing Record 30 of Set 5 | vestmannaeyjar\n",
      "Processing Record 31 of Set 5 | port-gentil\n",
      "Processing Record 32 of Set 5 | nago\n",
      "Processing Record 33 of Set 5 | makakilo city\n",
      "Processing Record 34 of Set 5 | esperance\n",
      "City not found. Skipping...\n",
      "Processing Record 35 of Set 5 | nome\n",
      "Processing Record 36 of Set 5 | margate\n",
      "Processing Record 37 of Set 5 | cotacachi\n",
      "Processing Record 38 of Set 5 | jeremie\n",
      "Processing Record 39 of Set 5 | dullewala\n",
      "Processing Record 40 of Set 5 | cape town\n",
      "Processing Record 41 of Set 5 | codrington\n",
      "Processing Record 42 of Set 5 | shakhtinsk\n",
      "Processing Record 43 of Set 5 | hamilton\n",
      "Processing Record 44 of Set 5 | pangnirtung\n",
      "Processing Record 45 of Set 5 | srednekolymsk\n",
      "Processing Record 46 of Set 5 | dawlatabad\n",
      "Processing Record 47 of Set 5 | cravo norte\n",
      "Processing Record 48 of Set 5 | shubarshi\n",
      "Processing Record 49 of Set 5 | tuktoyaktuk\n",
      "Processing Record 1 of Set 6 | buta\n",
      "Processing Record 2 of Set 6 | lhokseumawe\n",
      "City not found. Skipping...\n",
      "Processing Record 3 of Set 6 | belaya gora\n",
      "Processing Record 4 of Set 6 | korla\n",
      "Processing Record 5 of Set 6 | ilulissat\n",
      "City not found. Skipping...\n",
      "Processing Record 6 of Set 6 | pilar\n",
      "Processing Record 7 of Set 6 | svetlaya\n",
      "Processing Record 8 of Set 6 | severo-kurilsk\n",
      "City not found. Skipping...\n",
      "Processing Record 9 of Set 6 | saint george\n",
      "Processing Record 10 of Set 6 | sao filipe\n",
      "Processing Record 11 of Set 6 | luderitz\n",
      "Processing Record 12 of Set 6 | sokolo\n",
      "Processing Record 13 of Set 6 | mabaruma\n",
      "Processing Record 14 of Set 6 | souillac\n",
      "Processing Record 15 of Set 6 | antofagasta\n",
      "City not found. Skipping...\n",
      "Processing Record 16 of Set 6 | daud khel\n",
      "City not found. Skipping...\n",
      "Processing Record 17 of Set 6 | bogotol\n",
      "Processing Record 18 of Set 6 | west wendover\n",
      "Processing Record 19 of Set 6 | mount gambier\n",
      "Processing Record 20 of Set 6 | mvuma\n",
      "Processing Record 21 of Set 6 | rocha\n",
      "Processing Record 22 of Set 6 | dawson creek\n",
      "Processing Record 23 of Set 6 | khatanga\n",
      "Processing Record 24 of Set 6 | mizdah\n",
      "Processing Record 25 of Set 6 | ancud\n",
      "Processing Record 26 of Set 6 | lancaster\n",
      "Processing Record 27 of Set 6 | vao\n",
      "Processing Record 28 of Set 6 | guane\n",
      "Processing Record 29 of Set 6 | chimbote\n",
      "City not found. Skipping...\n",
      "Processing Record 30 of Set 6 | inongo\n",
      "Processing Record 31 of Set 6 | tiksi\n",
      "Processing Record 32 of Set 6 | lakefield\n",
      "Processing Record 33 of Set 6 | arman\n",
      "Processing Record 34 of Set 6 | altay\n",
      "Processing Record 35 of Set 6 | qaqortoq\n",
      "Processing Record 36 of Set 6 | baldone\n",
      "Processing Record 37 of Set 6 | sinnamary\n",
      "Processing Record 38 of Set 6 | zelenoborskiy\n",
      "Processing Record 39 of Set 6 | melo\n",
      "Processing Record 40 of Set 6 | new iberia\n",
      "Processing Record 41 of Set 6 | grand gaube\n",
      "Processing Record 42 of Set 6 | caririacu\n",
      "Processing Record 43 of Set 6 | malia\n",
      "Processing Record 44 of Set 6 | uyuni\n",
      "City not found. Skipping...\n",
      "Processing Record 45 of Set 6 | gbarnga\n",
      "Processing Record 46 of Set 6 | paamiut\n",
      "Processing Record 47 of Set 6 | omsukchan\n",
      "Processing Record 48 of Set 6 | bonavista\n",
      "Processing Record 49 of Set 6 | jerantut\n",
      "Processing Record 1 of Set 7 | sandy bay\n",
      "Processing Record 2 of Set 7 | jacareacanga\n",
      "Processing Record 3 of Set 7 | meiganga\n",
      "Processing Record 4 of Set 7 | kloulklubed\n",
      "Processing Record 5 of Set 7 | gamba\n",
      "Processing Record 6 of Set 7 | samarkand\n",
      "City not found. Skipping...\n",
      "Processing Record 7 of Set 7 | sudak\n",
      "Processing Record 8 of Set 7 | moose factory\n",
      "Processing Record 9 of Set 7 | the pas\n",
      "Processing Record 10 of Set 7 | sistranda\n",
      "Processing Record 11 of Set 7 | clyde river\n",
      "Processing Record 12 of Set 7 | guiratinga\n",
      "Processing Record 13 of Set 7 | santa maria\n",
      "Processing Record 14 of Set 7 | omagari\n",
      "Processing Record 15 of Set 7 | alta floresta\n",
      "Processing Record 16 of Set 7 | jhelum\n",
      "Processing Record 17 of Set 7 | miri\n",
      "Processing Record 18 of Set 7 | kamsack\n",
      "Processing Record 19 of Set 7 | dunedin\n",
      "Processing Record 20 of Set 7 | katsuura\n",
      "Processing Record 21 of Set 7 | cap malheureux\n",
      "Processing Record 22 of Set 7 | dickson\n",
      "Processing Record 23 of Set 7 | tromso\n",
      "Processing Record 24 of Set 7 | pachino\n",
      "Processing Record 25 of Set 7 | cayenne\n",
      "Processing Record 26 of Set 7 | te anau\n",
      "Processing Record 27 of Set 7 | octeville\n",
      "Processing Record 28 of Set 7 | venice\n",
      "Processing Record 29 of Set 7 | ocos\n",
      "Processing Record 30 of Set 7 | saint-francois\n",
      "City not found. Skipping...\n",
      "City not found. Skipping...\n",
      "Processing Record 31 of Set 7 | sur\n",
      "Processing Record 32 of Set 7 | kalmunai\n",
      "Processing Record 33 of Set 7 | borba\n",
      "Processing Record 34 of Set 7 | tripoli\n",
      "Processing Record 35 of Set 7 | luau\n",
      "Processing Record 36 of Set 7 | vizianagaram\n",
      "Processing Record 37 of Set 7 | doka\n",
      "Processing Record 38 of Set 7 | zhigansk\n",
      "City not found. Skipping...\n",
      "Processing Record 39 of Set 7 | pijijiapan\n",
      "Processing Record 40 of Set 7 | odesskoye\n",
      "Processing Record 41 of Set 7 | bayan\n",
      "Processing Record 42 of Set 7 | leshukonskoye\n",
      "Processing Record 43 of Set 7 | ilhabela\n",
      "Processing Record 44 of Set 7 | karakulino\n",
      "Processing Record 45 of Set 7 | sao gabriel da cachoeira\n",
      "Processing Record 46 of Set 7 | wanning\n",
      "Processing Record 47 of Set 7 | dire\n",
      "Processing Record 48 of Set 7 | mayo\n",
      "Processing Record 49 of Set 7 | cidreira\n",
      "Processing Record 1 of Set 8 | verkhoyansk\n",
      "Processing Record 2 of Set 8 | abay\n",
      "Processing Record 3 of Set 8 | sabang\n",
      "Processing Record 4 of Set 8 | sibolga\n",
      "Processing Record 5 of Set 8 | kota belud\n",
      "Processing Record 6 of Set 8 | mandal\n",
      "Processing Record 7 of Set 8 | hualmay\n",
      "Processing Record 8 of Set 8 | meulaboh\n",
      "Processing Record 9 of Set 8 | ahuimanu\n",
      "Processing Record 10 of Set 8 | monywa\n",
      "Processing Record 11 of Set 8 | tukrah\n",
      "Processing Record 12 of Set 8 | mago\n",
      "Processing Record 13 of Set 8 | sharan\n",
      "Processing Record 14 of Set 8 | krasnyy chikoy\n",
      "Processing Record 15 of Set 8 | lufilufi\n",
      "Processing Record 16 of Set 8 | zabid\n",
      "Processing Record 17 of Set 8 | caravelas\n",
      "Processing Record 18 of Set 8 | pak phanang\n",
      "Processing Record 19 of Set 8 | burtunay\n",
      "Processing Record 20 of Set 8 | mezen\n",
      "Processing Record 21 of Set 8 | hazaribag\n",
      "City not found. Skipping...\n",
      "Processing Record 22 of Set 8 | rawson\n",
      "Processing Record 23 of Set 8 | san patricio\n",
      "Processing Record 24 of Set 8 | hasaki\n",
      "Processing Record 25 of Set 8 | manono\n",
      "Processing Record 26 of Set 8 | werda\n",
      "Processing Record 27 of Set 8 | gonaives\n",
      "Processing Record 28 of Set 8 | villarrica\n",
      "Processing Record 29 of Set 8 | mana\n",
      "Processing Record 30 of Set 8 | serenje\n",
      "Processing Record 31 of Set 8 | saint anthony\n",
      "Processing Record 32 of Set 8 | avera\n",
      "Processing Record 33 of Set 8 | georgiyevka\n",
      "Processing Record 34 of Set 8 | waggaman\n",
      "Processing Record 35 of Set 8 | yerbogachen\n",
      "City not found. Skipping...\n",
      "Processing Record 36 of Set 8 | changping\n",
      "Processing Record 37 of Set 8 | tuni\n",
      "Processing Record 38 of Set 8 | olafsvik\n"
     ]
    },
    {
     "name": "stdout",
     "output_type": "stream",
     "text": [
      "Processing Record 39 of Set 8 | newala\n",
      "Processing Record 40 of Set 8 | teahupoo\n",
      "Processing Record 41 of Set 8 | kilindoni\n",
      "Processing Record 42 of Set 8 | cranbourne\n",
      "Processing Record 43 of Set 8 | umba\n",
      "Processing Record 44 of Set 8 | tommot\n",
      "Processing Record 45 of Set 8 | barhi\n",
      "Processing Record 46 of Set 8 | sharjah\n",
      "Processing Record 47 of Set 8 | whitehorse\n",
      "City not found. Skipping...\n",
      "Processing Record 48 of Set 8 | thonon-les-bains\n",
      "Processing Record 49 of Set 8 | tilichiki\n",
      "Processing Record 1 of Set 9 | muzhi\n",
      "Processing Record 2 of Set 9 | vallenar\n",
      "Processing Record 3 of Set 9 | shumikha\n",
      "Processing Record 4 of Set 9 | imbituba\n",
      "Processing Record 5 of Set 9 | banska stiavnica\n",
      "City not found. Skipping...\n",
      "Processing Record 6 of Set 9 | sorong\n",
      "Processing Record 7 of Set 9 | aksarka\n",
      "Processing Record 8 of Set 9 | morro bay\n",
      "City not found. Skipping...\n",
      "Processing Record 9 of Set 9 | menongue\n",
      "Processing Record 10 of Set 9 | moerai\n",
      "Processing Record 11 of Set 9 | siniscola\n",
      "Processing Record 12 of Set 9 | dubovskoye\n",
      "Processing Record 13 of Set 9 | yeniseysk\n",
      "Processing Record 14 of Set 9 | rio grande\n",
      "City not found. Skipping...\n",
      "Processing Record 15 of Set 9 | pimentel\n",
      "Processing Record 16 of Set 9 | cartagena\n",
      "Processing Record 17 of Set 9 | vestmanna\n",
      "Processing Record 18 of Set 9 | gewane\n",
      "Processing Record 19 of Set 9 | sao jose da coroa grande\n",
      "Processing Record 20 of Set 9 | airai\n",
      "Processing Record 21 of Set 9 | tete\n",
      "Processing Record 22 of Set 9 | todos santos\n",
      "Processing Record 23 of Set 9 | tautira\n",
      "Processing Record 24 of Set 9 | gravdal\n",
      "Processing Record 25 of Set 9 | kushmurun\n",
      "City not found. Skipping...\n",
      "Processing Record 26 of Set 9 | sao joao da barra\n",
      "Processing Record 27 of Set 9 | sitka\n",
      "Processing Record 28 of Set 9 | owatonna\n",
      "Processing Record 29 of Set 9 | noumea\n",
      "Processing Record 30 of Set 9 | muros\n",
      "Processing Record 31 of Set 9 | the valley\n",
      "Processing Record 32 of Set 9 | bathsheba\n",
      "Processing Record 33 of Set 9 | kropotkin\n",
      "Processing Record 34 of Set 9 | mangrol\n",
      "City not found. Skipping...\n",
      "Processing Record 35 of Set 9 | ostrovnoy\n",
      "Processing Record 36 of Set 9 | viransehir\n",
      "Processing Record 37 of Set 9 | puerto carreno\n",
      "Processing Record 38 of Set 9 | buchanan\n",
      "Processing Record 39 of Set 9 | pisco\n",
      "Processing Record 40 of Set 9 | mayumba\n",
      "Processing Record 41 of Set 9 | moindou\n",
      "City not found. Skipping...\n",
      "Processing Record 42 of Set 9 | steinbach\n",
      "Processing Record 43 of Set 9 | lompoc\n",
      "City not found. Skipping...\n",
      "Processing Record 44 of Set 9 | vyshhorod\n",
      "Processing Record 45 of Set 9 | izhma\n",
      "Processing Record 46 of Set 9 | ewa beach\n",
      "Processing Record 47 of Set 9 | oranjestad\n",
      "Processing Record 48 of Set 9 | touros\n",
      "Processing Record 49 of Set 9 | chizhou\n",
      "Processing Record 1 of Set 10 | kontagora\n",
      "Processing Record 2 of Set 10 | pahrump\n",
      "Processing Record 3 of Set 10 | pirgos\n",
      "Processing Record 4 of Set 10 | wahiawa\n",
      "Processing Record 5 of Set 10 | umuarama\n",
      "Processing Record 6 of Set 10 | mackay\n",
      "Processing Record 7 of Set 10 | tokmak\n",
      "Processing Record 8 of Set 10 | mosquera\n",
      "Processing Record 9 of Set 10 | kinsale\n",
      "City not found. Skipping...\n",
      "Processing Record 10 of Set 10 | palmer\n",
      "City not found. Skipping...\n",
      "Processing Record 11 of Set 10 | fairbanks\n",
      "Processing Record 12 of Set 10 | grindavik\n",
      "Processing Record 13 of Set 10 | babushkin\n",
      "Processing Record 14 of Set 10 | rio gallegos\n",
      "Processing Record 15 of Set 10 | raudeberg\n",
      "Processing Record 16 of Set 10 | huntington\n",
      "Processing Record 17 of Set 10 | tabou\n",
      "Processing Record 18 of Set 10 | mogadishu\n",
      "City not found. Skipping...\n",
      "Processing Record 19 of Set 10 | tessalit\n",
      "Processing Record 20 of Set 10 | bermeo\n",
      "Processing Record 21 of Set 10 | bubaque\n",
      "City not found. Skipping...\n",
      "Processing Record 22 of Set 10 | gillette\n",
      "Processing Record 23 of Set 10 | san policarpo\n",
      "City not found. Skipping...\n",
      "Processing Record 24 of Set 10 | verkhovazhye\n",
      "Processing Record 25 of Set 10 | gulu\n",
      "Processing Record 26 of Set 10 | okato\n",
      "Processing Record 27 of Set 10 | barabinsk\n",
      "Processing Record 28 of Set 10 | aykhal\n",
      "Processing Record 29 of Set 10 | silopi\n",
      "Processing Record 30 of Set 10 | gashua\n",
      "Processing Record 31 of Set 10 | husavik\n",
      "Processing Record 32 of Set 10 | san cristobal\n",
      "Processing Record 33 of Set 10 | anadyr\n",
      "Processing Record 34 of Set 10 | malaya serdoba\n",
      "City not found. Skipping...\n",
      "Processing Record 35 of Set 10 | laramie\n",
      "Processing Record 36 of Set 10 | antalaha\n",
      "Processing Record 37 of Set 10 | tual\n",
      "Processing Record 38 of Set 10 | hare bay\n",
      "Processing Record 39 of Set 10 | portel\n",
      "Processing Record 40 of Set 10 | ormara\n",
      "Processing Record 41 of Set 10 | bolshaya martynovka\n",
      "Processing Record 42 of Set 10 | petrivka\n",
      "Processing Record 43 of Set 10 | buala\n",
      "City not found. Skipping...\n",
      "Processing Record 44 of Set 10 | uruzgan\n",
      "Processing Record 45 of Set 10 | jilib\n",
      "Processing Record 46 of Set 10 | sambava\n",
      "Processing Record 47 of Set 10 | naze\n",
      "Processing Record 48 of Set 10 | broome\n",
      "Processing Record 49 of Set 10 | batemans bay\n",
      "Processing Record 1 of Set 11 | yulara\n",
      "Processing Record 2 of Set 11 | lasa\n",
      "Processing Record 3 of Set 11 | honiton\n",
      "Processing Record 4 of Set 11 | mombasa\n",
      "Processing Record 5 of Set 11 | amaigbo\n",
      "Processing Record 6 of Set 11 | kihei\n",
      "Processing Record 7 of Set 11 | mayahi\n",
      "Processing Record 8 of Set 11 | atasu\n",
      "Processing Record 9 of Set 11 | labuhan\n",
      "Processing Record 10 of Set 11 | carutapera\n",
      "Processing Record 11 of Set 11 | puerto baquerizo moreno\n",
      "Processing Record 12 of Set 11 | oksfjord\n",
      "Processing Record 13 of Set 11 | coolum beach\n",
      "Processing Record 14 of Set 11 | huarmey\n",
      "City not found. Skipping...\n",
      "Processing Record 15 of Set 11 | barcelos\n",
      "Processing Record 16 of Set 11 | kijang\n",
      "Processing Record 17 of Set 11 | chunhuhub\n",
      "Processing Record 18 of Set 11 | kysyl-syr\n",
      "Processing Record 19 of Set 11 | eydhafushi\n",
      "Processing Record 20 of Set 11 | dicabisagan\n",
      "Processing Record 21 of Set 11 | praia\n",
      "Processing Record 22 of Set 11 | iznoski\n",
      "Processing Record 23 of Set 11 | buraydah\n",
      "Processing Record 24 of Set 11 | bogorodskoye\n",
      "Processing Record 25 of Set 11 | prado\n",
      "Processing Record 26 of Set 11 | turukhansk\n",
      "Processing Record 27 of Set 11 | rorvik\n",
      "Processing Record 28 of Set 11 | lethem\n",
      "Processing Record 29 of Set 11 | bairiki\n",
      "Processing Record 30 of Set 11 | bandarbeyla\n",
      "City not found. Skipping...\n",
      "Processing Record 31 of Set 11 | beringovskiy\n",
      "Processing Record 32 of Set 11 | ahipara\n",
      "Processing Record 33 of Set 11 | paramonga\n",
      "Processing Record 34 of Set 11 | vila velha\n",
      "Processing Record 35 of Set 11 | ugoofaaru\n",
      "Processing Record 36 of Set 11 | yarmouth\n",
      "City not found. Skipping...\n",
      "City not found. Skipping...\n",
      "Processing Record 37 of Set 11 | porec\n",
      "Processing Record 38 of Set 11 | uhlove\n",
      "Processing Record 39 of Set 11 | elliot\n",
      "Processing Record 40 of Set 11 | velyka lepetykha\n",
      "Processing Record 41 of Set 11 | tacotalpa\n",
      "Processing Record 42 of Set 11 | tazovskiy\n",
      "Processing Record 43 of Set 11 | vista hermosa\n",
      "Processing Record 44 of Set 11 | saint-augustin\n",
      "Processing Record 45 of Set 11 | kaseda\n",
      "Processing Record 46 of Set 11 | vermillion\n",
      "Processing Record 47 of Set 11 | talcahuano\n",
      "Processing Record 48 of Set 11 | burghausen\n",
      "Processing Record 49 of Set 11 | greifswald\n",
      "Processing Record 1 of Set 12 | nouadhibou\n",
      "Processing Record 2 of Set 12 | bethel\n",
      "Processing Record 3 of Set 12 | auki\n",
      "Processing Record 4 of Set 12 | patea\n",
      "Processing Record 5 of Set 12 | ayan\n",
      "Processing Record 6 of Set 12 | macau\n",
      "Processing Record 7 of Set 12 | orzu\n",
      "Processing Record 8 of Set 12 | port lincoln\n",
      "Processing Record 9 of Set 12 | dunmore town\n",
      "Processing Record 10 of Set 12 | grahamstown\n",
      "Processing Record 11 of Set 12 | kudahuvadhoo\n",
      "-----------------------------\n",
      "Data Retrieval Complete\n",
      "-----------------------------\n"
     ]
    }
   ],
   "source": [
    "# Try to grab the data of cities if they are available \n",
    "print('Beginning Data Retrieval')\n",
    "print('-----------------------------')\n",
    "\n",
    "# For loop all the cities\n",
    "for city in cities:\n",
    "# Put the data in the empty lists     \n",
    "    try:\n",
    "        response = requests.get(query_url + city).json() \n",
    "        lat.append(response['coord']['lat'])\n",
    "        lng.append(response['coord']['lon'])\n",
    "        max_temp.append(response['main']['temp_max'])\n",
    "        humidity.append(response['main']['humidity'])\n",
    "        cloudiness.append(response['clouds']['all'])\n",
    "        windspeed.append(response['wind']['speed'])\n",
    "        date.append(response['dt'])\n",
    "        city2.append(city)\n",
    "\n",
    "# Print log of each city\n",
    "        if record > 48:\n",
    "            record = 1\n",
    "            set_key += 1\n",
    "            \n",
    "        else: \n",
    "            record += 1\n",
    "            \n",
    "        print(f'Processing Record {record} of Set {set_key} | {city}')\n",
    "    except:\n",
    "        print('City not found. Skipping...')\n",
    "print('-----------------------------')\n",
    "print('Data Retrieval Complete')\n",
    "print('-----------------------------')"
   ]
  },
  {
   "cell_type": "markdown",
   "metadata": {},
   "source": [
    "### Convert Raw Data to DataFrame\n",
    "* Export the city data into a .csv.\n",
    "* Display the DataFrame"
   ]
  },
  {
   "cell_type": "code",
   "execution_count": 7,
   "metadata": {},
   "outputs": [
    {
     "data": {
      "text/html": [
       "<div>\n",
       "<style scoped>\n",
       "    .dataframe tbody tr th:only-of-type {\n",
       "        vertical-align: middle;\n",
       "    }\n",
       "\n",
       "    .dataframe tbody tr th {\n",
       "        vertical-align: top;\n",
       "    }\n",
       "\n",
       "    .dataframe thead th {\n",
       "        text-align: right;\n",
       "    }\n",
       "</style>\n",
       "<table border=\"1\" class=\"dataframe\">\n",
       "  <thead>\n",
       "    <tr style=\"text-align: right;\">\n",
       "      <th></th>\n",
       "      <th>City</th>\n",
       "      <th>Lat</th>\n",
       "      <th>Lng</th>\n",
       "      <th>Max temp</th>\n",
       "      <th>Humidity</th>\n",
       "      <th>Cloudiness</th>\n",
       "      <th>Wind Speed</th>\n",
       "      <th>Date</th>\n",
       "    </tr>\n",
       "  </thead>\n",
       "  <tbody>\n",
       "    <tr>\n",
       "      <th>0</th>\n",
       "      <td>killarney</td>\n",
       "      <td>52.0500</td>\n",
       "      <td>-9.5167</td>\n",
       "      <td>37.29</td>\n",
       "      <td>92</td>\n",
       "      <td>81</td>\n",
       "      <td>3.27</td>\n",
       "      <td>1612594713</td>\n",
       "    </tr>\n",
       "    <tr>\n",
       "      <th>1</th>\n",
       "      <td>hambantota</td>\n",
       "      <td>6.1241</td>\n",
       "      <td>81.1185</td>\n",
       "      <td>87.80</td>\n",
       "      <td>70</td>\n",
       "      <td>40</td>\n",
       "      <td>5.75</td>\n",
       "      <td>1612594713</td>\n",
       "    </tr>\n",
       "    <tr>\n",
       "      <th>2</th>\n",
       "      <td>jamestown</td>\n",
       "      <td>42.0970</td>\n",
       "      <td>-79.2353</td>\n",
       "      <td>21.99</td>\n",
       "      <td>93</td>\n",
       "      <td>90</td>\n",
       "      <td>13.80</td>\n",
       "      <td>1612594714</td>\n",
       "    </tr>\n",
       "    <tr>\n",
       "      <th>3</th>\n",
       "      <td>vila franca do campo</td>\n",
       "      <td>37.7167</td>\n",
       "      <td>-25.4333</td>\n",
       "      <td>57.99</td>\n",
       "      <td>88</td>\n",
       "      <td>75</td>\n",
       "      <td>5.75</td>\n",
       "      <td>1612594714</td>\n",
       "    </tr>\n",
       "    <tr>\n",
       "      <th>4</th>\n",
       "      <td>tuatapere</td>\n",
       "      <td>-46.1333</td>\n",
       "      <td>167.6833</td>\n",
       "      <td>60.44</td>\n",
       "      <td>74</td>\n",
       "      <td>6</td>\n",
       "      <td>3.96</td>\n",
       "      <td>1612594714</td>\n",
       "    </tr>\n",
       "  </tbody>\n",
       "</table>\n",
       "</div>"
      ],
      "text/plain": [
       "                   City      Lat       Lng  Max temp  Humidity  Cloudiness  \\\n",
       "0             killarney  52.0500   -9.5167     37.29        92          81   \n",
       "1            hambantota   6.1241   81.1185     87.80        70          40   \n",
       "2             jamestown  42.0970  -79.2353     21.99        93          90   \n",
       "3  vila franca do campo  37.7167  -25.4333     57.99        88          75   \n",
       "4             tuatapere -46.1333  167.6833     60.44        74           6   \n",
       "\n",
       "   Wind Speed        Date  \n",
       "0        3.27  1612594713  \n",
       "1        5.75  1612594713  \n",
       "2       13.80  1612594714  \n",
       "3        5.75  1612594714  \n",
       "4        3.96  1612594714  "
      ]
     },
     "execution_count": 7,
     "metadata": {},
     "output_type": "execute_result"
    }
   ],
   "source": [
    "# Create dictionary of city data\n",
    "cities_data_dict={\n",
    "    'City': city2,\n",
    "    'Lat': lat,\n",
    "    'Lng': lng,\n",
    "    'Max temp': max_temp,\n",
    "    'Humidity': humidity,\n",
    "    'Cloudiness': cloudiness,\n",
    "    'Wind Speed': windspeed,\n",
    "    'Date': date\n",
    "}\n",
    "\n",
    "# Print the DataFrame\n",
    "city_df = pd.DataFrame(cities_data_dict)\n",
    "city_df.head()"
   ]
  },
  {
   "cell_type": "code",
   "execution_count": 8,
   "metadata": {},
   "outputs": [
    {
     "data": {
      "text/html": [
       "<div>\n",
       "<style scoped>\n",
       "    .dataframe tbody tr th:only-of-type {\n",
       "        vertical-align: middle;\n",
       "    }\n",
       "\n",
       "    .dataframe tbody tr th {\n",
       "        vertical-align: top;\n",
       "    }\n",
       "\n",
       "    .dataframe thead th {\n",
       "        text-align: right;\n",
       "    }\n",
       "</style>\n",
       "<table border=\"1\" class=\"dataframe\">\n",
       "  <thead>\n",
       "    <tr style=\"text-align: right;\">\n",
       "      <th></th>\n",
       "      <th>Lat</th>\n",
       "      <th>Lng</th>\n",
       "      <th>Max temp</th>\n",
       "      <th>Humidity</th>\n",
       "      <th>Cloudiness</th>\n",
       "      <th>Wind Speed</th>\n",
       "      <th>Date</th>\n",
       "    </tr>\n",
       "  </thead>\n",
       "  <tbody>\n",
       "    <tr>\n",
       "      <th>count</th>\n",
       "      <td>550.000000</td>\n",
       "      <td>550.000000</td>\n",
       "      <td>550.000000</td>\n",
       "      <td>550.000000</td>\n",
       "      <td>550.000000</td>\n",
       "      <td>550.000000</td>\n",
       "      <td>5.500000e+02</td>\n",
       "    </tr>\n",
       "    <tr>\n",
       "      <th>mean</th>\n",
       "      <td>20.848101</td>\n",
       "      <td>14.843503</td>\n",
       "      <td>50.378109</td>\n",
       "      <td>73.592727</td>\n",
       "      <td>52.754545</td>\n",
       "      <td>8.197891</td>\n",
       "      <td>1.612595e+09</td>\n",
       "    </tr>\n",
       "    <tr>\n",
       "      <th>std</th>\n",
       "      <td>33.211951</td>\n",
       "      <td>90.753188</td>\n",
       "      <td>31.556052</td>\n",
       "      <td>20.111473</td>\n",
       "      <td>41.093076</td>\n",
       "      <td>5.567249</td>\n",
       "      <td>5.605612e+01</td>\n",
       "    </tr>\n",
       "    <tr>\n",
       "      <th>min</th>\n",
       "      <td>-54.800000</td>\n",
       "      <td>-179.166700</td>\n",
       "      <td>-43.600000</td>\n",
       "      <td>13.000000</td>\n",
       "      <td>0.000000</td>\n",
       "      <td>0.130000</td>\n",
       "      <td>1.612594e+09</td>\n",
       "    </tr>\n",
       "    <tr>\n",
       "      <th>25%</th>\n",
       "      <td>-6.872475</td>\n",
       "      <td>-65.106800</td>\n",
       "      <td>32.000000</td>\n",
       "      <td>65.000000</td>\n",
       "      <td>3.000000</td>\n",
       "      <td>3.650000</td>\n",
       "      <td>1.612595e+09</td>\n",
       "    </tr>\n",
       "    <tr>\n",
       "      <th>50%</th>\n",
       "      <td>24.250000</td>\n",
       "      <td>18.359600</td>\n",
       "      <td>60.800000</td>\n",
       "      <td>78.000000</td>\n",
       "      <td>58.500000</td>\n",
       "      <td>6.910000</td>\n",
       "      <td>1.612595e+09</td>\n",
       "    </tr>\n",
       "    <tr>\n",
       "      <th>75%</th>\n",
       "      <td>48.552550</td>\n",
       "      <td>84.866675</td>\n",
       "      <td>75.200000</td>\n",
       "      <td>89.000000</td>\n",
       "      <td>98.750000</td>\n",
       "      <td>11.180000</td>\n",
       "      <td>1.612595e+09</td>\n",
       "    </tr>\n",
       "    <tr>\n",
       "      <th>max</th>\n",
       "      <td>78.218600</td>\n",
       "      <td>179.316700</td>\n",
       "      <td>95.000000</td>\n",
       "      <td>100.000000</td>\n",
       "      <td>100.000000</td>\n",
       "      <td>31.880000</td>\n",
       "      <td>1.612595e+09</td>\n",
       "    </tr>\n",
       "  </tbody>\n",
       "</table>\n",
       "</div>"
      ],
      "text/plain": [
       "              Lat         Lng    Max temp    Humidity  Cloudiness  Wind Speed  \\\n",
       "count  550.000000  550.000000  550.000000  550.000000  550.000000  550.000000   \n",
       "mean    20.848101   14.843503   50.378109   73.592727   52.754545    8.197891   \n",
       "std     33.211951   90.753188   31.556052   20.111473   41.093076    5.567249   \n",
       "min    -54.800000 -179.166700  -43.600000   13.000000    0.000000    0.130000   \n",
       "25%     -6.872475  -65.106800   32.000000   65.000000    3.000000    3.650000   \n",
       "50%     24.250000   18.359600   60.800000   78.000000   58.500000    6.910000   \n",
       "75%     48.552550   84.866675   75.200000   89.000000   98.750000   11.180000   \n",
       "max     78.218600  179.316700   95.000000  100.000000  100.000000   31.880000   \n",
       "\n",
       "               Date  \n",
       "count  5.500000e+02  \n",
       "mean   1.612595e+09  \n",
       "std    5.605612e+01  \n",
       "min    1.612594e+09  \n",
       "25%    1.612595e+09  \n",
       "50%    1.612595e+09  \n",
       "75%    1.612595e+09  \n",
       "max    1.612595e+09  "
      ]
     },
     "execution_count": 8,
     "metadata": {},
     "output_type": "execute_result"
    }
   ],
   "source": [
    "# Describe the DataFrame\n",
    "city_df.describe()"
   ]
  },
  {
   "cell_type": "markdown",
   "metadata": {},
   "source": [
    "## Inspect the data and remove the cities where the humidity > 100%.\n",
    "----\n",
    "Skip this step if there are no cities that have humidity > 100%. "
   ]
  },
  {
   "cell_type": "code",
   "execution_count": 9,
   "metadata": {},
   "outputs": [
    {
     "data": {
      "text/html": [
       "<div>\n",
       "<style scoped>\n",
       "    .dataframe tbody tr th:only-of-type {\n",
       "        vertical-align: middle;\n",
       "    }\n",
       "\n",
       "    .dataframe tbody tr th {\n",
       "        vertical-align: top;\n",
       "    }\n",
       "\n",
       "    .dataframe thead th {\n",
       "        text-align: right;\n",
       "    }\n",
       "</style>\n",
       "<table border=\"1\" class=\"dataframe\">\n",
       "  <thead>\n",
       "    <tr style=\"text-align: right;\">\n",
       "      <th></th>\n",
       "      <th>City</th>\n",
       "      <th>Lat</th>\n",
       "      <th>Lng</th>\n",
       "      <th>Max temp</th>\n",
       "      <th>Humidity</th>\n",
       "      <th>Cloudiness</th>\n",
       "      <th>Wind Speed</th>\n",
       "      <th>Date</th>\n",
       "    </tr>\n",
       "  </thead>\n",
       "  <tbody>\n",
       "  </tbody>\n",
       "</table>\n",
       "</div>"
      ],
      "text/plain": [
       "Empty DataFrame\n",
       "Columns: [City, Lat, Lng, Max temp, Humidity, Cloudiness, Wind Speed, Date]\n",
       "Index: []"
      ]
     },
     "execution_count": 9,
     "metadata": {},
     "output_type": "execute_result"
    }
   ],
   "source": [
    "# Create filter for cities that have humidity above 100%\n",
    "filt = city_df['Humidity'] > 100  \n",
    "city_df[filt]"
   ]
  },
  {
   "cell_type": "code",
   "execution_count": 10,
   "metadata": {},
   "outputs": [
    {
     "data": {
      "text/html": [
       "<div>\n",
       "<style scoped>\n",
       "    .dataframe tbody tr th:only-of-type {\n",
       "        vertical-align: middle;\n",
       "    }\n",
       "\n",
       "    .dataframe tbody tr th {\n",
       "        vertical-align: top;\n",
       "    }\n",
       "\n",
       "    .dataframe thead th {\n",
       "        text-align: right;\n",
       "    }\n",
       "</style>\n",
       "<table border=\"1\" class=\"dataframe\">\n",
       "  <thead>\n",
       "    <tr style=\"text-align: right;\">\n",
       "      <th></th>\n",
       "      <th>Lat</th>\n",
       "      <th>Lng</th>\n",
       "      <th>Max temp</th>\n",
       "      <th>Humidity</th>\n",
       "      <th>Cloudiness</th>\n",
       "      <th>Wind Speed</th>\n",
       "      <th>Date</th>\n",
       "    </tr>\n",
       "  </thead>\n",
       "  <tbody>\n",
       "    <tr>\n",
       "      <th>count</th>\n",
       "      <td>550.000000</td>\n",
       "      <td>550.000000</td>\n",
       "      <td>550.000000</td>\n",
       "      <td>550.000000</td>\n",
       "      <td>550.000000</td>\n",
       "      <td>550.000000</td>\n",
       "      <td>5.500000e+02</td>\n",
       "    </tr>\n",
       "    <tr>\n",
       "      <th>mean</th>\n",
       "      <td>20.848101</td>\n",
       "      <td>14.843503</td>\n",
       "      <td>50.378109</td>\n",
       "      <td>73.592727</td>\n",
       "      <td>52.754545</td>\n",
       "      <td>8.197891</td>\n",
       "      <td>1.612595e+09</td>\n",
       "    </tr>\n",
       "    <tr>\n",
       "      <th>std</th>\n",
       "      <td>33.211951</td>\n",
       "      <td>90.753188</td>\n",
       "      <td>31.556052</td>\n",
       "      <td>20.111473</td>\n",
       "      <td>41.093076</td>\n",
       "      <td>5.567249</td>\n",
       "      <td>5.605612e+01</td>\n",
       "    </tr>\n",
       "    <tr>\n",
       "      <th>min</th>\n",
       "      <td>-54.800000</td>\n",
       "      <td>-179.166700</td>\n",
       "      <td>-43.600000</td>\n",
       "      <td>13.000000</td>\n",
       "      <td>0.000000</td>\n",
       "      <td>0.130000</td>\n",
       "      <td>1.612594e+09</td>\n",
       "    </tr>\n",
       "    <tr>\n",
       "      <th>25%</th>\n",
       "      <td>-6.872475</td>\n",
       "      <td>-65.106800</td>\n",
       "      <td>32.000000</td>\n",
       "      <td>65.000000</td>\n",
       "      <td>3.000000</td>\n",
       "      <td>3.650000</td>\n",
       "      <td>1.612595e+09</td>\n",
       "    </tr>\n",
       "    <tr>\n",
       "      <th>50%</th>\n",
       "      <td>24.250000</td>\n",
       "      <td>18.359600</td>\n",
       "      <td>60.800000</td>\n",
       "      <td>78.000000</td>\n",
       "      <td>58.500000</td>\n",
       "      <td>6.910000</td>\n",
       "      <td>1.612595e+09</td>\n",
       "    </tr>\n",
       "    <tr>\n",
       "      <th>75%</th>\n",
       "      <td>48.552550</td>\n",
       "      <td>84.866675</td>\n",
       "      <td>75.200000</td>\n",
       "      <td>89.000000</td>\n",
       "      <td>98.750000</td>\n",
       "      <td>11.180000</td>\n",
       "      <td>1.612595e+09</td>\n",
       "    </tr>\n",
       "    <tr>\n",
       "      <th>max</th>\n",
       "      <td>78.218600</td>\n",
       "      <td>179.316700</td>\n",
       "      <td>95.000000</td>\n",
       "      <td>100.000000</td>\n",
       "      <td>100.000000</td>\n",
       "      <td>31.880000</td>\n",
       "      <td>1.612595e+09</td>\n",
       "    </tr>\n",
       "  </tbody>\n",
       "</table>\n",
       "</div>"
      ],
      "text/plain": [
       "              Lat         Lng    Max temp    Humidity  Cloudiness  Wind Speed  \\\n",
       "count  550.000000  550.000000  550.000000  550.000000  550.000000  550.000000   \n",
       "mean    20.848101   14.843503   50.378109   73.592727   52.754545    8.197891   \n",
       "std     33.211951   90.753188   31.556052   20.111473   41.093076    5.567249   \n",
       "min    -54.800000 -179.166700  -43.600000   13.000000    0.000000    0.130000   \n",
       "25%     -6.872475  -65.106800   32.000000   65.000000    3.000000    3.650000   \n",
       "50%     24.250000   18.359600   60.800000   78.000000   58.500000    6.910000   \n",
       "75%     48.552550   84.866675   75.200000   89.000000   98.750000   11.180000   \n",
       "max     78.218600  179.316700   95.000000  100.000000  100.000000   31.880000   \n",
       "\n",
       "               Date  \n",
       "count  5.500000e+02  \n",
       "mean   1.612595e+09  \n",
       "std    5.605612e+01  \n",
       "min    1.612594e+09  \n",
       "25%    1.612595e+09  \n",
       "50%    1.612595e+09  \n",
       "75%    1.612595e+09  \n",
       "max    1.612595e+09  "
      ]
     },
     "execution_count": 10,
     "metadata": {},
     "output_type": "execute_result"
    }
   ],
   "source": [
    "# Inspect the data \n",
    "city_df.describe()"
   ]
  },
  {
   "cell_type": "code",
   "execution_count": 11,
   "metadata": {},
   "outputs": [
    {
     "data": {
      "text/plain": [
       "Int64Index([], dtype='int64')"
      ]
     },
     "execution_count": 11,
     "metadata": {},
     "output_type": "execute_result"
    }
   ],
   "source": [
    "#  Get the indices of cities that have humidity over 100%.\n",
    "city_df[filt].index"
   ]
  },
  {
   "cell_type": "code",
   "execution_count": 12,
   "metadata": {},
   "outputs": [
    {
     "data": {
      "text/html": [
       "<div>\n",
       "<style scoped>\n",
       "    .dataframe tbody tr th:only-of-type {\n",
       "        vertical-align: middle;\n",
       "    }\n",
       "\n",
       "    .dataframe tbody tr th {\n",
       "        vertical-align: top;\n",
       "    }\n",
       "\n",
       "    .dataframe thead th {\n",
       "        text-align: right;\n",
       "    }\n",
       "</style>\n",
       "<table border=\"1\" class=\"dataframe\">\n",
       "  <thead>\n",
       "    <tr style=\"text-align: right;\">\n",
       "      <th></th>\n",
       "      <th>City</th>\n",
       "      <th>Lat</th>\n",
       "      <th>Lng</th>\n",
       "      <th>Max temp</th>\n",
       "      <th>Humidity</th>\n",
       "      <th>Cloudiness</th>\n",
       "      <th>Wind Speed</th>\n",
       "      <th>Date</th>\n",
       "    </tr>\n",
       "  </thead>\n",
       "  <tbody>\n",
       "    <tr>\n",
       "      <th>0</th>\n",
       "      <td>killarney</td>\n",
       "      <td>52.0500</td>\n",
       "      <td>-9.5167</td>\n",
       "      <td>37.29</td>\n",
       "      <td>92</td>\n",
       "      <td>81</td>\n",
       "      <td>3.27</td>\n",
       "      <td>1612594713</td>\n",
       "    </tr>\n",
       "    <tr>\n",
       "      <th>1</th>\n",
       "      <td>hambantota</td>\n",
       "      <td>6.1241</td>\n",
       "      <td>81.1185</td>\n",
       "      <td>87.80</td>\n",
       "      <td>70</td>\n",
       "      <td>40</td>\n",
       "      <td>5.75</td>\n",
       "      <td>1612594713</td>\n",
       "    </tr>\n",
       "    <tr>\n",
       "      <th>2</th>\n",
       "      <td>jamestown</td>\n",
       "      <td>42.0970</td>\n",
       "      <td>-79.2353</td>\n",
       "      <td>21.99</td>\n",
       "      <td>93</td>\n",
       "      <td>90</td>\n",
       "      <td>13.80</td>\n",
       "      <td>1612594714</td>\n",
       "    </tr>\n",
       "    <tr>\n",
       "      <th>3</th>\n",
       "      <td>vila franca do campo</td>\n",
       "      <td>37.7167</td>\n",
       "      <td>-25.4333</td>\n",
       "      <td>57.99</td>\n",
       "      <td>88</td>\n",
       "      <td>75</td>\n",
       "      <td>5.75</td>\n",
       "      <td>1612594714</td>\n",
       "    </tr>\n",
       "    <tr>\n",
       "      <th>4</th>\n",
       "      <td>tuatapere</td>\n",
       "      <td>-46.1333</td>\n",
       "      <td>167.6833</td>\n",
       "      <td>60.44</td>\n",
       "      <td>74</td>\n",
       "      <td>6</td>\n",
       "      <td>3.96</td>\n",
       "      <td>1612594714</td>\n",
       "    </tr>\n",
       "    <tr>\n",
       "      <th>...</th>\n",
       "      <td>...</td>\n",
       "      <td>...</td>\n",
       "      <td>...</td>\n",
       "      <td>...</td>\n",
       "      <td>...</td>\n",
       "      <td>...</td>\n",
       "      <td>...</td>\n",
       "      <td>...</td>\n",
       "    </tr>\n",
       "    <tr>\n",
       "      <th>545</th>\n",
       "      <td>orzu</td>\n",
       "      <td>37.5593</td>\n",
       "      <td>68.8184</td>\n",
       "      <td>57.20</td>\n",
       "      <td>35</td>\n",
       "      <td>40</td>\n",
       "      <td>6.71</td>\n",
       "      <td>1612594840</td>\n",
       "    </tr>\n",
       "    <tr>\n",
       "      <th>546</th>\n",
       "      <td>port lincoln</td>\n",
       "      <td>-34.7333</td>\n",
       "      <td>135.8667</td>\n",
       "      <td>66.36</td>\n",
       "      <td>71</td>\n",
       "      <td>100</td>\n",
       "      <td>17.85</td>\n",
       "      <td>1612594841</td>\n",
       "    </tr>\n",
       "    <tr>\n",
       "      <th>547</th>\n",
       "      <td>dunmore town</td>\n",
       "      <td>25.5000</td>\n",
       "      <td>-76.6500</td>\n",
       "      <td>74.35</td>\n",
       "      <td>85</td>\n",
       "      <td>0</td>\n",
       "      <td>14.14</td>\n",
       "      <td>1612594841</td>\n",
       "    </tr>\n",
       "    <tr>\n",
       "      <th>548</th>\n",
       "      <td>grahamstown</td>\n",
       "      <td>-33.3042</td>\n",
       "      <td>26.5328</td>\n",
       "      <td>75.00</td>\n",
       "      <td>85</td>\n",
       "      <td>78</td>\n",
       "      <td>1.99</td>\n",
       "      <td>1612594842</td>\n",
       "    </tr>\n",
       "    <tr>\n",
       "      <th>549</th>\n",
       "      <td>kudahuvadhoo</td>\n",
       "      <td>2.6708</td>\n",
       "      <td>72.8944</td>\n",
       "      <td>81.48</td>\n",
       "      <td>73</td>\n",
       "      <td>76</td>\n",
       "      <td>12.19</td>\n",
       "      <td>1612594842</td>\n",
       "    </tr>\n",
       "  </tbody>\n",
       "</table>\n",
       "<p>550 rows × 8 columns</p>\n",
       "</div>"
      ],
      "text/plain": [
       "                     City      Lat       Lng  Max temp  Humidity  Cloudiness  \\\n",
       "0               killarney  52.0500   -9.5167     37.29        92          81   \n",
       "1              hambantota   6.1241   81.1185     87.80        70          40   \n",
       "2               jamestown  42.0970  -79.2353     21.99        93          90   \n",
       "3    vila franca do campo  37.7167  -25.4333     57.99        88          75   \n",
       "4               tuatapere -46.1333  167.6833     60.44        74           6   \n",
       "..                    ...      ...       ...       ...       ...         ...   \n",
       "545                  orzu  37.5593   68.8184     57.20        35          40   \n",
       "546          port lincoln -34.7333  135.8667     66.36        71         100   \n",
       "547          dunmore town  25.5000  -76.6500     74.35        85           0   \n",
       "548           grahamstown -33.3042   26.5328     75.00        85          78   \n",
       "549          kudahuvadhoo   2.6708   72.8944     81.48        73          76   \n",
       "\n",
       "     Wind Speed        Date  \n",
       "0          3.27  1612594713  \n",
       "1          5.75  1612594713  \n",
       "2         13.80  1612594714  \n",
       "3          5.75  1612594714  \n",
       "4          3.96  1612594714  \n",
       "..          ...         ...  \n",
       "545        6.71  1612594840  \n",
       "546       17.85  1612594841  \n",
       "547       14.14  1612594841  \n",
       "548        1.99  1612594842  \n",
       "549       12.19  1612594842  \n",
       "\n",
       "[550 rows x 8 columns]"
      ]
     },
     "execution_count": 12,
     "metadata": {},
     "output_type": "execute_result"
    }
   ],
   "source": [
    "# Make a new DataFrame equal to the city data to drop all humidity outliers by index.\n",
    "# Passing \"inplace=False\" will make a copy of the city_data DataFrame, which we call \"clean_city_data\".\n",
    "clean_city_data = city_df.drop(city_df[city_df['Humidity'] > 100].index, inplace = False)\n",
    "clean_city_data"
   ]
  },
  {
   "cell_type": "markdown",
   "metadata": {},
   "source": [
    "## Plotting the Data\n",
    "* Use proper labeling of the plots using plot titles (including date of analysis) and axes labels.\n",
    "* Save the plotted figures as .pngs."
   ]
  },
  {
   "cell_type": "markdown",
   "metadata": {},
   "source": [
    "## Latitude vs. Temperature Plot"
   ]
  },
  {
   "cell_type": "code",
   "execution_count": 13,
   "metadata": {
    "scrolled": true
   },
   "outputs": [],
   "source": [
    "# Set x and y values \n",
    "x_value = clean_city_data['Lat']\n",
    "y_value = clean_city_data['Max temp']"
   ]
  },
  {
   "cell_type": "code",
   "execution_count": 14,
   "metadata": {},
   "outputs": [
    {
     "data": {
      "text/plain": [
       "Text(0.5, 1.0, 'City Latitude vs Max Temperature (06/02/2021)')"
      ]
     },
     "execution_count": 14,
     "metadata": {},
     "output_type": "execute_result"
    },
    {
     "data": {
      "image/png": "[encoded data removed]",
      "text/plain": [
       "<Figure size 432x288 with 1 Axes>"
      ]
     },
     "metadata": {
      "needs_background": "light"
     },
     "output_type": "display_data"
    }
   ],
   "source": [
    "# Plot the data\n",
    "plt.scatter(x_value, y_value, marker = 'o', facecolors = 'blue', edgecolors = 'black' , alpha = 0.75)\n",
    "plt.xlabel('Latitude')\n",
    "plt.ylabel('Max Temperature (F)')\n",
    "plt.title('City Latitude vs Max Temperature (06/02/2021)')"
   ]
  },
  {
   "cell_type": "markdown",
   "metadata": {},
   "source": [
    "## Latitude vs. Humidity Plot"
   ]
  },
  {
   "cell_type": "code",
   "execution_count": 15,
   "metadata": {},
   "outputs": [],
   "source": [
    "# Set x and y values \n",
    "x_value = clean_city_data['Lat']\n",
    "y_value = clean_city_data['Humidity']"
   ]
  },
  {
   "cell_type": "code",
   "execution_count": 16,
   "metadata": {},
   "outputs": [
    {
     "data": {
      "text/plain": [
       "Text(0.5, 1.0, 'City Latitude vs Humidity (06/02/2021)')"
      ]
     },
     "execution_count": 16,
     "metadata": {},
     "output_type": "execute_result"
    },
    {
     "data": {
      "image/png": "[encoded data removed]",
      "text/plain": [
       "<Figure size 432x288 with 1 Axes>"
      ]
     },
     "metadata": {
      "needs_background": "light"
     },
     "output_type": "display_data"
    }
   ],
   "source": [
    "# Plot the data\n",
    "plt.scatter(x_value, y_value, marker = 'o', facecolors = 'blue', edgecolors = 'black' , alpha = 0.75)\n",
    "plt.xlabel('Latitude')\n",
    "plt.ylabel('Humidity (%)')\n",
    "plt.title('City Latitude vs Humidity (06/02/2021)')"
   ]
  },
  {
   "cell_type": "markdown",
   "metadata": {},
   "source": [
    "## Latitude vs. Cloudiness Plot"
   ]
  },
  {
   "cell_type": "code",
   "execution_count": 17,
   "metadata": {},
   "outputs": [],
   "source": [
    "# Set x and y values \n",
    "x_value = clean_city_data['Lat']\n",
    "y_value = clean_city_data['Cloudiness']"
   ]
  },
  {
   "cell_type": "code",
   "execution_count": 18,
   "metadata": {},
   "outputs": [
    {
     "data": {
      "text/plain": [
       "Text(0.5, 1.0, 'City Latitude vs Cloudiness (06/02/2021)')"
      ]
     },
     "execution_count": 18,
     "metadata": {},
     "output_type": "execute_result"
    },
    {
     "data": {
      "image/png": "[encoded data removed]",
      "text/plain": [
       "<Figure size 432x288 with 1 Axes>"
      ]
     },
     "metadata": {
      "needs_background": "light"
     },
     "output_type": "display_data"
    }
   ],
   "source": [
    "# Plot the data\n",
    "plt.scatter(x_value, y_value, marker = 'o', facecolors = 'blue', edgecolors = 'black' , alpha = 0.75)\n",
    "plt.xlabel('Latitude')\n",
    "plt.ylabel('Cloudiness (%)')\n",
    "plt.title('City Latitude vs Cloudiness (06/02/2021)')"
   ]
  },
  {
   "cell_type": "markdown",
   "metadata": {},
   "source": [
    "## Latitude vs. Wind Speed Plot"
   ]
  },
  {
   "cell_type": "code",
   "execution_count": 20,
   "metadata": {},
   "outputs": [],
   "source": [
    "# Set x and y values \n",
    "x_value = clean_city_data['Lat']\n",
    "y_value = clean_city_data['Wind Speed']"
   ]
  },
  {
   "cell_type": "code",
   "execution_count": 21,
   "metadata": {},
   "outputs": [
    {
     "data": {
      "text/plain": [
       "Text(0.5, 1.0, 'City Latitude vs Wind Speed (06/02/2021)')"
      ]
     },
     "execution_count": 21,
     "metadata": {},
     "output_type": "execute_result"
    },
    {
     "data": {
      "image/png": "[encoded data removed]",
      "text/plain": [
       "<Figure size 432x288 with 1 Axes>"
      ]
     },
     "metadata": {
      "needs_background": "light"
     },
     "output_type": "display_data"
    }
   ],
   "source": [
    "# Plot the data\n",
    "plt.scatter(x_value, y_value, marker = 'o', facecolors = 'blue', edgecolors = 'black' , alpha = 0.75)\n",
    "plt.xlabel('Latitude')\n",
    "plt.ylabel('Wind Speed (mph)')\n",
    "plt.title('City Latitude vs Wind Speed (06/02/2021)')"
   ]
  },
  {
   "cell_type": "markdown",
   "metadata": {},
   "source": [
    "## Linear Regression"
   ]
  },
  {
   "cell_type": "code",
   "execution_count": 29,
   "metadata": {},
   "outputs": [],
   "source": [
    "# Make DataFrame for Northern Hemisphere\n",
    "north_hem_df = clean_city_data.drop(clean_city_data[clean_city_data['Lat'] <= 0].index, inplace = False)"
   ]
  },
  {
   "cell_type": "code",
   "execution_count": 33,
   "metadata": {},
   "outputs": [],
   "source": [
    "# Make DataFrame for Southern Hemisphere\n",
    "south_hem_df = clean_city_data.drop(clean_city_data[clean_city_data['Lat'] >= 0].index, inplace = False)"
   ]
  },
  {
   "cell_type": "markdown",
   "metadata": {},
   "source": [
    "####  Northern Hemisphere - Max Temp vs. Latitude Linear Regression"
   ]
  },
  {
   "cell_type": "code",
   "execution_count": 40,
   "metadata": {},
   "outputs": [
    {
     "name": "stdout",
     "output_type": "stream",
     "text": [
      "The r-squared is: 0.7554905534857105\n"
     ]
    },
    {
     "data": {
      "image/png": "[encoded data removed]",
      "text/plain": [
       "<Figure size 432x288 with 1 Axes>"
      ]
     },
     "metadata": {
      "needs_background": "light"
     },
     "output_type": "display_data"
    }
   ],
   "source": [
    "# Plot linear regression\n",
    "x_value = north_hem_df['Lat']\n",
    "y_value = north_hem_df['Max temp'] \n",
    "(slope, intercept, rvalue, pvalue, stderr) = linregress(x_value, y_value)\n",
    "regress_value = x_value * slope + intercept \n",
    "line_eq = 'y = ' +str(round(slope,2)) + 'x + ' + str(round(intercept,2))\n",
    "plt.scatter(x_value, y_value)\n",
    "plt.plot(x_value,regress_value,'r-')\n",
    "plt.annotate(line_eq, (0,-20), fontsize=15, color='red')\n",
    "plt.xlabel('Latitude')\n",
    "plt.ylabel('Max Temp')\n",
    "print(f'The r-squared is: {rvalue**2}')\n",
    "plt.show()"
   ]
  },
  {
   "cell_type": "markdown",
   "metadata": {},
   "source": [
    "####  Southern Hemisphere - Max Temp vs. Latitude Linear Regression"
   ]
  },
  {
   "cell_type": "code",
   "execution_count": 43,
   "metadata": {},
   "outputs": [
    {
     "name": "stdout",
     "output_type": "stream",
     "text": [
      "The r-squared is: 0.27399771148269564\n"
     ]
    },
    {
     "data": {
      "image/png": "[encoded data removed]",
      "text/plain": [
       "<Figure size 432x288 with 1 Axes>"
      ]
     },
     "metadata": {
      "needs_background": "light"
     },
     "output_type": "display_data"
    }
   ],
   "source": [
    "# Plot linear regression\n",
    "x_value = south_hem_df['Lat']\n",
    "y_value = south_hem_df['Max temp'] \n",
    "(slope, intercept, rvalue, pvalue, stderr) = linregress(x_value, y_value)\n",
    "regress_value = x_value * slope + intercept \n",
    "line_eq = 'y = ' +str(round(slope,2)) + 'x + ' + str(round(intercept,2))\n",
    "plt.scatter(x_value, y_value)\n",
    "plt.plot(x_value,regress_value,'r-')\n",
    "plt.annotate(line_eq, (-30,40), fontsize=15, color='red')\n",
    "plt.xlabel('Latitude')\n",
    "plt.ylabel('Max Temp')\n",
    "print(f'The r-squared is: {rvalue**2}')\n",
    "plt.show()"
   ]
  },
  {
   "cell_type": "markdown",
   "metadata": {},
   "source": [
    "####  Northern Hemisphere - Humidity (%) vs. Latitude Linear Regression"
   ]
  },
  {
   "cell_type": "code",
   "execution_count": 50,
   "metadata": {},
   "outputs": [
    {
     "name": "stdout",
     "output_type": "stream",
     "text": [
      "The r-squared is: 0.14532492570289582\n"
     ]
    },
    {
     "data": {
      "image/png": "[encoded data removed]",
      "text/plain": [
       "<Figure size 432x288 with 1 Axes>"
      ]
     },
     "metadata": {
      "needs_background": "light"
     },
     "output_type": "display_data"
    }
   ],
   "source": [
    "# Plot linear regression\n",
    "x_value = north_hem_df['Lat']\n",
    "y_value = north_hem_df['Humidity'] \n",
    "(slope, intercept, rvalue, pvalue, stderr) = linregress(x_value, y_value)\n",
    "regress_value = x_value * slope + intercept \n",
    "line_eq = 'y = ' +str(round(slope,2)) + 'x + ' + str(round(intercept,2))\n",
    "plt.scatter(x_value, y_value)\n",
    "plt.plot(x_value,regress_value,'r-')\n",
    "plt.annotate(line_eq, (45,15), fontsize=15, color='red')\n",
    "plt.xlabel('Latitude')\n",
    "plt.ylabel('Humidity')\n",
    "print(f'The r-squared is: {rvalue**2}')\n",
    "plt.show()"
   ]
  },
  {
   "cell_type": "markdown",
   "metadata": {},
   "source": [
    "####  Southern Hemisphere - Humidity (%) vs. Latitude Linear Regression"
   ]
  },
  {
   "cell_type": "code",
   "execution_count": 60,
   "metadata": {},
   "outputs": [
    {
     "name": "stdout",
     "output_type": "stream",
     "text": [
      "The r-squared is: 0.06852088783957958\n"
     ]
    },
    {
     "data": {
      "image/png": "[encoded data removed]",
      "text/plain": [
       "<Figure size 432x288 with 1 Axes>"
      ]
     },
     "metadata": {
      "needs_background": "light"
     },
     "output_type": "display_data"
    }
   ],
   "source": [
    "# Plot linear regression\n",
    "x_value = south_hem_df['Lat']\n",
    "y_value = south_hem_df['Humidity'] \n",
    "(slope, intercept, rvalue, pvalue, stderr) = linregress(x_value, y_value)\n",
    "regress_value = x_value * slope + intercept \n",
    "line_eq = 'y = ' +str(round(slope,2)) + 'x + ' + str(round(intercept,2))\n",
    "plt.scatter(x_value, y_value)\n",
    "plt.plot(x_value,regress_value,'r-')\n",
    "plt.annotate(line_eq, (-25,30), fontsize=15, color='red')\n",
    "plt.xlabel('Latitude')\n",
    "plt.ylabel('Humidity')\n",
    "print(f'The r-squared is: {rvalue**2}')\n",
    "plt.show()"
   ]
  },
  {
   "cell_type": "markdown",
   "metadata": {},
   "source": [
    "####  Northern Hemisphere - Cloudiness (%) vs. Latitude Linear Regression"
   ]
  },
  {
   "cell_type": "code",
   "execution_count": 58,
   "metadata": {},
   "outputs": [
    {
     "name": "stdout",
     "output_type": "stream",
     "text": [
      "The r-squared is: 0.12256278699167797\n"
     ]
    },
    {
     "data": {
      "image/png": "[encoded data removed]",
      "text/plain": [
       "<Figure size 432x288 with 1 Axes>"
      ]
     },
     "metadata": {
      "needs_background": "light"
     },
     "output_type": "display_data"
    }
   ],
   "source": [
    "# Plot linear regression\n",
    "x_value = north_hem_df['Lat']\n",
    "y_value = north_hem_df['Cloudiness'] \n",
    "(slope, intercept, rvalue, pvalue, stderr) = linregress(x_value, y_value)\n",
    "regress_value = x_value * slope + intercept \n",
    "line_eq = 'y = ' +str(round(slope,2)) + 'x + ' + str(round(intercept,2))\n",
    "plt.scatter(x_value, y_value)\n",
    "plt.plot(x_value,regress_value,'r-')\n",
    "plt.annotate(line_eq, (45,10), fontsize=15, color='red')\n",
    "plt.xlabel('Latitude')\n",
    "plt.ylabel('Cloudiness')\n",
    "print(f'The r-squared is: {rvalue**2}')\n",
    "plt.show()"
   ]
  },
  {
   "cell_type": "markdown",
   "metadata": {},
   "source": [
    "####  Southern Hemisphere - Cloudiness (%) vs. Latitude Linear Regression"
   ]
  },
  {
   "cell_type": "code",
   "execution_count": 56,
   "metadata": {},
   "outputs": [
    {
     "name": "stdout",
     "output_type": "stream",
     "text": [
      "The r-squared is: 0.14336172165664873\n"
     ]
    },
    {
     "data": {
      "image/png": "[encoded data removed]",
      "text/plain": [
       "<Figure size 432x288 with 1 Axes>"
      ]
     },
     "metadata": {
      "needs_background": "light"
     },
     "output_type": "display_data"
    }
   ],
   "source": [
    "# Plot linear regression\n",
    "x_value = south_hem_df['Lat']\n",
    "y_value = south_hem_df['Cloudiness'] \n",
    "(slope, intercept, rvalue, pvalue, stderr) = linregress(x_value, y_value)\n",
    "regress_value = x_value * slope + intercept \n",
    "line_eq = 'y = ' +str(round(slope,2)) + 'x + ' + str(round(intercept,2))\n",
    "plt.scatter(x_value, y_value)\n",
    "plt.plot(x_value,regress_value,'r-')\n",
    "plt.annotate(line_eq, (-55,90), fontsize=15, color='red')\n",
    "plt.xlabel('Latitude')\n",
    "plt.ylabel('Cloudiness')\n",
    "print(f'The r-squared is: {rvalue**2}')\n",
    "plt.show()"
   ]
  },
  {
   "cell_type": "markdown",
   "metadata": {},
   "source": [
    "####  Northern Hemisphere - Wind Speed (mph) vs. Latitude Linear Regression"
   ]
  },
  {
   "cell_type": "code",
   "execution_count": 61,
   "metadata": {},
   "outputs": [
    {
     "name": "stdout",
     "output_type": "stream",
     "text": [
      "The r-squared is: 0.006715517980024756\n"
     ]
    },
    {
     "data": {
      "image/png": "[encoded data removed]",
      "text/plain": [
       "<Figure size 432x288 with 1 Axes>"
      ]
     },
     "metadata": {
      "needs_background": "light"
     },
     "output_type": "display_data"
    }
   ],
   "source": [
    "# Plot linear regression\n",
    "x_value = north_hem_df['Lat']\n",
    "y_value = north_hem_df['Wind Speed'] \n",
    "(slope, intercept, rvalue, pvalue, stderr) = linregress(x_value, y_value)\n",
    "regress_value = x_value * slope + intercept \n",
    "line_eq = 'y = ' +str(round(slope,2)) + 'x + ' + str(round(intercept,2))\n",
    "plt.scatter(x_value, y_value)\n",
    "plt.plot(x_value,regress_value,'r-')\n",
    "plt.annotate(line_eq, (0,30), fontsize=15, color='red')\n",
    "plt.xlabel('Latitude')\n",
    "plt.ylabel('Wind Speed')\n",
    "print(f'The r-squared is: {rvalue**2}')\n",
    "plt.show()"
   ]
  },
  {
   "cell_type": "markdown",
   "metadata": {},
   "source": [
    "####  Southern Hemisphere - Wind Speed (mph) vs. Latitude Linear Regression"
   ]
  },
  {
   "cell_type": "code",
   "execution_count": 63,
   "metadata": {},
   "outputs": [
    {
     "name": "stdout",
     "output_type": "stream",
     "text": [
      "The r-squared is: 0.027719743559957866\n"
     ]
    },
    {
     "data": {
      "image/png": "[encoded data removed]",
      "text/plain": [
       "<Figure size 432x288 with 1 Axes>"
      ]
     },
     "metadata": {
      "needs_background": "light"
     },
     "output_type": "display_data"
    }
   ],
   "source": [
    "# Plot linear regression\n",
    "x_value = south_hem_df['Lat']\n",
    "y_value = south_hem_df['Wind Speed'] \n",
    "(slope, intercept, rvalue, pvalue, stderr) = linregress(x_value, y_value)\n",
    "regress_value = x_value * slope + intercept \n",
    "line_eq = 'y = ' +str(round(slope,2)) + 'x + ' + str(round(intercept,2))\n",
    "plt.scatter(x_value, y_value)\n",
    "plt.plot(x_value,regress_value,'r-')\n",
    "plt.annotate(line_eq, (-55,25), fontsize=15, color='red')\n",
    "plt.xlabel('Latitude')\n",
    "plt.ylabel('Wind Speed')\n",
    "print(f'The r-squared is: {rvalue**2}')\n",
    "plt.show()"
   ]
  }
 ],
 "metadata": {
  "anaconda-cloud": {},
  "kernel_info": {
   "name": "python3"
  },
  "kernelspec": {
   "display_name": "Python 3",
   "language": "python",
   "name": "python3"
  },
  "language_info": {
   "codemirror_mode": {
    "name": "ipython",
    "version": 3
   },
   "file_extension": ".py",
   "mimetype": "text/x-python",
   "name": "python",
   "nbconvert_exporter": "python",
   "pygments_lexer": "ipython3",
   "version": "3.6.10"
  },
  "latex_envs": {
   "LaTeX_envs_menu_present": true,
   "autoclose": false,
   "autocomplete": true,
   "bibliofile": "biblio.bib",
   "cite_by": "apalike",
   "current_citInitial": 1,
   "eqLabelWithNumbers": true,
   "eqNumInitial": 1,
   "hotkeys": {
    "equation": "Ctrl-E",
    "itemize": "Ctrl-I"
   },
   "labels_anchors": false,
   "latex_user_defs": false,
   "report_style_numbering": false,
   "user_envs_cfg": false
  },
  "nteract": {
   "version": "0.12.3"
  }
 },
 "nbformat": 4,
 "nbformat_minor": 2
}
