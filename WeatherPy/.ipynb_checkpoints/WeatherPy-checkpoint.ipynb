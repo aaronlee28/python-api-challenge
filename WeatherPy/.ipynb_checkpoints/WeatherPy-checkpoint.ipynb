{
 "cells": [
  {
   "cell_type": "markdown",
   "metadata": {},
   "source": [
    "# WeatherPy\n",
    "----\n",
    "\n",
    "#### Note\n",
    "* Instructions have been included for each segment. You do not have to follow them exactly, but they are included to help you think through the steps."
   ]
  },
  {
   "cell_type": "code",
   "execution_count": 1,
   "metadata": {
    "scrolled": true
   },
   "outputs": [],
   "source": [
    "# Dependencies and Setup\n",
    "import matplotlib.pyplot as plt\n",
    "import pandas as pd\n",
    "import numpy as np\n",
    "import requests\n",
    "import time\n",
    "from scipy.stats import linregress\n",
    "\n",
    "# Import API key\n",
    "from api_keys import weather_api_key\n",
    "\n",
    "# Incorporated citipy to determine city based on latitude and longitude\n",
    "from citipy import citipy\n",
    "\n",
    "# Output File (CSV)\n",
    "output_data_file = \"output_data/cities.csv\"\n",
    "\n",
    "# Range of latitudes and longitudes\n",
    "lat_range = (-90, 90)\n",
    "lng_range = (-180, 180)\n"
   ]
  },
  {
   "cell_type": "markdown",
   "metadata": {},
   "source": [
    "## Generate Cities List"
   ]
  },
  {
   "cell_type": "code",
   "execution_count": 2,
   "metadata": {},
   "outputs": [
    {
     "data": {
      "text/plain": [
       "601"
      ]
     },
     "execution_count": 2,
     "metadata": {},
     "output_type": "execute_result"
    }
   ],
   "source": [
    "# List for holding lat_lngs and cities\n",
    "lat_lngs = []\n",
    "cities = []\n",
    "\n",
    "# Create a set of random lat and lng combinations\n",
    "lats = np.random.uniform(lat_range[0], lat_range[1], size=1500)\n",
    "lngs = np.random.uniform(lng_range[0], lng_range[1], size=1500)\n",
    "lat_lngs = zip(lats, lngs)\n",
    "\n",
    "# Identify nearest city for each lat, lng combination\n",
    "for lat_lng in lat_lngs:\n",
    "    city = citipy.nearest_city(lat_lng[0], lat_lng[1]).city_name\n",
    "    \n",
    "    # If the city is unique, then add it to a our cities list\n",
    "    if city not in cities:\n",
    "        cities.append(city)\n",
    "\n",
    "# Print the city count to confirm sufficient count\n",
    "len(cities)"
   ]
  },
  {
   "cell_type": "markdown",
   "metadata": {},
   "source": [
    "### Perform API Calls\n",
    "* Perform a weather check on each city using a series of successive API calls.\n",
    "* Include a print log of each city as it'sbeing processed (with the city number and city name).\n"
   ]
  },
  {
   "cell_type": "code",
   "execution_count": 3,
   "metadata": {
    "scrolled": true
   },
   "outputs": [],
   "source": [
    "# Set empty list to store data\n",
    "city2 = []\n",
    "lat = []\n",
    "lng = []\n",
    "max_temp = []\n",
    "humidity = []\n",
    "cloudiness = []\n",
    "windspeed = []\n",
    "date = []"
   ]
  },
  {
   "cell_type": "code",
   "execution_count": 4,
   "metadata": {},
   "outputs": [],
   "source": [
    "# Set vatiable to process data \n",
    "record = 0\n",
    "set_key = 1"
   ]
  },
  {
   "cell_type": "code",
   "execution_count": 5,
   "metadata": {},
   "outputs": [],
   "source": [
    "# Create search query \n",
    "\n",
    "url = 'https://api.openweathermap.org/data/2.5/weather?'\n",
    "units = 'imperial'\n",
    "query_url = f'{url}appid={weather_api_key}&units={units}&q='"
   ]
  },
  {
   "cell_type": "code",
   "execution_count": 6,
   "metadata": {},
   "outputs": [
    {
     "name": "stdout",
     "output_type": "stream",
     "text": [
      "Beginning Data Retrieval\n",
      "-----------------------------\n",
      "Processing Record 1 of Set 1 | lebu\n",
      "Processing Record 2 of Set 1 | touros\n",
      "Processing Record 3 of Set 1 | leningradskiy\n",
      "City not found. Skipping...\n",
      "Processing Record 4 of Set 1 | viedma\n",
      "Processing Record 5 of Set 1 | kodiak\n",
      "Processing Record 6 of Set 1 | ponta do sol\n",
      "Processing Record 7 of Set 1 | bluff\n",
      "Processing Record 8 of Set 1 | kingaroy\n",
      "Processing Record 9 of Set 1 | ushuaia\n",
      "Processing Record 10 of Set 1 | general pico\n",
      "Processing Record 11 of Set 1 | ca mau\n",
      "Processing Record 12 of Set 1 | sfantu gheorghe\n",
      "Processing Record 13 of Set 1 | nikolskoye\n",
      "City not found. Skipping...\n",
      "Processing Record 14 of Set 1 | port hardy\n",
      "Processing Record 15 of Set 1 | rikitea\n",
      "City not found. Skipping...\n",
      "Processing Record 16 of Set 1 | vaini\n",
      "Processing Record 17 of Set 1 | saint george\n",
      "Processing Record 18 of Set 1 | jamestown\n",
      "Processing Record 19 of Set 1 | princeton\n",
      "Processing Record 20 of Set 1 | pangnirtung\n",
      "Processing Record 21 of Set 1 | bredasdorp\n",
      "Processing Record 22 of Set 1 | hithadhoo\n",
      "Processing Record 23 of Set 1 | sao joao da barra\n",
      "Processing Record 24 of Set 1 | nagato\n",
      "City not found. Skipping...\n",
      "Processing Record 25 of Set 1 | dingle\n",
      "Processing Record 26 of Set 1 | port macquarie\n",
      "Processing Record 27 of Set 1 | pathein\n",
      "Processing Record 28 of Set 1 | ilulissat\n",
      "Processing Record 29 of Set 1 | adrar\n",
      "Processing Record 30 of Set 1 | wageningen\n",
      "Processing Record 31 of Set 1 | san patricio\n",
      "Processing Record 32 of Set 1 | san pedro\n",
      "Processing Record 33 of Set 1 | san cristobal\n",
      "Processing Record 34 of Set 1 | arraial do cabo\n",
      "Processing Record 35 of Set 1 | saint-philippe\n",
      "Processing Record 36 of Set 1 | provideniya\n",
      "Processing Record 37 of Set 1 | busselton\n",
      "Processing Record 38 of Set 1 | cherskiy\n",
      "Processing Record 39 of Set 1 | lorengau\n",
      "City not found. Skipping...\n",
      "Processing Record 40 of Set 1 | punta arenas\n",
      "Processing Record 41 of Set 1 | arenapolis\n",
      "Processing Record 42 of Set 1 | khatanga\n",
      "Processing Record 43 of Set 1 | mataura\n",
      "Processing Record 44 of Set 1 | sinnamary\n",
      "Processing Record 45 of Set 1 | dikson\n",
      "Processing Record 46 of Set 1 | balkhash\n",
      "Processing Record 47 of Set 1 | port elizabeth\n",
      "Processing Record 48 of Set 1 | ribeira grande\n",
      "Processing Record 49 of Set 1 | guilin\n",
      "Processing Record 1 of Set 2 | volda\n",
      "City not found. Skipping...\n",
      "Processing Record 2 of Set 2 | mar del plata\n",
      "Processing Record 3 of Set 2 | yumen\n",
      "City not found. Skipping...\n",
      "Processing Record 4 of Set 2 | norman wells\n",
      "Processing Record 5 of Set 2 | coihaique\n",
      "Processing Record 6 of Set 2 | namatanai\n",
      "Processing Record 7 of Set 2 | belmonte\n",
      "Processing Record 8 of Set 2 | barrow\n",
      "Processing Record 9 of Set 2 | kirakira\n",
      "City not found. Skipping...\n",
      "Processing Record 10 of Set 2 | camacha\n",
      "Processing Record 11 of Set 2 | avera\n",
      "Processing Record 12 of Set 2 | bambous virieux\n",
      "Processing Record 13 of Set 2 | hobart\n",
      "Processing Record 14 of Set 2 | butaritari\n",
      "Processing Record 15 of Set 2 | tasiilaq\n",
      "Processing Record 16 of Set 2 | albany\n",
      "Processing Record 17 of Set 2 | hami\n",
      "Processing Record 18 of Set 2 | kapaa\n",
      "Processing Record 19 of Set 2 | puerto ayora\n",
      "Processing Record 20 of Set 2 | bolshaya sosnova\n",
      "Processing Record 21 of Set 2 | sisimiut\n",
      "Processing Record 22 of Set 2 | guaruja\n",
      "Processing Record 23 of Set 2 | broome\n",
      "Processing Record 24 of Set 2 | xam nua\n",
      "Processing Record 25 of Set 2 | yellowknife\n",
      "Processing Record 26 of Set 2 | rabat\n",
      "Processing Record 27 of Set 2 | kasungu\n",
      "City not found. Skipping...\n",
      "Processing Record 28 of Set 2 | bandarbeyla\n",
      "Processing Record 29 of Set 2 | port alfred\n",
      "Processing Record 30 of Set 2 | sitka\n",
      "Processing Record 31 of Set 2 | tiksi\n",
      "Processing Record 32 of Set 2 | havelock\n",
      "Processing Record 33 of Set 2 | hirara\n",
      "Processing Record 34 of Set 2 | thompson\n",
      "Processing Record 35 of Set 2 | benguela\n",
      "Processing Record 36 of Set 2 | hermanus\n",
      "Processing Record 37 of Set 2 | bethel\n",
      "Processing Record 38 of Set 2 | kumo\n",
      "Processing Record 39 of Set 2 | clyde river\n",
      "City not found. Skipping...\n",
      "Processing Record 40 of Set 2 | uglich\n",
      "Processing Record 41 of Set 2 | guerrero negro\n",
      "Processing Record 42 of Set 2 | atar\n",
      "Processing Record 43 of Set 2 | douglas\n",
      "Processing Record 44 of Set 2 | lima\n",
      "Processing Record 45 of Set 2 | sobolevo\n",
      "City not found. Skipping...\n",
      "City not found. Skipping...\n",
      "Processing Record 46 of Set 2 | limon\n",
      "Processing Record 47 of Set 2 | husavik\n",
      "Processing Record 48 of Set 2 | le port\n",
      "Processing Record 49 of Set 2 | hualmay\n",
      "Processing Record 1 of Set 3 | marquette\n",
      "Processing Record 2 of Set 3 | cape town\n",
      "Processing Record 3 of Set 3 | marrakesh\n",
      "Processing Record 4 of Set 3 | leczna\n",
      "City not found. Skipping...\n",
      "Processing Record 5 of Set 3 | santiago\n",
      "Processing Record 6 of Set 3 | mikhaylovskoye\n",
      "Processing Record 7 of Set 3 | cherdyn\n",
      "Processing Record 8 of Set 3 | chokurdakh\n",
      "City not found. Skipping...\n",
      "Processing Record 9 of Set 3 | santona\n",
      "Processing Record 10 of Set 3 | souillac\n",
      "Processing Record 11 of Set 3 | margate\n",
      "Processing Record 12 of Set 3 | muroto\n",
      "Processing Record 13 of Set 3 | labe\n",
      "Processing Record 14 of Set 3 | grand gaube\n",
      "Processing Record 15 of Set 3 | fortuna\n",
      "City not found. Skipping...\n",
      "Processing Record 16 of Set 3 | nicoya\n",
      "Processing Record 17 of Set 3 | long xuyen\n",
      "City not found. Skipping...\n",
      "Processing Record 18 of Set 3 | caborca\n",
      "Processing Record 19 of Set 3 | komsomolskiy\n",
      "Processing Record 20 of Set 3 | blagoyevo\n",
      "City not found. Skipping...\n",
      "Processing Record 21 of Set 3 | atuona\n",
      "Processing Record 22 of Set 3 | longyearbyen\n",
      "Processing Record 23 of Set 3 | kudahuvadhoo\n",
      "Processing Record 24 of Set 3 | cape coast\n",
      "Processing Record 25 of Set 3 | faanui\n",
      "City not found. Skipping...\n",
      "Processing Record 26 of Set 3 | airai\n",
      "Processing Record 27 of Set 3 | shahreza\n",
      "Processing Record 28 of Set 3 | mount gambier\n",
      "Processing Record 29 of Set 3 | muros\n",
      "Processing Record 30 of Set 3 | eydhafushi\n",
      "Processing Record 31 of Set 3 | new norfolk\n",
      "City not found. Skipping...\n",
      "Processing Record 32 of Set 3 | marshall\n",
      "Processing Record 33 of Set 3 | kampot\n",
      "Processing Record 34 of Set 3 | gulabpura\n",
      "Processing Record 35 of Set 3 | aksarka\n",
      "Processing Record 36 of Set 3 | turukhansk\n",
      "Processing Record 37 of Set 3 | half moon bay\n",
      "Processing Record 38 of Set 3 | pisco\n",
      "Processing Record 39 of Set 3 | castro\n",
      "City not found. Skipping...\n",
      "City not found. Skipping...\n",
      "Processing Record 40 of Set 3 | opuwo\n",
      "Processing Record 41 of Set 3 | agdam\n",
      "Processing Record 42 of Set 3 | tabas\n",
      "Processing Record 43 of Set 3 | paita\n",
      "City not found. Skipping...\n",
      "Processing Record 44 of Set 3 | constitucion\n",
      "Processing Record 45 of Set 3 | polur\n",
      "Processing Record 46 of Set 3 | bengkulu\n",
      "Processing Record 47 of Set 3 | high level\n",
      "City not found. Skipping...\n",
      "Processing Record 48 of Set 3 | georgetown\n",
      "Processing Record 49 of Set 3 | lasa\n",
      "Processing Record 1 of Set 4 | talnakh\n",
      "Processing Record 2 of Set 4 | srednekolymsk\n",
      "Processing Record 3 of Set 4 | lincoln\n",
      "Processing Record 4 of Set 4 | lata\n",
      "Processing Record 5 of Set 4 | hvolsvollur\n",
      "Processing Record 6 of Set 4 | asyut\n",
      "Processing Record 7 of Set 4 | alyangula\n",
      "Processing Record 8 of Set 4 | tessalit\n",
      "Processing Record 9 of Set 4 | tazovskiy\n",
      "Processing Record 10 of Set 4 | vidim\n",
      "Processing Record 11 of Set 4 | hilo\n",
      "Processing Record 12 of Set 4 | san policarpo\n",
      "Processing Record 13 of Set 4 | tuktoyaktuk\n",
      "Processing Record 14 of Set 4 | nioro\n",
      "Processing Record 15 of Set 4 | rabaul\n",
      "Processing Record 16 of Set 4 | kuusankoski\n",
      "Processing Record 17 of Set 4 | tyup\n",
      "Processing Record 18 of Set 4 | suba\n",
      "Processing Record 19 of Set 4 | qaanaaq\n",
      "Processing Record 20 of Set 4 | seoul\n",
      "Processing Record 21 of Set 4 | gogrial\n",
      "Processing Record 22 of Set 4 | ancud\n",
      "Processing Record 23 of Set 4 | mahebourg\n",
      "Processing Record 24 of Set 4 | dawlatabad\n",
      "Processing Record 25 of Set 4 | tamiahua\n",
      "Processing Record 26 of Set 4 | marsa matruh\n",
      "City not found. Skipping...\n",
      "Processing Record 27 of Set 4 | liverpool\n",
      "Processing Record 28 of Set 4 | vestmannaeyjar\n",
      "Processing Record 29 of Set 4 | avarua\n",
      "Processing Record 30 of Set 4 | zhuhai\n",
      "Processing Record 31 of Set 4 | kahului\n",
      "Processing Record 32 of Set 4 | timmins\n",
      "Processing Record 33 of Set 4 | kamenka\n",
      "Processing Record 34 of Set 4 | hasaki\n",
      "Processing Record 35 of Set 4 | nador\n",
      "Processing Record 36 of Set 4 | axim\n"
     ]
    },
    {
     "name": "stdout",
     "output_type": "stream",
     "text": [
      "Processing Record 37 of Set 4 | chiredzi\n",
      "City not found. Skipping...\n",
      "Processing Record 38 of Set 4 | cabo san lucas\n",
      "Processing Record 39 of Set 4 | yelkhovka\n",
      "Processing Record 40 of Set 4 | mehamn\n",
      "Processing Record 41 of Set 4 | krasnyy chikoy\n",
      "Processing Record 42 of Set 4 | suntar\n",
      "Processing Record 43 of Set 4 | soyo\n",
      "City not found. Skipping...\n",
      "Processing Record 44 of Set 4 | kasama\n",
      "Processing Record 45 of Set 4 | kushima\n",
      "Processing Record 46 of Set 4 | osa\n",
      "Processing Record 47 of Set 4 | kununurra\n",
      "Processing Record 48 of Set 4 | rawson\n",
      "Processing Record 49 of Set 4 | pevek\n",
      "Processing Record 1 of Set 5 | narsaq\n",
      "Processing Record 2 of Set 5 | portland\n",
      "City not found. Skipping...\n",
      "Processing Record 3 of Set 5 | agbannawag\n",
      "Processing Record 4 of Set 5 | powell\n",
      "Processing Record 5 of Set 5 | tilichiki\n",
      "Processing Record 6 of Set 5 | iquique\n",
      "Processing Record 7 of Set 5 | sarangani\n",
      "City not found. Skipping...\n",
      "Processing Record 8 of Set 5 | east london\n",
      "Processing Record 9 of Set 5 | chaman\n",
      "Processing Record 10 of Set 5 | ostrovnoy\n",
      "Processing Record 11 of Set 5 | faya\n",
      "Processing Record 12 of Set 5 | chifeng\n",
      "Processing Record 13 of Set 5 | quatre cocos\n",
      "Processing Record 14 of Set 5 | peruibe\n",
      "Processing Record 15 of Set 5 | seinajoki\n",
      "Processing Record 16 of Set 5 | katsuura\n",
      "Processing Record 17 of Set 5 | el rosario\n",
      "Processing Record 18 of Set 5 | tsiroanomandidy\n",
      "Processing Record 19 of Set 5 | nyrob\n",
      "Processing Record 20 of Set 5 | wagar\n",
      "Processing Record 21 of Set 5 | ondjiva\n",
      "Processing Record 22 of Set 5 | ajdabiya\n",
      "Processing Record 23 of Set 5 | luderitz\n",
      "Processing Record 24 of Set 5 | yarada\n",
      "Processing Record 25 of Set 5 | luwuk\n",
      "Processing Record 26 of Set 5 | shache\n",
      "Processing Record 27 of Set 5 | chuy\n",
      "Processing Record 28 of Set 5 | qingdao\n",
      "Processing Record 29 of Set 5 | tateyama\n",
      "Processing Record 30 of Set 5 | banda aceh\n",
      "Processing Record 31 of Set 5 | toamasina\n",
      "Processing Record 32 of Set 5 | pacific grove\n",
      "Processing Record 33 of Set 5 | laguna\n",
      "Processing Record 34 of Set 5 | brae\n",
      "City not found. Skipping...\n",
      "Processing Record 35 of Set 5 | tromso\n",
      "Processing Record 36 of Set 5 | padang\n",
      "Processing Record 37 of Set 5 | upernavik\n",
      "Processing Record 38 of Set 5 | sabha\n",
      "Processing Record 39 of Set 5 | beaufort\n",
      "Processing Record 40 of Set 5 | rio grande\n",
      "Processing Record 41 of Set 5 | damietta\n",
      "Processing Record 42 of Set 5 | lensk\n",
      "Processing Record 43 of Set 5 | nantucket\n",
      "Processing Record 44 of Set 5 | petropavlovsk-kamchatskiy\n",
      "Processing Record 45 of Set 5 | carnarvon\n",
      "City not found. Skipping...\n",
      "Processing Record 46 of Set 5 | geraldton\n",
      "Processing Record 47 of Set 5 | sioux lookout\n",
      "Processing Record 48 of Set 5 | fairbanks\n",
      "Processing Record 49 of Set 5 | gravdal\n",
      "Processing Record 1 of Set 6 | caravelas\n",
      "Processing Record 2 of Set 6 | portree\n",
      "Processing Record 3 of Set 6 | kolno\n",
      "Processing Record 4 of Set 6 | saskylakh\n",
      "Processing Record 5 of Set 6 | omboue\n",
      "Processing Record 6 of Set 6 | chimbote\n",
      "Processing Record 7 of Set 6 | iqaluit\n",
      "Processing Record 8 of Set 6 | weston\n",
      "Processing Record 9 of Set 6 | shuyskoye\n",
      "Processing Record 10 of Set 6 | vardo\n",
      "City not found. Skipping...\n",
      "Processing Record 11 of Set 6 | cidreira\n",
      "Processing Record 12 of Set 6 | pilar\n",
      "Processing Record 13 of Set 6 | alta floresta\n",
      "Processing Record 14 of Set 6 | qena\n",
      "Processing Record 15 of Set 6 | saldanha\n",
      "Processing Record 16 of Set 6 | dong xoai\n",
      "Processing Record 17 of Set 6 | rocha\n",
      "Processing Record 18 of Set 6 | fenton\n",
      "Processing Record 19 of Set 6 | foz\n",
      "Processing Record 20 of Set 6 | sao filipe\n",
      "Processing Record 21 of Set 6 | oga\n",
      "Processing Record 22 of Set 6 | lompoc\n",
      "Processing Record 23 of Set 6 | roald\n",
      "City not found. Skipping...\n",
      "Processing Record 24 of Set 6 | batagay-alyta\n",
      "Processing Record 25 of Set 6 | saint-augustin\n",
      "Processing Record 26 of Set 6 | mitsamiouli\n",
      "City not found. Skipping...\n",
      "Processing Record 27 of Set 6 | sestri levante\n",
      "Processing Record 28 of Set 6 | jalu\n",
      "Processing Record 29 of Set 6 | meulaboh\n",
      "Processing Record 30 of Set 6 | bilma\n",
      "Processing Record 31 of Set 6 | pontianak\n",
      "Processing Record 32 of Set 6 | tuatapere\n",
      "Processing Record 33 of Set 6 | maningrida\n",
      "Processing Record 34 of Set 6 | labuhan\n",
      "Processing Record 35 of Set 6 | shahr-e babak\n",
      "Processing Record 36 of Set 6 | amapa\n",
      "Processing Record 37 of Set 6 | cockburn town\n",
      "Processing Record 38 of Set 6 | neiafu\n",
      "Processing Record 39 of Set 6 | upington\n",
      "City not found. Skipping...\n",
      "Processing Record 40 of Set 6 | los llanos de aridane\n",
      "Processing Record 41 of Set 6 | suoyarvi\n",
      "Processing Record 42 of Set 6 | denizli\n",
      "Processing Record 43 of Set 6 | sayyan\n",
      "Processing Record 44 of Set 6 | aykhal\n",
      "Processing Record 45 of Set 6 | zhangjiakou\n",
      "Processing Record 46 of Set 6 | zhanaozen\n",
      "Processing Record 47 of Set 6 | coquimbo\n",
      "Processing Record 48 of Set 6 | great yarmouth\n",
      "Processing Record 49 of Set 6 | saint-leu\n",
      "Processing Record 1 of Set 7 | magistralnyy\n",
      "Processing Record 2 of Set 7 | fonte boa\n",
      "Processing Record 3 of Set 7 | pundaguitan\n",
      "Processing Record 4 of Set 7 | pithiviers\n",
      "Processing Record 5 of Set 7 | waipawa\n",
      "Processing Record 6 of Set 7 | muisne\n",
      "Processing Record 7 of Set 7 | naze\n",
      "Processing Record 8 of Set 7 | iberia\n",
      "Processing Record 9 of Set 7 | alofi\n",
      "Processing Record 10 of Set 7 | pochutla\n",
      "Processing Record 11 of Set 7 | morehead\n",
      "Processing Record 12 of Set 7 | zhytomyr\n",
      "Processing Record 13 of Set 7 | victoria\n",
      "Processing Record 14 of Set 7 | lagos\n",
      "Processing Record 15 of Set 7 | maues\n",
      "Processing Record 16 of Set 7 | byron bay\n",
      "Processing Record 17 of Set 7 | vuktyl\n",
      "Processing Record 18 of Set 7 | vanavara\n",
      "Processing Record 19 of Set 7 | greenville\n",
      "City not found. Skipping...\n",
      "Processing Record 20 of Set 7 | yarmouth\n",
      "Processing Record 21 of Set 7 | hua hin\n",
      "Processing Record 22 of Set 7 | dunedin\n",
      "Processing Record 23 of Set 7 | yar-sale\n",
      "Processing Record 24 of Set 7 | iacu\n",
      "Processing Record 25 of Set 7 | shingu\n",
      "Processing Record 26 of Set 7 | thinadhoo\n",
      "Processing Record 27 of Set 7 | comodoro rivadavia\n",
      "Processing Record 28 of Set 7 | trinidad\n",
      "Processing Record 29 of Set 7 | ekibastuz\n",
      "Processing Record 30 of Set 7 | solenzo\n",
      "Processing Record 31 of Set 7 | port-gentil\n",
      "Processing Record 32 of Set 7 | asau\n",
      "City not found. Skipping...\n",
      "Processing Record 33 of Set 7 | riga\n",
      "Processing Record 34 of Set 7 | kavaratti\n",
      "Processing Record 35 of Set 7 | klaksvik\n",
      "Processing Record 36 of Set 7 | aden\n",
      "Processing Record 37 of Set 7 | killorglin\n",
      "Processing Record 38 of Set 7 | mount isa\n",
      "City not found. Skipping...\n",
      "Processing Record 39 of Set 7 | oktyabrskoye\n",
      "Processing Record 40 of Set 7 | tapes\n",
      "Processing Record 41 of Set 7 | harper\n",
      "Processing Record 42 of Set 7 | bubaque\n",
      "Processing Record 43 of Set 7 | picton\n",
      "Processing Record 44 of Set 7 | umm kaddadah\n",
      "Processing Record 45 of Set 7 | honningsvag\n",
      "City not found. Skipping...\n",
      "Processing Record 46 of Set 7 | bage\n",
      "Processing Record 47 of Set 7 | emerald\n",
      "Processing Record 48 of Set 7 | arroyo\n",
      "Processing Record 49 of Set 7 | barabai\n",
      "Processing Record 1 of Set 8 | salta\n",
      "Processing Record 2 of Set 8 | angoche\n",
      "Processing Record 3 of Set 8 | acarau\n",
      "Processing Record 4 of Set 8 | at-bashi\n",
      "Processing Record 5 of Set 8 | grindavik\n",
      "Processing Record 6 of Set 8 | jiblah\n",
      "Processing Record 7 of Set 8 | remontnoye\n",
      "Processing Record 8 of Set 8 | puerto el triunfo\n",
      "Processing Record 9 of Set 8 | terre-de-bas\n",
      "Processing Record 10 of Set 8 | mandera\n",
      "Processing Record 11 of Set 8 | zhigansk\n",
      "Processing Record 12 of Set 8 | egvekinot\n",
      "Processing Record 13 of Set 8 | kattivakkam\n",
      "Processing Record 14 of Set 8 | kaeo\n",
      "Processing Record 15 of Set 8 | paamiut\n",
      "Processing Record 16 of Set 8 | xai-xai\n",
      "Processing Record 17 of Set 8 | valencia\n",
      "Processing Record 18 of Set 8 | punta de piedra\n",
      "Processing Record 19 of Set 8 | vestmanna\n",
      "Processing Record 20 of Set 8 | cacapava do sul\n",
      "Processing Record 21 of Set 8 | kiama\n",
      "Processing Record 22 of Set 8 | kurumkan\n",
      "Processing Record 23 of Set 8 | luganville\n",
      "Processing Record 24 of Set 8 | ixtapa\n",
      "City not found. Skipping...\n",
      "City not found. Skipping...\n",
      "Processing Record 25 of Set 8 | ponta delgada\n",
      "City not found. Skipping...\n",
      "Processing Record 26 of Set 8 | olafsvik\n",
      "City not found. Skipping...\n",
      "Processing Record 27 of Set 8 | saucillo\n",
      "Processing Record 28 of Set 8 | togur\n",
      "Processing Record 29 of Set 8 | vermilion\n"
     ]
    },
    {
     "name": "stdout",
     "output_type": "stream",
     "text": [
      "Processing Record 30 of Set 8 | beloha\n",
      "Processing Record 31 of Set 8 | pafos\n",
      "Processing Record 32 of Set 8 | chicama\n",
      "Processing Record 33 of Set 8 | sivas\n",
      "Processing Record 34 of Set 8 | goya\n",
      "Processing Record 35 of Set 8 | trincomalee\n",
      "Processing Record 36 of Set 8 | namibe\n",
      "Processing Record 37 of Set 8 | morondava\n",
      "Processing Record 38 of Set 8 | moindou\n",
      "Processing Record 39 of Set 8 | dum duma\n",
      "Processing Record 40 of Set 8 | codrington\n",
      "Processing Record 41 of Set 8 | srivardhan\n",
      "Processing Record 42 of Set 8 | koungheul\n",
      "Processing Record 43 of Set 8 | jakar\n",
      "Processing Record 44 of Set 8 | mucurici\n",
      "Processing Record 45 of Set 8 | reguengos de monsaraz\n",
      "Processing Record 46 of Set 8 | maniitsoq\n",
      "Processing Record 47 of Set 8 | kasempa\n",
      "Processing Record 48 of Set 8 | tacna\n",
      "Processing Record 49 of Set 8 | gat\n",
      "Processing Record 1 of Set 9 | inyonga\n",
      "Processing Record 2 of Set 9 | ende\n",
      "Processing Record 3 of Set 9 | tuy hoa\n",
      "Processing Record 4 of Set 9 | krosno\n",
      "Processing Record 5 of Set 9 | praxedis guerrero\n",
      "Processing Record 6 of Set 9 | veraval\n",
      "Processing Record 7 of Set 9 | ahipara\n",
      "Processing Record 8 of Set 9 | okhotsk\n",
      "Processing Record 9 of Set 9 | flin flon\n",
      "Processing Record 10 of Set 9 | isangel\n",
      "Processing Record 11 of Set 9 | dalianwan\n",
      "City not found. Skipping...\n",
      "Processing Record 12 of Set 9 | khani\n",
      "Processing Record 13 of Set 9 | chengdu\n",
      "Processing Record 14 of Set 9 | kruisfontein\n",
      "Processing Record 15 of Set 9 | iracoubo\n",
      "Processing Record 16 of Set 9 | tura\n",
      "Processing Record 17 of Set 9 | christchurch\n",
      "Processing Record 18 of Set 9 | storforshei\n",
      "Processing Record 19 of Set 9 | roma\n",
      "Processing Record 20 of Set 9 | rivera\n",
      "Processing Record 21 of Set 9 | fort nelson\n",
      "Processing Record 22 of Set 9 | sao felix do xingu\n",
      "Processing Record 23 of Set 9 | acapulco\n",
      "Processing Record 24 of Set 9 | cairo\n",
      "Processing Record 25 of Set 9 | porto novo\n",
      "City not found. Skipping...\n",
      "Processing Record 26 of Set 9 | loudeac\n",
      "Processing Record 27 of Set 9 | beaverlodge\n",
      "Processing Record 28 of Set 9 | lisakovsk\n",
      "Processing Record 29 of Set 9 | bowen\n",
      "Processing Record 30 of Set 9 | deputatskiy\n",
      "Processing Record 31 of Set 9 | port moresby\n",
      "Processing Record 32 of Set 9 | jati\n",
      "Processing Record 33 of Set 9 | sistranda\n",
      "Processing Record 34 of Set 9 | dunda\n",
      "Processing Record 35 of Set 9 | nara\n",
      "Processing Record 36 of Set 9 | serenje\n",
      "Processing Record 37 of Set 9 | calbuco\n",
      "Processing Record 38 of Set 9 | saint anthony\n",
      "Processing Record 39 of Set 9 | istanbul\n",
      "Processing Record 40 of Set 9 | oriximina\n",
      "Processing Record 41 of Set 9 | ahuimanu\n",
      "Processing Record 42 of Set 9 | taltal\n",
      "Processing Record 43 of Set 9 | kaitangata\n",
      "City not found. Skipping...\n",
      "Processing Record 44 of Set 9 | nezlobnaya\n",
      "Processing Record 45 of Set 9 | moranbah\n",
      "Processing Record 46 of Set 9 | dutse\n",
      "Processing Record 47 of Set 9 | saint-andre-les-vergers\n",
      "Processing Record 48 of Set 9 | ust-koksa\n",
      "Processing Record 49 of Set 9 | moose factory\n",
      "Processing Record 1 of Set 10 | sakakah\n",
      "Processing Record 2 of Set 10 | puerto princesa\n",
      "Processing Record 3 of Set 10 | lazaro cardenas\n",
      "Processing Record 4 of Set 10 | matamoros\n",
      "Processing Record 5 of Set 10 | touba\n",
      "Processing Record 6 of Set 10 | sur\n",
      "City not found. Skipping...\n",
      "City not found. Skipping...\n",
      "Processing Record 7 of Set 10 | dwarka\n",
      "Processing Record 8 of Set 10 | hanna\n",
      "Processing Record 9 of Set 10 | coahuayana\n",
      "Processing Record 10 of Set 10 | fuerte olimpo\n",
      "Processing Record 11 of Set 10 | aklavik\n",
      "Processing Record 12 of Set 10 | beringovskiy\n",
      "Processing Record 13 of Set 10 | smithers\n",
      "Processing Record 14 of Set 10 | port blair\n",
      "Processing Record 15 of Set 10 | kendari\n",
      "Processing Record 16 of Set 10 | waddan\n",
      "Processing Record 17 of Set 10 | port lincoln\n",
      "Processing Record 18 of Set 10 | porto walter\n",
      "Processing Record 19 of Set 10 | marsh harbour\n",
      "Processing Record 20 of Set 10 | forestville\n",
      "City not found. Skipping...\n",
      "Processing Record 21 of Set 10 | buchanan\n",
      "Processing Record 22 of Set 10 | sangar\n",
      "Processing Record 23 of Set 10 | lewistown\n",
      "Processing Record 24 of Set 10 | ayolas\n",
      "City not found. Skipping...\n",
      "Processing Record 25 of Set 10 | esperance\n",
      "Processing Record 26 of Set 10 | boende\n",
      "Processing Record 27 of Set 10 | broken hill\n",
      "Processing Record 28 of Set 10 | talcahuano\n",
      "Processing Record 29 of Set 10 | kieta\n",
      "Processing Record 30 of Set 10 | torbay\n",
      "Processing Record 31 of Set 10 | verkhoyansk\n",
      "Processing Record 32 of Set 10 | hambantota\n",
      "Processing Record 33 of Set 10 | bemidji\n",
      "Processing Record 34 of Set 10 | kamina\n",
      "Processing Record 35 of Set 10 | maryborough\n",
      "City not found. Skipping...\n",
      "Processing Record 36 of Set 10 | hobyo\n",
      "Processing Record 37 of Set 10 | huarmey\n",
      "Processing Record 38 of Set 10 | hovd\n",
      "Processing Record 39 of Set 10 | kondrovo\n",
      "Processing Record 40 of Set 10 | shellbrook\n",
      "Processing Record 41 of Set 10 | gudivada\n",
      "Processing Record 42 of Set 10 | pitimbu\n",
      "Processing Record 43 of Set 10 | carora\n",
      "City not found. Skipping...\n",
      "Processing Record 44 of Set 10 | monster\n",
      "Processing Record 45 of Set 10 | mecca\n",
      "Processing Record 46 of Set 10 | sorong\n",
      "Processing Record 47 of Set 10 | czestochowa\n",
      "Processing Record 48 of Set 10 | eirunepe\n",
      "Processing Record 49 of Set 10 | port-cartier\n",
      "Processing Record 1 of Set 11 | petropavlovka\n",
      "Processing Record 2 of Set 11 | tommot\n",
      "Processing Record 3 of Set 11 | mareeba\n",
      "Processing Record 4 of Set 11 | catamarca\n",
      "Processing Record 5 of Set 11 | moerai\n",
      "Processing Record 6 of Set 11 | den helder\n",
      "Processing Record 7 of Set 11 | hofn\n",
      "Processing Record 8 of Set 11 | grand-santi\n",
      "Processing Record 9 of Set 11 | gamba\n",
      "Processing Record 10 of Set 11 | eureka\n",
      "Processing Record 11 of Set 11 | saint-louis\n",
      "Processing Record 12 of Set 11 | alice springs\n",
      "Processing Record 13 of Set 11 | silifke\n",
      "City not found. Skipping...\n",
      "Processing Record 14 of Set 11 | wakefield\n",
      "Processing Record 15 of Set 11 | igrim\n",
      "Processing Record 16 of Set 11 | imbituba\n",
      "Processing Record 17 of Set 11 | irituia\n",
      "Processing Record 18 of Set 11 | bontang\n",
      "Processing Record 19 of Set 11 | northam\n",
      "Processing Record 20 of Set 11 | okha\n",
      "Processing Record 21 of Set 11 | talaya\n",
      "Processing Record 22 of Set 11 | herat\n",
      "Processing Record 23 of Set 11 | usinsk\n",
      "Processing Record 24 of Set 11 | huilong\n",
      "Processing Record 25 of Set 11 | mayumba\n",
      "Processing Record 26 of Set 11 | prince rupert\n",
      "Processing Record 27 of Set 11 | bellevue\n",
      "Processing Record 28 of Set 11 | college\n",
      "Processing Record 29 of Set 11 | san jeronimo\n",
      "Processing Record 30 of Set 11 | robertsport\n",
      "Processing Record 31 of Set 11 | tabriz\n",
      "Processing Record 32 of Set 11 | general roca\n",
      "Processing Record 33 of Set 11 | vila velha\n",
      "Processing Record 34 of Set 11 | cordoba\n",
      "Processing Record 35 of Set 11 | kavieng\n",
      "Processing Record 36 of Set 11 | eyl\n",
      "Processing Record 37 of Set 11 | berdigestyakh\n",
      "City not found. Skipping...\n",
      "Processing Record 38 of Set 11 | aquiraz\n",
      "Processing Record 39 of Set 11 | barra do corda\n",
      "Processing Record 40 of Set 11 | prado\n",
      "Processing Record 41 of Set 11 | korla\n",
      "Processing Record 42 of Set 11 | boulder city\n",
      "Processing Record 43 of Set 11 | vulcan\n",
      "Processing Record 44 of Set 11 | tevriz\n",
      "Processing Record 45 of Set 11 | tongchuan\n",
      "Processing Record 46 of Set 11 | bahia blanca\n",
      "Processing Record 47 of Set 11 | vieksniai\n",
      "Processing Record 48 of Set 11 | pueblo bello\n",
      "Processing Record 49 of Set 11 | pangody\n",
      "Processing Record 1 of Set 12 | pontoise\n",
      "Processing Record 2 of Set 12 | la palma\n",
      "Processing Record 3 of Set 12 | gasa\n",
      "Processing Record 4 of Set 12 | boddam\n",
      "Processing Record 5 of Set 12 | katav-ivanovsk\n",
      "Processing Record 6 of Set 12 | dukat\n",
      "Processing Record 7 of Set 12 | nishihara\n",
      "Processing Record 8 of Set 12 | coracao de jesus\n",
      "Processing Record 9 of Set 12 | san quintin\n",
      "-----------------------------\n",
      "Data Retrieval Complete\n",
      "-----------------------------\n"
     ]
    }
   ],
   "source": [
    "# Try to grab the data of cities if they are available \n",
    "print('Beginning Data Retrieval')\n",
    "print('-----------------------------')\n",
    "\n",
    "# For loop all the cities\n",
    "for city in cities:\n",
    "# Put the data in the empty lists     \n",
    "    try:\n",
    "        response = requests.get(query_url + city).json() \n",
    "        lat.append(response['coord']['lat'])\n",
    "        lng.append(response['coord']['lon'])\n",
    "        max_temp.append(response['main']['temp_max'])\n",
    "        humidity.append(response['main']['humidity'])\n",
    "        cloudiness.append(response['clouds']['all'])\n",
    "        windspeed.append(response['wind']['speed'])\n",
    "        date.append(response['dt'])\n",
    "        city2.append(city)\n",
    "\n",
    "# Print log of each city\n",
    "        if record > 48:\n",
    "            record = 1\n",
    "            set_key += 1\n",
    "            \n",
    "        else: \n",
    "            record += 1\n",
    "            \n",
    "        print(f'Processing Record {record} of Set {set_key} | {city}')\n",
    "    except:\n",
    "        print('City not found. Skipping...')\n",
    "print('-----------------------------')\n",
    "print('Data Retrieval Complete')\n",
    "print('-----------------------------')"
   ]
  },
  {
   "cell_type": "markdown",
   "metadata": {},
   "source": [
    "### Convert Raw Data to DataFrame\n",
    "* Export the city data into a .csv.\n",
    "* Display the DataFrame"
   ]
  },
  {
   "cell_type": "code",
   "execution_count": 7,
   "metadata": {},
   "outputs": [
    {
     "data": {
      "text/html": [
       "<div>\n",
       "<style scoped>\n",
       "    .dataframe tbody tr th:only-of-type {\n",
       "        vertical-align: middle;\n",
       "    }\n",
       "\n",
       "    .dataframe tbody tr th {\n",
       "        vertical-align: top;\n",
       "    }\n",
       "\n",
       "    .dataframe thead th {\n",
       "        text-align: right;\n",
       "    }\n",
       "</style>\n",
       "<table border=\"1\" class=\"dataframe\">\n",
       "  <thead>\n",
       "    <tr style=\"text-align: right;\">\n",
       "      <th></th>\n",
       "      <th>City</th>\n",
       "      <th>Lat</th>\n",
       "      <th>Lng</th>\n",
       "      <th>Max temp</th>\n",
       "      <th>Humidity</th>\n",
       "      <th>Cloudiness</th>\n",
       "      <th>Wind Speed</th>\n",
       "      <th>Date</th>\n",
       "    </tr>\n",
       "  </thead>\n",
       "  <tbody>\n",
       "    <tr>\n",
       "      <th>0</th>\n",
       "      <td>lebu</td>\n",
       "      <td>-37.6167</td>\n",
       "      <td>-73.6500</td>\n",
       "      <td>58.01</td>\n",
       "      <td>95</td>\n",
       "      <td>95</td>\n",
       "      <td>6.02</td>\n",
       "      <td>1612601554</td>\n",
       "    </tr>\n",
       "    <tr>\n",
       "      <th>1</th>\n",
       "      <td>touros</td>\n",
       "      <td>-5.1989</td>\n",
       "      <td>-35.4608</td>\n",
       "      <td>71.60</td>\n",
       "      <td>94</td>\n",
       "      <td>40</td>\n",
       "      <td>4.61</td>\n",
       "      <td>1612601555</td>\n",
       "    </tr>\n",
       "    <tr>\n",
       "      <th>2</th>\n",
       "      <td>leningradskiy</td>\n",
       "      <td>69.3833</td>\n",
       "      <td>178.4167</td>\n",
       "      <td>-12.39</td>\n",
       "      <td>86</td>\n",
       "      <td>100</td>\n",
       "      <td>7.16</td>\n",
       "      <td>1612601555</td>\n",
       "    </tr>\n",
       "    <tr>\n",
       "      <th>3</th>\n",
       "      <td>viedma</td>\n",
       "      <td>-40.8135</td>\n",
       "      <td>-62.9967</td>\n",
       "      <td>59.00</td>\n",
       "      <td>83</td>\n",
       "      <td>0</td>\n",
       "      <td>10.56</td>\n",
       "      <td>1612601555</td>\n",
       "    </tr>\n",
       "    <tr>\n",
       "      <th>4</th>\n",
       "      <td>kodiak</td>\n",
       "      <td>57.7900</td>\n",
       "      <td>-152.4072</td>\n",
       "      <td>35.60</td>\n",
       "      <td>48</td>\n",
       "      <td>1</td>\n",
       "      <td>11.50</td>\n",
       "      <td>1612601555</td>\n",
       "    </tr>\n",
       "  </tbody>\n",
       "</table>\n",
       "</div>"
      ],
      "text/plain": [
       "            City      Lat       Lng  Max temp  Humidity  Cloudiness  \\\n",
       "0           lebu -37.6167  -73.6500     58.01        95          95   \n",
       "1         touros  -5.1989  -35.4608     71.60        94          40   \n",
       "2  leningradskiy  69.3833  178.4167    -12.39        86         100   \n",
       "3         viedma -40.8135  -62.9967     59.00        83           0   \n",
       "4         kodiak  57.7900 -152.4072     35.60        48           1   \n",
       "\n",
       "   Wind Speed        Date  \n",
       "0        6.02  1612601554  \n",
       "1        4.61  1612601555  \n",
       "2        7.16  1612601555  \n",
       "3       10.56  1612601555  \n",
       "4       11.50  1612601555  "
      ]
     },
     "execution_count": 7,
     "metadata": {},
     "output_type": "execute_result"
    }
   ],
   "source": [
    "# Create dictionary of city data\n",
    "cities_data_dict={\n",
    "    'City': city2,\n",
    "    'Lat': lat,\n",
    "    'Lng': lng,\n",
    "    'Max temp': max_temp,\n",
    "    'Humidity': humidity,\n",
    "    'Cloudiness': cloudiness,\n",
    "    'Wind Speed': windspeed,\n",
    "    'Date': date\n",
    "}\n",
    "\n",
    "# Print the DataFrame\n",
    "city_df = pd.DataFrame(cities_data_dict)\n",
    "city_df.head()"
   ]
  },
  {
   "cell_type": "code",
   "execution_count": 8,
   "metadata": {},
   "outputs": [
    {
     "data": {
      "text/html": [
       "<div>\n",
       "<style scoped>\n",
       "    .dataframe tbody tr th:only-of-type {\n",
       "        vertical-align: middle;\n",
       "    }\n",
       "\n",
       "    .dataframe tbody tr th {\n",
       "        vertical-align: top;\n",
       "    }\n",
       "\n",
       "    .dataframe thead th {\n",
       "        text-align: right;\n",
       "    }\n",
       "</style>\n",
       "<table border=\"1\" class=\"dataframe\">\n",
       "  <thead>\n",
       "    <tr style=\"text-align: right;\">\n",
       "      <th></th>\n",
       "      <th>Lat</th>\n",
       "      <th>Lng</th>\n",
       "      <th>Max temp</th>\n",
       "      <th>Humidity</th>\n",
       "      <th>Cloudiness</th>\n",
       "      <th>Wind Speed</th>\n",
       "      <th>Date</th>\n",
       "    </tr>\n",
       "  </thead>\n",
       "  <tbody>\n",
       "    <tr>\n",
       "      <th>count</th>\n",
       "      <td>548.000000</td>\n",
       "      <td>548.000000</td>\n",
       "      <td>548.000000</td>\n",
       "      <td>548.000000</td>\n",
       "      <td>548.000000</td>\n",
       "      <td>548.000000</td>\n",
       "      <td>5.480000e+02</td>\n",
       "    </tr>\n",
       "    <tr>\n",
       "      <th>mean</th>\n",
       "      <td>19.602593</td>\n",
       "      <td>15.516885</td>\n",
       "      <td>51.414489</td>\n",
       "      <td>74.107664</td>\n",
       "      <td>53.808394</td>\n",
       "      <td>7.818467</td>\n",
       "      <td>1.612602e+09</td>\n",
       "    </tr>\n",
       "    <tr>\n",
       "      <th>std</th>\n",
       "      <td>33.811681</td>\n",
       "      <td>88.168430</td>\n",
       "      <td>32.157820</td>\n",
       "      <td>19.832878</td>\n",
       "      <td>39.377953</td>\n",
       "      <td>5.410446</td>\n",
       "      <td>5.541277e+01</td>\n",
       "    </tr>\n",
       "    <tr>\n",
       "      <th>min</th>\n",
       "      <td>-54.800000</td>\n",
       "      <td>-179.166700</td>\n",
       "      <td>-45.400000</td>\n",
       "      <td>14.000000</td>\n",
       "      <td>0.000000</td>\n",
       "      <td>0.180000</td>\n",
       "      <td>1.612601e+09</td>\n",
       "    </tr>\n",
       "    <tr>\n",
       "      <th>25%</th>\n",
       "      <td>-9.174750</td>\n",
       "      <td>-61.801250</td>\n",
       "      <td>33.897500</td>\n",
       "      <td>67.000000</td>\n",
       "      <td>9.750000</td>\n",
       "      <td>3.440000</td>\n",
       "      <td>1.612602e+09</td>\n",
       "    </tr>\n",
       "    <tr>\n",
       "      <th>50%</th>\n",
       "      <td>22.728800</td>\n",
       "      <td>19.637400</td>\n",
       "      <td>60.800000</td>\n",
       "      <td>79.000000</td>\n",
       "      <td>67.500000</td>\n",
       "      <td>6.765000</td>\n",
       "      <td>1.612602e+09</td>\n",
       "    </tr>\n",
       "    <tr>\n",
       "      <th>75%</th>\n",
       "      <td>49.234650</td>\n",
       "      <td>88.086775</td>\n",
       "      <td>77.000000</td>\n",
       "      <td>88.000000</td>\n",
       "      <td>90.000000</td>\n",
       "      <td>10.580000</td>\n",
       "      <td>1.612602e+09</td>\n",
       "    </tr>\n",
       "    <tr>\n",
       "      <th>max</th>\n",
       "      <td>78.218600</td>\n",
       "      <td>179.316700</td>\n",
       "      <td>95.000000</td>\n",
       "      <td>100.000000</td>\n",
       "      <td>100.000000</td>\n",
       "      <td>31.320000</td>\n",
       "      <td>1.612602e+09</td>\n",
       "    </tr>\n",
       "  </tbody>\n",
       "</table>\n",
       "</div>"
      ],
      "text/plain": [
       "              Lat         Lng    Max temp    Humidity  Cloudiness  Wind Speed  \\\n",
       "count  548.000000  548.000000  548.000000  548.000000  548.000000  548.000000   \n",
       "mean    19.602593   15.516885   51.414489   74.107664   53.808394    7.818467   \n",
       "std     33.811681   88.168430   32.157820   19.832878   39.377953    5.410446   \n",
       "min    -54.800000 -179.166700  -45.400000   14.000000    0.000000    0.180000   \n",
       "25%     -9.174750  -61.801250   33.897500   67.000000    9.750000    3.440000   \n",
       "50%     22.728800   19.637400   60.800000   79.000000   67.500000    6.765000   \n",
       "75%     49.234650   88.086775   77.000000   88.000000   90.000000   10.580000   \n",
       "max     78.218600  179.316700   95.000000  100.000000  100.000000   31.320000   \n",
       "\n",
       "               Date  \n",
       "count  5.480000e+02  \n",
       "mean   1.612602e+09  \n",
       "std    5.541277e+01  \n",
       "min    1.612601e+09  \n",
       "25%    1.612602e+09  \n",
       "50%    1.612602e+09  \n",
       "75%    1.612602e+09  \n",
       "max    1.612602e+09  "
      ]
     },
     "execution_count": 8,
     "metadata": {},
     "output_type": "execute_result"
    }
   ],
   "source": [
    "# Describe the DataFrame\n",
    "city_df.describe()"
   ]
  },
  {
   "cell_type": "markdown",
   "metadata": {},
   "source": [
    "## Inspect the data and remove the cities where the humidity > 100%.\n",
    "----\n",
    "Skip this step if there are no cities that have humidity > 100%. "
   ]
  },
  {
   "cell_type": "code",
   "execution_count": 9,
   "metadata": {},
   "outputs": [
    {
     "data": {
      "text/html": [
       "<div>\n",
       "<style scoped>\n",
       "    .dataframe tbody tr th:only-of-type {\n",
       "        vertical-align: middle;\n",
       "    }\n",
       "\n",
       "    .dataframe tbody tr th {\n",
       "        vertical-align: top;\n",
       "    }\n",
       "\n",
       "    .dataframe thead th {\n",
       "        text-align: right;\n",
       "    }\n",
       "</style>\n",
       "<table border=\"1\" class=\"dataframe\">\n",
       "  <thead>\n",
       "    <tr style=\"text-align: right;\">\n",
       "      <th></th>\n",
       "      <th>City</th>\n",
       "      <th>Lat</th>\n",
       "      <th>Lng</th>\n",
       "      <th>Max temp</th>\n",
       "      <th>Humidity</th>\n",
       "      <th>Cloudiness</th>\n",
       "      <th>Wind Speed</th>\n",
       "      <th>Date</th>\n",
       "    </tr>\n",
       "  </thead>\n",
       "  <tbody>\n",
       "  </tbody>\n",
       "</table>\n",
       "</div>"
      ],
      "text/plain": [
       "Empty DataFrame\n",
       "Columns: [City, Lat, Lng, Max temp, Humidity, Cloudiness, Wind Speed, Date]\n",
       "Index: []"
      ]
     },
     "execution_count": 9,
     "metadata": {},
     "output_type": "execute_result"
    }
   ],
   "source": [
    "# Create filter for cities that have humidity above 100%\n",
    "filt = city_df['Humidity'] > 100  \n",
    "city_df[filt]"
   ]
  },
  {
   "cell_type": "code",
   "execution_count": 10,
   "metadata": {},
   "outputs": [
    {
     "data": {
      "text/html": [
       "<div>\n",
       "<style scoped>\n",
       "    .dataframe tbody tr th:only-of-type {\n",
       "        vertical-align: middle;\n",
       "    }\n",
       "\n",
       "    .dataframe tbody tr th {\n",
       "        vertical-align: top;\n",
       "    }\n",
       "\n",
       "    .dataframe thead th {\n",
       "        text-align: right;\n",
       "    }\n",
       "</style>\n",
       "<table border=\"1\" class=\"dataframe\">\n",
       "  <thead>\n",
       "    <tr style=\"text-align: right;\">\n",
       "      <th></th>\n",
       "      <th>Lat</th>\n",
       "      <th>Lng</th>\n",
       "      <th>Max temp</th>\n",
       "      <th>Humidity</th>\n",
       "      <th>Cloudiness</th>\n",
       "      <th>Wind Speed</th>\n",
       "      <th>Date</th>\n",
       "    </tr>\n",
       "  </thead>\n",
       "  <tbody>\n",
       "    <tr>\n",
       "      <th>count</th>\n",
       "      <td>548.000000</td>\n",
       "      <td>548.000000</td>\n",
       "      <td>548.000000</td>\n",
       "      <td>548.000000</td>\n",
       "      <td>548.000000</td>\n",
       "      <td>548.000000</td>\n",
       "      <td>5.480000e+02</td>\n",
       "    </tr>\n",
       "    <tr>\n",
       "      <th>mean</th>\n",
       "      <td>19.602593</td>\n",
       "      <td>15.516885</td>\n",
       "      <td>51.414489</td>\n",
       "      <td>74.107664</td>\n",
       "      <td>53.808394</td>\n",
       "      <td>7.818467</td>\n",
       "      <td>1.612602e+09</td>\n",
       "    </tr>\n",
       "    <tr>\n",
       "      <th>std</th>\n",
       "      <td>33.811681</td>\n",
       "      <td>88.168430</td>\n",
       "      <td>32.157820</td>\n",
       "      <td>19.832878</td>\n",
       "      <td>39.377953</td>\n",
       "      <td>5.410446</td>\n",
       "      <td>5.541277e+01</td>\n",
       "    </tr>\n",
       "    <tr>\n",
       "      <th>min</th>\n",
       "      <td>-54.800000</td>\n",
       "      <td>-179.166700</td>\n",
       "      <td>-45.400000</td>\n",
       "      <td>14.000000</td>\n",
       "      <td>0.000000</td>\n",
       "      <td>0.180000</td>\n",
       "      <td>1.612601e+09</td>\n",
       "    </tr>\n",
       "    <tr>\n",
       "      <th>25%</th>\n",
       "      <td>-9.174750</td>\n",
       "      <td>-61.801250</td>\n",
       "      <td>33.897500</td>\n",
       "      <td>67.000000</td>\n",
       "      <td>9.750000</td>\n",
       "      <td>3.440000</td>\n",
       "      <td>1.612602e+09</td>\n",
       "    </tr>\n",
       "    <tr>\n",
       "      <th>50%</th>\n",
       "      <td>22.728800</td>\n",
       "      <td>19.637400</td>\n",
       "      <td>60.800000</td>\n",
       "      <td>79.000000</td>\n",
       "      <td>67.500000</td>\n",
       "      <td>6.765000</td>\n",
       "      <td>1.612602e+09</td>\n",
       "    </tr>\n",
       "    <tr>\n",
       "      <th>75%</th>\n",
       "      <td>49.234650</td>\n",
       "      <td>88.086775</td>\n",
       "      <td>77.000000</td>\n",
       "      <td>88.000000</td>\n",
       "      <td>90.000000</td>\n",
       "      <td>10.580000</td>\n",
       "      <td>1.612602e+09</td>\n",
       "    </tr>\n",
       "    <tr>\n",
       "      <th>max</th>\n",
       "      <td>78.218600</td>\n",
       "      <td>179.316700</td>\n",
       "      <td>95.000000</td>\n",
       "      <td>100.000000</td>\n",
       "      <td>100.000000</td>\n",
       "      <td>31.320000</td>\n",
       "      <td>1.612602e+09</td>\n",
       "    </tr>\n",
       "  </tbody>\n",
       "</table>\n",
       "</div>"
      ],
      "text/plain": [
       "              Lat         Lng    Max temp    Humidity  Cloudiness  Wind Speed  \\\n",
       "count  548.000000  548.000000  548.000000  548.000000  548.000000  548.000000   \n",
       "mean    19.602593   15.516885   51.414489   74.107664   53.808394    7.818467   \n",
       "std     33.811681   88.168430   32.157820   19.832878   39.377953    5.410446   \n",
       "min    -54.800000 -179.166700  -45.400000   14.000000    0.000000    0.180000   \n",
       "25%     -9.174750  -61.801250   33.897500   67.000000    9.750000    3.440000   \n",
       "50%     22.728800   19.637400   60.800000   79.000000   67.500000    6.765000   \n",
       "75%     49.234650   88.086775   77.000000   88.000000   90.000000   10.580000   \n",
       "max     78.218600  179.316700   95.000000  100.000000  100.000000   31.320000   \n",
       "\n",
       "               Date  \n",
       "count  5.480000e+02  \n",
       "mean   1.612602e+09  \n",
       "std    5.541277e+01  \n",
       "min    1.612601e+09  \n",
       "25%    1.612602e+09  \n",
       "50%    1.612602e+09  \n",
       "75%    1.612602e+09  \n",
       "max    1.612602e+09  "
      ]
     },
     "execution_count": 10,
     "metadata": {},
     "output_type": "execute_result"
    }
   ],
   "source": [
    "# Inspect the data \n",
    "city_df.describe()"
   ]
  },
  {
   "cell_type": "code",
   "execution_count": 11,
   "metadata": {},
   "outputs": [
    {
     "data": {
      "text/plain": [
       "Int64Index([], dtype='int64')"
      ]
     },
     "execution_count": 11,
     "metadata": {},
     "output_type": "execute_result"
    }
   ],
   "source": [
    "#  Get the indices of cities that have humidity over 100%.\n",
    "city_df[filt].index"
   ]
  },
  {
   "cell_type": "code",
   "execution_count": 12,
   "metadata": {},
   "outputs": [
    {
     "data": {
      "text/html": [
       "<div>\n",
       "<style scoped>\n",
       "    .dataframe tbody tr th:only-of-type {\n",
       "        vertical-align: middle;\n",
       "    }\n",
       "\n",
       "    .dataframe tbody tr th {\n",
       "        vertical-align: top;\n",
       "    }\n",
       "\n",
       "    .dataframe thead th {\n",
       "        text-align: right;\n",
       "    }\n",
       "</style>\n",
       "<table border=\"1\" class=\"dataframe\">\n",
       "  <thead>\n",
       "    <tr style=\"text-align: right;\">\n",
       "      <th></th>\n",
       "      <th>City</th>\n",
       "      <th>Lat</th>\n",
       "      <th>Lng</th>\n",
       "      <th>Max temp</th>\n",
       "      <th>Humidity</th>\n",
       "      <th>Cloudiness</th>\n",
       "      <th>Wind Speed</th>\n",
       "      <th>Date</th>\n",
       "    </tr>\n",
       "  </thead>\n",
       "  <tbody>\n",
       "    <tr>\n",
       "      <th>0</th>\n",
       "      <td>lebu</td>\n",
       "      <td>-37.6167</td>\n",
       "      <td>-73.6500</td>\n",
       "      <td>58.01</td>\n",
       "      <td>95</td>\n",
       "      <td>95</td>\n",
       "      <td>6.02</td>\n",
       "      <td>1612601554</td>\n",
       "    </tr>\n",
       "    <tr>\n",
       "      <th>1</th>\n",
       "      <td>touros</td>\n",
       "      <td>-5.1989</td>\n",
       "      <td>-35.4608</td>\n",
       "      <td>71.60</td>\n",
       "      <td>94</td>\n",
       "      <td>40</td>\n",
       "      <td>4.61</td>\n",
       "      <td>1612601555</td>\n",
       "    </tr>\n",
       "    <tr>\n",
       "      <th>2</th>\n",
       "      <td>leningradskiy</td>\n",
       "      <td>69.3833</td>\n",
       "      <td>178.4167</td>\n",
       "      <td>-12.39</td>\n",
       "      <td>86</td>\n",
       "      <td>100</td>\n",
       "      <td>7.16</td>\n",
       "      <td>1612601555</td>\n",
       "    </tr>\n",
       "    <tr>\n",
       "      <th>3</th>\n",
       "      <td>viedma</td>\n",
       "      <td>-40.8135</td>\n",
       "      <td>-62.9967</td>\n",
       "      <td>59.00</td>\n",
       "      <td>83</td>\n",
       "      <td>0</td>\n",
       "      <td>10.56</td>\n",
       "      <td>1612601555</td>\n",
       "    </tr>\n",
       "    <tr>\n",
       "      <th>4</th>\n",
       "      <td>kodiak</td>\n",
       "      <td>57.7900</td>\n",
       "      <td>-152.4072</td>\n",
       "      <td>35.60</td>\n",
       "      <td>48</td>\n",
       "      <td>1</td>\n",
       "      <td>11.50</td>\n",
       "      <td>1612601555</td>\n",
       "    </tr>\n",
       "    <tr>\n",
       "      <th>...</th>\n",
       "      <td>...</td>\n",
       "      <td>...</td>\n",
       "      <td>...</td>\n",
       "      <td>...</td>\n",
       "      <td>...</td>\n",
       "      <td>...</td>\n",
       "      <td>...</td>\n",
       "      <td>...</td>\n",
       "    </tr>\n",
       "    <tr>\n",
       "      <th>543</th>\n",
       "      <td>katav-ivanovsk</td>\n",
       "      <td>54.7531</td>\n",
       "      <td>58.1956</td>\n",
       "      <td>36.46</td>\n",
       "      <td>96</td>\n",
       "      <td>100</td>\n",
       "      <td>2.10</td>\n",
       "      <td>1612601636</td>\n",
       "    </tr>\n",
       "    <tr>\n",
       "      <th>544</th>\n",
       "      <td>dukat</td>\n",
       "      <td>62.5500</td>\n",
       "      <td>155.5500</td>\n",
       "      <td>-17.61</td>\n",
       "      <td>87</td>\n",
       "      <td>72</td>\n",
       "      <td>3.24</td>\n",
       "      <td>1612601636</td>\n",
       "    </tr>\n",
       "    <tr>\n",
       "      <th>545</th>\n",
       "      <td>nishihara</td>\n",
       "      <td>26.1842</td>\n",
       "      <td>127.7558</td>\n",
       "      <td>75.20</td>\n",
       "      <td>49</td>\n",
       "      <td>20</td>\n",
       "      <td>10.36</td>\n",
       "      <td>1612601636</td>\n",
       "    </tr>\n",
       "    <tr>\n",
       "      <th>546</th>\n",
       "      <td>coracao de jesus</td>\n",
       "      <td>-16.6853</td>\n",
       "      <td>-44.3650</td>\n",
       "      <td>67.71</td>\n",
       "      <td>95</td>\n",
       "      <td>100</td>\n",
       "      <td>4.94</td>\n",
       "      <td>1612601636</td>\n",
       "    </tr>\n",
       "    <tr>\n",
       "      <th>547</th>\n",
       "      <td>san quintin</td>\n",
       "      <td>30.4833</td>\n",
       "      <td>-115.9500</td>\n",
       "      <td>54.88</td>\n",
       "      <td>87</td>\n",
       "      <td>24</td>\n",
       "      <td>4.43</td>\n",
       "      <td>1612601636</td>\n",
       "    </tr>\n",
       "  </tbody>\n",
       "</table>\n",
       "<p>548 rows × 8 columns</p>\n",
       "</div>"
      ],
      "text/plain": [
       "                 City      Lat       Lng  Max temp  Humidity  Cloudiness  \\\n",
       "0                lebu -37.6167  -73.6500     58.01        95          95   \n",
       "1              touros  -5.1989  -35.4608     71.60        94          40   \n",
       "2       leningradskiy  69.3833  178.4167    -12.39        86         100   \n",
       "3              viedma -40.8135  -62.9967     59.00        83           0   \n",
       "4              kodiak  57.7900 -152.4072     35.60        48           1   \n",
       "..                ...      ...       ...       ...       ...         ...   \n",
       "543    katav-ivanovsk  54.7531   58.1956     36.46        96         100   \n",
       "544             dukat  62.5500  155.5500    -17.61        87          72   \n",
       "545         nishihara  26.1842  127.7558     75.20        49          20   \n",
       "546  coracao de jesus -16.6853  -44.3650     67.71        95         100   \n",
       "547       san quintin  30.4833 -115.9500     54.88        87          24   \n",
       "\n",
       "     Wind Speed        Date  \n",
       "0          6.02  1612601554  \n",
       "1          4.61  1612601555  \n",
       "2          7.16  1612601555  \n",
       "3         10.56  1612601555  \n",
       "4         11.50  1612601555  \n",
       "..          ...         ...  \n",
       "543        2.10  1612601636  \n",
       "544        3.24  1612601636  \n",
       "545       10.36  1612601636  \n",
       "546        4.94  1612601636  \n",
       "547        4.43  1612601636  \n",
       "\n",
       "[548 rows x 8 columns]"
      ]
     },
     "execution_count": 12,
     "metadata": {},
     "output_type": "execute_result"
    }
   ],
   "source": [
    "# Make a new DataFrame equal to the city data to drop all humidity outliers by index.\n",
    "# Passing \"inplace=False\" will make a copy of the city_data DataFrame, which we call \"clean_city_data\".\n",
    "clean_city_data = city_df.drop(city_df[city_df['Humidity'] > 100].index, inplace = False)\n",
    "clean_city_data"
   ]
  },
  {
   "cell_type": "markdown",
   "metadata": {},
   "source": [
    "## Plotting the Data\n",
    "* Use proper labeling of the plots using plot titles (including date of analysis) and axes labels.\n",
    "* Save the plotted figures as .pngs."
   ]
  },
  {
   "cell_type": "markdown",
   "metadata": {},
   "source": [
    "## Latitude vs. Temperature Plot"
   ]
  },
  {
   "cell_type": "code",
   "execution_count": 13,
   "metadata": {
    "scrolled": true
   },
   "outputs": [],
   "source": [
    "# Set x and y values \n",
    "x_value = clean_city_data['Lat']\n",
    "y_value = clean_city_data['Max temp']"
   ]
  },
  {
   "cell_type": "code",
   "execution_count": 14,
   "metadata": {},
   "outputs": [
    {
     "name": "stdout",
     "output_type": "stream",
     "text": [
      "This plot shows the releationship between each city's latitude and its max temperature on a given date.\n"
     ]
    },
    {
     "data": {
      "image/png": "[encoded data removed]",
      "text/plain": [
       "<Figure size 432x288 with 1 Axes>"
      ]
     },
     "metadata": {
      "needs_background": "light"
     },
     "output_type": "display_data"
    }
   ],
   "source": [
    "# Plot the data\n",
    "plt.scatter(x_value, y_value, marker = 'o', facecolors = 'blue', edgecolors = 'black' , alpha = 0.75)\n",
    "plt.xlabel('Latitude')\n",
    "plt.ylabel('Max Temperature (F)')\n",
    "plt.title('City Latitude vs Max Temperature (06/02/2021)')\n",
    "print(\"This plot shows the releationship between each city's latitude and its max temperature on a given date.\")"
   ]
  },
  {
   "cell_type": "markdown",
   "metadata": {},
   "source": [
    "## Latitude vs. Humidity Plot"
   ]
  },
  {
   "cell_type": "code",
   "execution_count": 15,
   "metadata": {},
   "outputs": [],
   "source": [
    "# Set x and y values \n",
    "x_value = clean_city_data['Lat']\n",
    "y_value = clean_city_data['Humidity']"
   ]
  },
  {
   "cell_type": "code",
   "execution_count": 16,
   "metadata": {},
   "outputs": [
    {
     "name": "stdout",
     "output_type": "stream",
     "text": [
      "This plot shows the releationship between each city's latitude and its max temperature on a given date.\n"
     ]
    },
    {
     "data": {
      "image/png": "[encoded data removed]",
      "text/plain": [
       "<Figure size 432x288 with 1 Axes>"
      ]
     },
     "metadata": {
      "needs_background": "light"
     },
     "output_type": "display_data"
    }
   ],
   "source": [
    "# Plot the data\n",
    "plt.scatter(x_value, y_value, marker = 'o', facecolors = 'blue', edgecolors = 'black' , alpha = 0.75)\n",
    "plt.xlabel('Latitude')\n",
    "plt.ylabel('Humidity (%)')\n",
    "plt.title('City Latitude vs Humidity (06/02/2021)')\n",
    "print(\"This plot shows the releationship between each city's latitude and its max temperature on a given date.\")"
   ]
  },
  {
   "cell_type": "markdown",
   "metadata": {},
   "source": [
    "## Latitude vs. Cloudiness Plot"
   ]
  },
  {
   "cell_type": "code",
   "execution_count": 17,
   "metadata": {},
   "outputs": [],
   "source": [
    "# Set x and y values \n",
    "x_value = clean_city_data['Lat']\n",
    "y_value = clean_city_data['Cloudiness']"
   ]
  },
  {
   "cell_type": "code",
   "execution_count": 18,
   "metadata": {},
   "outputs": [
    {
     "name": "stdout",
     "output_type": "stream",
     "text": [
      "This plot shows the releationship between each city's latitude and its cloudiness on a given date.\n"
     ]
    },
    {
     "data": {
      "image/png": "[encoded data removed]",
      "text/plain": [
       "<Figure size 432x288 with 1 Axes>"
      ]
     },
     "metadata": {
      "needs_background": "light"
     },
     "output_type": "display_data"
    }
   ],
   "source": [
    "# Plot the data\n",
    "plt.scatter(x_value, y_value, marker = 'o', facecolors = 'blue', edgecolors = 'black' , alpha = 0.75)\n",
    "plt.xlabel('Latitude')\n",
    "plt.ylabel('Cloudiness (%)')\n",
    "plt.title('City Latitude vs Cloudiness (06/02/2021)')\n",
    "print(\"This plot shows the releationship between each city's latitude and its cloudiness on a given date.\")"
   ]
  },
  {
   "cell_type": "markdown",
   "metadata": {},
   "source": [
    "## Latitude vs. Wind Speed Plot"
   ]
  },
  {
   "cell_type": "code",
   "execution_count": 19,
   "metadata": {},
   "outputs": [],
   "source": [
    "# Set x and y values \n",
    "x_value = clean_city_data['Lat']\n",
    "y_value = clean_city_data['Wind Speed']"
   ]
  },
  {
   "cell_type": "code",
   "execution_count": 20,
   "metadata": {},
   "outputs": [
    {
     "name": "stdout",
     "output_type": "stream",
     "text": [
      "This plot shows the releationship between each city's latitude and its wind speed (mph) on a given date.\n"
     ]
    },
    {
     "data": {
      "image/png": "[encoded data removed]",
      "text/plain": [
       "<Figure size 432x288 with 1 Axes>"
      ]
     },
     "metadata": {
      "needs_background": "light"
     },
     "output_type": "display_data"
    }
   ],
   "source": [
    "# Plot the data\n",
    "plt.scatter(x_value, y_value, marker = 'o', facecolors = 'blue', edgecolors = 'black' , alpha = 0.75)\n",
    "plt.xlabel('Latitude')\n",
    "plt.ylabel('Wind Speed (mph)')\n",
    "plt.title('City Latitude vs Wind Speed (06/02/2021)')\n",
    "print(\"This plot shows the releationship between each city's latitude and its wind speed (mph) on a given date.\")"
   ]
  },
  {
   "cell_type": "markdown",
   "metadata": {},
   "source": [
    "## Linear Regression"
   ]
  },
  {
   "cell_type": "code",
   "execution_count": 21,
   "metadata": {},
   "outputs": [],
   "source": [
    "# Make DataFrame for Northern Hemisphere\n",
    "north_hem_df = clean_city_data.drop(clean_city_data[clean_city_data['Lat'] <= 0].index, inplace = False)"
   ]
  },
  {
   "cell_type": "code",
   "execution_count": 22,
   "metadata": {},
   "outputs": [],
   "source": [
    "# Make DataFrame for Southern Hemisphere\n",
    "south_hem_df = clean_city_data.drop(clean_city_data[clean_city_data['Lat'] >= 0].index, inplace = False)"
   ]
  },
  {
   "cell_type": "markdown",
   "metadata": {},
   "source": [
    "####  Northern Hemisphere - Max Temp vs. Latitude Linear Regression"
   ]
  },
  {
   "cell_type": "code",
   "execution_count": 23,
   "metadata": {},
   "outputs": [
    {
     "name": "stdout",
     "output_type": "stream",
     "text": [
      "The r-value is: -0.8714423848826028\n"
     ]
    },
    {
     "data": {
      "image/png": "[encoded data removed]",
      "text/plain": [
       "<Figure size 432x288 with 1 Axes>"
      ]
     },
     "metadata": {
      "needs_background": "light"
     },
     "output_type": "display_data"
    },
    {
     "name": "stdout",
     "output_type": "stream",
     "text": [
      "There is a strong negative relationship between each city's latitude and its maximum temperature in the Northern Hemisphere with an r-value of -0.87. The r-squared value is 0.76, which means that 76.0% of the data fit the regression model.  \n"
     ]
    }
   ],
   "source": [
    "# Plot linear regression\n",
    "x_value = north_hem_df['Lat']\n",
    "y_value = north_hem_df['Max temp'] \n",
    "(slope, intercept, rvalue, pvalue, stderr) = linregress(x_value, y_value)\n",
    "regress_value = x_value * slope + intercept \n",
    "line_eq = 'y = ' +str(round(slope,2)) + 'x + ' + str(round(intercept,2))\n",
    "plt.scatter(x_value, y_value)\n",
    "plt.plot(x_value,regress_value,'r-')\n",
    "plt.annotate(line_eq, (0,-20), fontsize=15, color='red')\n",
    "plt.xlabel('Latitude')\n",
    "plt.ylabel('Max Temp')\n",
    "print(f'The r-value is: {rvalue}')\n",
    "plt.show()\n",
    "print(f\"There is a strong negative relationship between each city's latitude and its maximum temperature in the Northern Hemisphere with an r-value of {round(rvalue,2)}. The r-squared value is {round(rvalue**2,2)}, which means that {round(rvalue**2,2)*100}% of the data fit the regression model.  \")"
   ]
  },
  {
   "cell_type": "markdown",
   "metadata": {},
   "source": [
    "####  Southern Hemisphere - Max Temp vs. Latitude Linear Regression"
   ]
  },
  {
   "cell_type": "code",
   "execution_count": 24,
   "metadata": {},
   "outputs": [
    {
     "name": "stdout",
     "output_type": "stream",
     "text": [
      "The r-value is: 0.5983862743576736\n"
     ]
    },
    {
     "data": {
      "image/png": "[encoded data removed]",
      "text/plain": [
       "<Figure size 432x288 with 1 Axes>"
      ]
     },
     "metadata": {
      "needs_background": "light"
     },
     "output_type": "display_data"
    },
    {
     "name": "stdout",
     "output_type": "stream",
     "text": [
      "There is a moderate positive relationship between each city's latitude and its maximum temperature in the Southern Hemisphere with an r-value of 0.6. The r-squared value is 0.36, which means that 36.0% of the data fit the regression model.  \n"
     ]
    }
   ],
   "source": [
    "# Plot linear regression\n",
    "x_value = south_hem_df['Lat']\n",
    "y_value = south_hem_df['Max temp'] \n",
    "(slope, intercept, rvalue, pvalue, stderr) = linregress(x_value, y_value)\n",
    "regress_value = x_value * slope + intercept \n",
    "line_eq = 'y = ' +str(round(slope,2)) + 'x + ' + str(round(intercept,2))\n",
    "plt.scatter(x_value, y_value)\n",
    "plt.plot(x_value,regress_value,'r-')\n",
    "plt.annotate(line_eq, (-30,40), fontsize=15, color='red')\n",
    "plt.xlabel('Latitude')\n",
    "plt.ylabel('Max Temp')\n",
    "print(f'The r-value is: {rvalue}')\n",
    "plt.show()\n",
    "print(f\"There is a moderate positive relationship between each city's latitude and its maximum temperature in the Southern Hemisphere with an r-value of {round(rvalue,2)}. The r-squared value is {round(rvalue**2,2)}, which means that {round(rvalue**2,2)*100}% of the data fit the regression model.  \")"
   ]
  },
  {
   "cell_type": "markdown",
   "metadata": {},
   "source": [
    "####  Northern Hemisphere - Humidity (%) vs. Latitude Linear Regression"
   ]
  },
  {
   "cell_type": "code",
   "execution_count": 25,
   "metadata": {},
   "outputs": [
    {
     "name": "stdout",
     "output_type": "stream",
     "text": [
      "The r-value is: 0.3785527733465702\n"
     ]
    },
    {
     "data": {
      "image/png": "[encoded data removed]",
      "text/plain": [
       "<Figure size 432x288 with 1 Axes>"
      ]
     },
     "metadata": {
      "needs_background": "light"
     },
     "output_type": "display_data"
    },
    {
     "name": "stdout",
     "output_type": "stream",
     "text": [
      "There is a weak positive relationship between each city's latitude and its humidity in the Northern Hemisphere with an r-value of 0.38. The r-squared value is 0.14, which means that 14.000000000000002% of the data fit the regression model.  \n"
     ]
    }
   ],
   "source": [
    "# Plot linear regression\n",
    "x_value = north_hem_df['Lat']\n",
    "y_value = north_hem_df['Humidity'] \n",
    "(slope, intercept, rvalue, pvalue, stderr) = linregress(x_value, y_value)\n",
    "regress_value = x_value * slope + intercept \n",
    "line_eq = 'y = ' +str(round(slope,2)) + 'x + ' + str(round(intercept,2))\n",
    "plt.scatter(x_value, y_value)\n",
    "plt.plot(x_value,regress_value,'r-')\n",
    "plt.annotate(line_eq, (45,15), fontsize=15, color='red')\n",
    "plt.xlabel('Latitude')\n",
    "plt.ylabel('Humidity')\n",
    "print(f'The r-value is: {rvalue}')\n",
    "plt.show()\n",
    "print(f\"There is a weak positive relationship between each city's latitude and its humidity in the Northern Hemisphere with an r-value of {round(rvalue,2)}. The r-squared value is {round(rvalue**2,2)}, which means that {round(rvalue**2,2)*100}% of the data fit the regression model.  \")"
   ]
  },
  {
   "cell_type": "markdown",
   "metadata": {},
   "source": [
    "####  Southern Hemisphere - Humidity (%) vs. Latitude Linear Regression"
   ]
  },
  {
   "cell_type": "code",
   "execution_count": 26,
   "metadata": {},
   "outputs": [
    {
     "name": "stdout",
     "output_type": "stream",
     "text": [
      "The r-value is: 0.01984152545163463\n"
     ]
    },
    {
     "data": {
      "image/png": "[encoded data removed]",
      "text/plain": [
       "<Figure size 432x288 with 1 Axes>"
      ]
     },
     "metadata": {
      "needs_background": "light"
     },
     "output_type": "display_data"
    },
    {
     "name": "stdout",
     "output_type": "stream",
     "text": [
      "There is a weak positive to no relationship between each city's latitude and its humidity in the Southern Hemisphere with an r-value of 0.02. The r-squared value is 0.0, which means that 0.0% of the data fit the regression model.  \n"
     ]
    }
   ],
   "source": [
    "# Plot linear regression\n",
    "x_value = south_hem_df['Lat']\n",
    "y_value = south_hem_df['Humidity'] \n",
    "(slope, intercept, rvalue, pvalue, stderr) = linregress(x_value, y_value)\n",
    "regress_value = x_value * slope + intercept \n",
    "line_eq = 'y = ' +str(round(slope,2)) + 'x + ' + str(round(intercept,2))\n",
    "plt.scatter(x_value, y_value)\n",
    "plt.plot(x_value,regress_value,'r-')\n",
    "plt.annotate(line_eq, (-25,30), fontsize=15, color='red')\n",
    "plt.xlabel('Latitude')\n",
    "plt.ylabel('Humidity')\n",
    "print(f'The r-value is: {rvalue}')\n",
    "plt.show()\n",
    "print(f\"There is a weak positive to no relationship between each city's latitude and its humidity in the Southern Hemisphere with an r-value of {round(rvalue,2)}. The r-squared value is {round(rvalue**2,2)}, which means that {round(rvalue**2,2)*100}% of the data fit the regression model.  \")"
   ]
  },
  {
   "cell_type": "markdown",
   "metadata": {},
   "source": [
    "####  Northern Hemisphere - Cloudiness (%) vs. Latitude Linear Regression"
   ]
  },
  {
   "cell_type": "code",
   "execution_count": 27,
   "metadata": {},
   "outputs": [
    {
     "name": "stdout",
     "output_type": "stream",
     "text": [
      "The r-value is: 0.3140005656554878\n"
     ]
    },
    {
     "data": {
      "image/png": "[encoded data removed]",
      "text/plain": [
       "<Figure size 432x288 with 1 Axes>"
      ]
     },
     "metadata": {
      "needs_background": "light"
     },
     "output_type": "display_data"
    },
    {
     "name": "stdout",
     "output_type": "stream",
     "text": [
      "There is a weak positive relationship between each city's latitude and its cloudiness in the Northern Hemisphere with an r-value of 0.31. The r-squared value is 0.1, which means that 10.0% of the data fit the regression model.  \n"
     ]
    }
   ],
   "source": [
    "# Plot linear regression\n",
    "x_value = north_hem_df['Lat']\n",
    "y_value = north_hem_df['Cloudiness'] \n",
    "(slope, intercept, rvalue, pvalue, stderr) = linregress(x_value, y_value)\n",
    "regress_value = x_value * slope + intercept \n",
    "line_eq = 'y = ' +str(round(slope,2)) + 'x + ' + str(round(intercept,2))\n",
    "plt.scatter(x_value, y_value)\n",
    "plt.plot(x_value,regress_value,'r-')\n",
    "plt.annotate(line_eq, (45,10), fontsize=15, color='red')\n",
    "plt.xlabel('Latitude')\n",
    "plt.ylabel('Cloudiness')\n",
    "print(f'The r-value is: {rvalue}')\n",
    "plt.show()\n",
    "print(f\"There is a weak positive relationship between each city's latitude and its cloudiness in the Northern Hemisphere with an r-value of {round(rvalue,2)}. The r-squared value is {round(rvalue**2,2)}, which means that {round(rvalue**2,2)*100}% of the data fit the regression model.  \")"
   ]
  },
  {
   "cell_type": "markdown",
   "metadata": {},
   "source": [
    "####  Southern Hemisphere - Cloudiness (%) vs. Latitude Linear Regression"
   ]
  },
  {
   "cell_type": "code",
   "execution_count": 28,
   "metadata": {},
   "outputs": [
    {
     "name": "stdout",
     "output_type": "stream",
     "text": [
      "The r-value is: 0.4028547149327959\n"
     ]
    },
    {
     "data": {
      "image/png": "[encoded data removed]",
      "text/plain": [
       "<Figure size 432x288 with 1 Axes>"
      ]
     },
     "metadata": {
      "needs_background": "light"
     },
     "output_type": "display_data"
    },
    {
     "name": "stdout",
     "output_type": "stream",
     "text": [
      "There is a weak positive relationship between each city's latitude and its cloudiness in the Southern Hemisphere with an r-value of 0.4. The r-squared value is 0.16, which means that 16.0% of the data fit the regression model.  \n"
     ]
    }
   ],
   "source": [
    "# Plot linear regression\n",
    "x_value = south_hem_df['Lat']\n",
    "y_value = south_hem_df['Cloudiness'] \n",
    "(slope, intercept, rvalue, pvalue, stderr) = linregress(x_value, y_value)\n",
    "regress_value = x_value * slope + intercept \n",
    "line_eq = 'y = ' +str(round(slope,2)) + 'x + ' + str(round(intercept,2))\n",
    "plt.scatter(x_value, y_value)\n",
    "plt.plot(x_value,regress_value,'r-')\n",
    "plt.annotate(line_eq, (-55,90), fontsize=15, color='red')\n",
    "plt.xlabel('Latitude')\n",
    "plt.ylabel('Cloudiness')\n",
    "print(f'The r-value is: {rvalue}')\n",
    "plt.show()\n",
    "print(f\"There is a weak positive relationship between each city's latitude and its cloudiness in the Southern Hemisphere with an r-value of {round(rvalue,2)}. The r-squared value is {round(rvalue**2,2)}, which means that {round(rvalue**2,2)*100}% of the data fit the regression model.  \")"
   ]
  },
  {
   "cell_type": "markdown",
   "metadata": {},
   "source": [
    "####  Northern Hemisphere - Wind Speed (mph) vs. Latitude Linear Regression"
   ]
  },
  {
   "cell_type": "code",
   "execution_count": 29,
   "metadata": {},
   "outputs": [
    {
     "name": "stdout",
     "output_type": "stream",
     "text": [
      "The r-value is: -0.030805366178479347\n"
     ]
    },
    {
     "data": {
      "image/png": "[encoded data removed]",
      "text/plain": [
       "<Figure size 432x288 with 1 Axes>"
      ]
     },
     "metadata": {
      "needs_background": "light"
     },
     "output_type": "display_data"
    },
    {
     "name": "stdout",
     "output_type": "stream",
     "text": [
      "There is no relationship between each city's latitude and its wind speed in the Northern Hemisphere with an r-value of -0.03. The r-squared value is 0.0, which means that 0.0% of the data fit the regression model.  \n"
     ]
    }
   ],
   "source": [
    "# Plot linear regression\n",
    "x_value = north_hem_df['Lat']\n",
    "y_value = north_hem_df['Wind Speed'] \n",
    "(slope, intercept, rvalue, pvalue, stderr) = linregress(x_value, y_value)\n",
    "regress_value = x_value * slope + intercept \n",
    "line_eq = 'y = ' +str(round(slope,2)) + 'x + ' + str(round(intercept,2))\n",
    "plt.scatter(x_value, y_value)\n",
    "plt.plot(x_value,regress_value,'r-')\n",
    "plt.annotate(line_eq, (0,30), fontsize=15, color='red')\n",
    "plt.xlabel('Latitude')\n",
    "plt.ylabel('Wind Speed')\n",
    "print(f'The r-value is: {rvalue}')\n",
    "plt.show()\n",
    "print(f\"There is no relationship between each city's latitude and its wind speed in the Northern Hemisphere with an r-value of {round(rvalue,2)}. The r-squared value is {round(rvalue**2,2)}, which means that {round(rvalue**2,2)*100}% of the data fit the regression model.  \")"
   ]
  },
  {
   "cell_type": "markdown",
   "metadata": {},
   "source": [
    "####  Southern Hemisphere - Wind Speed (mph) vs. Latitude Linear Regression"
   ]
  },
  {
   "cell_type": "code",
   "execution_count": 30,
   "metadata": {},
   "outputs": [
    {
     "name": "stdout",
     "output_type": "stream",
     "text": [
      "The r-value is: -0.16255050039017663\n"
     ]
    },
    {
     "data": {
      "image/png": "[encoded data removed]",
      "text/plain": [
       "<Figure size 432x288 with 1 Axes>"
      ]
     },
     "metadata": {
      "needs_background": "light"
     },
     "output_type": "display_data"
    },
    {
     "name": "stdout",
     "output_type": "stream",
     "text": [
      "There is no relationship between each city's latitude and its wind speed in the Southern Hemisphere with an r-value of -0.16. The r-squared value is 0.03, which means that 3.0% of the data fit the regression model.  \n"
     ]
    }
   ],
   "source": [
    "# Plot linear regression\n",
    "x_value = south_hem_df['Lat']\n",
    "y_value = south_hem_df['Wind Speed'] \n",
    "(slope, intercept, rvalue, pvalue, stderr) = linregress(x_value, y_value)\n",
    "regress_value = x_value * slope + intercept \n",
    "line_eq = 'y = ' +str(round(slope,2)) + 'x + ' + str(round(intercept,2))\n",
    "plt.scatter(x_value, y_value)\n",
    "plt.plot(x_value,regress_value,'r-')\n",
    "plt.annotate(line_eq, (-55,25), fontsize=15, color='red')\n",
    "plt.xlabel('Latitude')\n",
    "plt.ylabel('Wind Speed')\n",
    "print(f'The r-value is: {rvalue}')\n",
    "plt.show()\n",
    "print(f\"There is no relationship between each city's latitude and its wind speed in the Southern Hemisphere with an r-value of {round(rvalue,2)}. The r-squared value is {round(rvalue**2,2)}, which means that {round(rvalue**2,2)*100}% of the data fit the regression model.  \")"
   ]
  }
 ],
 "metadata": {
  "anaconda-cloud": {},
  "kernel_info": {
   "name": "python3"
  },
  "kernelspec": {
   "display_name": "Python 3",
   "language": "python",
   "name": "python3"
  },
  "language_info": {
   "codemirror_mode": {
    "name": "ipython",
    "version": 3
   },
   "file_extension": ".py",
   "mimetype": "text/x-python",
   "name": "python",
   "nbconvert_exporter": "python",
   "pygments_lexer": "ipython3",
   "version": "3.6.10"
  },
  "latex_envs": {
   "LaTeX_envs_menu_present": true,
   "autoclose": false,
   "autocomplete": true,
   "bibliofile": "biblio.bib",
   "cite_by": "apalike",
   "current_citInitial": 1,
   "eqLabelWithNumbers": true,
   "eqNumInitial": 1,
   "hotkeys": {
    "equation": "Ctrl-E",
    "itemize": "Ctrl-I"
   },
   "labels_anchors": false,
   "latex_user_defs": false,
   "report_style_numbering": false,
   "user_envs_cfg": false
  },
  "nteract": {
   "version": "0.12.3"
  }
 },
 "nbformat": 4,
 "nbformat_minor": 2
}
