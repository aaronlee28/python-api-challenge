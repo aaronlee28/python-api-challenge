{
 "cells": [
  {
   "cell_type": "markdown",
   "metadata": {},
   "source": [
    "# WeatherPy\n",
    "----\n",
    "\n",
    "#### Note\n",
    "* Instructions have been included for each segment. You do not have to follow them exactly, but they are included to help you think through the steps."
   ]
  },
  {
   "cell_type": "code",
   "execution_count": 1,
   "metadata": {
    "scrolled": true
   },
   "outputs": [],
   "source": [
    "# Dependencies and Setup\n",
    "import matplotlib.pyplot as plt\n",
    "import pandas as pd\n",
    "import numpy as np\n",
    "import requests\n",
    "import time\n",
    "from scipy.stats import linregress\n",
    "\n",
    "# Import API key\n",
    "from api_key import weather_api_key\n",
    "\n",
    "# Incorporated citipy to determine city based on latitude and longitude\n",
    "from citipy import citipy\n",
    "\n",
    "# Output File (CSV)\n",
    "output_data_file = \"output_data/cities.csv\"\n",
    "\n",
    "# Range of latitudes and longitudes\n",
    "lat_range = (-90, 90)\n",
    "lng_range = (-180, 180)\n"
   ]
  },
  {
   "cell_type": "markdown",
   "metadata": {},
   "source": [
    "## Generate Cities List"
   ]
  },
  {
   "cell_type": "code",
   "execution_count": 2,
   "metadata": {},
   "outputs": [
    {
     "data": {
      "text/plain": [
       "612"
      ]
     },
     "execution_count": 2,
     "metadata": {},
     "output_type": "execute_result"
    }
   ],
   "source": [
    "# List for holding lat_lngs and cities\n",
    "lat_lngs = []\n",
    "cities = []\n",
    "\n",
    "# Create a set of random lat and lng combinations\n",
    "lats = np.random.uniform(lat_range[0], lat_range[1], size=1500)\n",
    "lngs = np.random.uniform(lng_range[0], lng_range[1], size=1500)\n",
    "lat_lngs = zip(lats, lngs)\n",
    "\n",
    "# Identify nearest city for each lat, lng combination\n",
    "for lat_lng in lat_lngs:\n",
    "    city = citipy.nearest_city(lat_lng[0], lat_lng[1]).city_name\n",
    "    \n",
    "    # If the city is unique, then add it to a our cities list\n",
    "    if city not in cities:\n",
    "        cities.append(city)\n",
    "\n",
    "# Print the city count to confirm sufficient count\n",
    "len(cities)"
   ]
  },
  {
   "cell_type": "markdown",
   "metadata": {},
   "source": [
    "### Perform API Calls\n",
    "* Perform a weather check on each city using a series of successive API calls.\n",
    "* Include a print log of each city as it'sbeing processed (with the city number and city name).\n"
   ]
  },
  {
   "cell_type": "code",
   "execution_count": 3,
   "metadata": {
    "scrolled": true
   },
   "outputs": [],
   "source": [
    "# Set empty list to store data\n",
    "city2 = []\n",
    "lat = []\n",
    "lng = []\n",
    "max_temp = []\n",
    "humidity = []\n",
    "cloudiness = []\n",
    "windspeed = []\n",
    "date = []"
   ]
  },
  {
   "cell_type": "code",
   "execution_count": 4,
   "metadata": {},
   "outputs": [],
   "source": [
    "# Set vatiable to process data \n",
    "record = 0\n",
    "set_key = 1"
   ]
  },
  {
   "cell_type": "code",
   "execution_count": 5,
   "metadata": {},
   "outputs": [],
   "source": [
    "# Create search query \n",
    "\n",
    "url = 'https://api.openweathermap.org/data/2.5/weather?'\n",
    "units = 'imperial'\n",
    "query_url = f'{url}appid={weather_api_key}&units={units}&q='"
   ]
  },
  {
   "cell_type": "code",
   "execution_count": 6,
   "metadata": {},
   "outputs": [
    {
     "name": "stdout",
     "output_type": "stream",
     "text": [
      "Beginning Data Retrieval\n",
      "-----------------------------\n",
      "Processing Record 1 of Set 1 | cabo san lucas\n",
      "Processing Record 2 of Set 1 | saint-philippe\n",
      "Processing Record 3 of Set 1 | kruisfontein\n",
      "Processing Record 4 of Set 1 | avarua\n",
      "Processing Record 5 of Set 1 | jamestown\n",
      "Processing Record 6 of Set 1 | gobabis\n",
      "Processing Record 7 of Set 1 | maltahohe\n",
      "Processing Record 8 of Set 1 | kungurtug\n",
      "Processing Record 9 of Set 1 | port alfred\n",
      "Processing Record 10 of Set 1 | butaritari\n",
      "Processing Record 11 of Set 1 | alofi\n",
      "Processing Record 12 of Set 1 | phek\n",
      "Processing Record 13 of Set 1 | talnakh\n",
      "Processing Record 14 of Set 1 | nyurba\n",
      "City not found. Skipping...\n",
      "Processing Record 15 of Set 1 | hilo\n",
      "Processing Record 16 of Set 1 | popova\n",
      "Processing Record 17 of Set 1 | mar del plata\n",
      "Processing Record 18 of Set 1 | pevek\n",
      "Processing Record 19 of Set 1 | dharchula\n",
      "Processing Record 20 of Set 1 | rikitea\n",
      "Processing Record 21 of Set 1 | ca mau\n",
      "Processing Record 22 of Set 1 | conakry\n",
      "Processing Record 23 of Set 1 | ushuaia\n",
      "Processing Record 24 of Set 1 | san cristobal\n",
      "City not found. Skipping...\n",
      "Processing Record 25 of Set 1 | nanortalik\n",
      "Processing Record 26 of Set 1 | qaanaaq\n",
      "Processing Record 27 of Set 1 | vaini\n",
      "Processing Record 28 of Set 1 | atuona\n",
      "Processing Record 29 of Set 1 | adre\n",
      "Processing Record 30 of Set 1 | sakakah\n",
      "Processing Record 31 of Set 1 | kwinana\n",
      "Processing Record 32 of Set 1 | khatanga\n",
      "Processing Record 33 of Set 1 | cherskiy\n",
      "Processing Record 34 of Set 1 | thompson\n",
      "Processing Record 35 of Set 1 | ukiah\n",
      "Processing Record 36 of Set 1 | puerto ayora\n",
      "Processing Record 37 of Set 1 | port elizabeth\n",
      "Processing Record 38 of Set 1 | hobart\n",
      "Processing Record 39 of Set 1 | iqaluit\n",
      "Processing Record 40 of Set 1 | phulabani\n",
      "Processing Record 41 of Set 1 | hasaki\n",
      "Processing Record 42 of Set 1 | mayo\n",
      "Processing Record 43 of Set 1 | cape town\n",
      "Processing Record 44 of Set 1 | mahebourg\n",
      "City not found. Skipping...\n",
      "Processing Record 45 of Set 1 | krasnorechenskiy\n",
      "Processing Record 46 of Set 1 | rio grande\n",
      "Processing Record 47 of Set 1 | castro\n",
      "Processing Record 48 of Set 1 | bonthe\n",
      "Processing Record 49 of Set 1 | princeton\n",
      "Processing Record 1 of Set 2 | aklavik\n",
      "Processing Record 2 of Set 2 | grindavik\n",
      "Processing Record 3 of Set 2 | yellowknife\n",
      "Processing Record 4 of Set 2 | zhezkazgan\n",
      "Processing Record 5 of Set 2 | puerto madero\n",
      "Processing Record 6 of Set 2 | busselton\n",
      "Processing Record 7 of Set 2 | sola\n",
      "Processing Record 8 of Set 2 | ternate\n",
      "Processing Record 9 of Set 2 | tasiilaq\n",
      "Processing Record 10 of Set 2 | sioux lookout\n",
      "Processing Record 11 of Set 2 | lagoa\n",
      "Processing Record 12 of Set 2 | cap malheureux\n",
      "Processing Record 13 of Set 2 | pacific grove\n",
      "Processing Record 14 of Set 2 | prince rupert\n",
      "Processing Record 15 of Set 2 | port hardy\n",
      "Processing Record 16 of Set 2 | albany\n",
      "Processing Record 17 of Set 2 | skeldon\n",
      "Processing Record 18 of Set 2 | alihe\n",
      "Processing Record 19 of Set 2 | punta arenas\n",
      "Processing Record 20 of Set 2 | katsuura\n",
      "Processing Record 21 of Set 2 | oranjestad\n",
      "Processing Record 22 of Set 2 | tuktoyaktuk\n",
      "Processing Record 23 of Set 2 | luderitz\n",
      "Processing Record 24 of Set 2 | praia da vitoria\n",
      "Processing Record 25 of Set 2 | east london\n",
      "City not found. Skipping...\n",
      "Processing Record 26 of Set 2 | albion\n",
      "Processing Record 27 of Set 2 | vestmannaeyjar\n",
      "Processing Record 28 of Set 2 | georgetown\n",
      "City not found. Skipping...\n",
      "Processing Record 29 of Set 2 | sisimiut\n",
      "Processing Record 30 of Set 2 | chuy\n",
      "Processing Record 31 of Set 2 | ndele\n",
      "Processing Record 32 of Set 2 | shahrud\n",
      "Processing Record 33 of Set 2 | kodiak\n",
      "Processing Record 34 of Set 2 | yumen\n",
      "City not found. Skipping...\n",
      "Processing Record 35 of Set 2 | rognan\n",
      "Processing Record 36 of Set 2 | la ronge\n",
      "Processing Record 37 of Set 2 | sainte-anne-des-monts\n",
      "Processing Record 38 of Set 2 | bluff\n",
      "Processing Record 39 of Set 2 | tiksi\n",
      "Processing Record 40 of Set 2 | ode\n",
      "Processing Record 41 of Set 2 | ilebo\n",
      "City not found. Skipping...\n",
      "Processing Record 42 of Set 2 | nikolskoye\n",
      "Processing Record 43 of Set 2 | kitimat\n",
      "Processing Record 44 of Set 2 | campeche\n",
      "Processing Record 45 of Set 2 | kozhva\n",
      "Processing Record 46 of Set 2 | tilichiki\n",
      "Processing Record 47 of Set 2 | hobyo\n",
      "Processing Record 48 of Set 2 | ancud\n",
      "Processing Record 49 of Set 2 | vila franca do campo\n",
      "Processing Record 1 of Set 3 | sao jose da coroa grande\n",
      "Processing Record 2 of Set 3 | carnarvon\n",
      "Processing Record 3 of Set 3 | batagay\n",
      "City not found. Skipping...\n",
      "Processing Record 4 of Set 3 | new norfolk\n",
      "City not found. Skipping...\n",
      "Processing Record 5 of Set 3 | manga\n",
      "Processing Record 6 of Set 3 | maniitsoq\n",
      "Processing Record 7 of Set 3 | omboue\n",
      "Processing Record 8 of Set 3 | gat\n",
      "Processing Record 9 of Set 3 | lasa\n",
      "Processing Record 10 of Set 3 | natal\n",
      "Processing Record 11 of Set 3 | puerto del rosario\n",
      "Processing Record 12 of Set 3 | jaciara\n",
      "Processing Record 13 of Set 3 | paamiut\n",
      "City not found. Skipping...\n",
      "Processing Record 14 of Set 3 | wittingen\n",
      "Processing Record 15 of Set 3 | los llanos de aridane\n",
      "Processing Record 16 of Set 3 | mataura\n",
      "Processing Record 17 of Set 3 | dikson\n",
      "Processing Record 18 of Set 3 | meulaboh\n",
      "Processing Record 19 of Set 3 | acarau\n",
      "Processing Record 20 of Set 3 | boca do acre\n",
      "Processing Record 21 of Set 3 | saskylakh\n",
      "Processing Record 22 of Set 3 | nome\n",
      "Processing Record 23 of Set 3 | kibala\n",
      "Processing Record 24 of Set 3 | upernavik\n",
      "Processing Record 25 of Set 3 | lavrentiya\n",
      "Processing Record 26 of Set 3 | kargasok\n",
      "Processing Record 27 of Set 3 | sumbe\n",
      "City not found. Skipping...\n",
      "Processing Record 28 of Set 3 | kaitangata\n",
      "Processing Record 29 of Set 3 | key biscayne\n",
      "Processing Record 30 of Set 3 | el fuerte\n",
      "Processing Record 31 of Set 3 | carutapera\n",
      "Processing Record 32 of Set 3 | kushmurun\n",
      "City not found. Skipping...\n",
      "Processing Record 33 of Set 3 | teguldet\n",
      "Processing Record 34 of Set 3 | rocha\n",
      "Processing Record 35 of Set 3 | champerico\n",
      "Processing Record 36 of Set 3 | bredasdorp\n",
      "Processing Record 37 of Set 3 | kapaa\n",
      "City not found. Skipping...\n",
      "Processing Record 38 of Set 3 | jalu\n",
      "Processing Record 39 of Set 3 | port hawkesbury\n",
      "Processing Record 40 of Set 3 | albuquerque\n",
      "Processing Record 41 of Set 3 | bambous virieux\n",
      "Processing Record 42 of Set 3 | lucera\n",
      "Processing Record 43 of Set 3 | hermanus\n",
      "Processing Record 44 of Set 3 | tura\n",
      "Processing Record 45 of Set 3 | urumqi\n",
      "Processing Record 46 of Set 3 | saint-georges\n",
      "Processing Record 47 of Set 3 | alta floresta\n",
      "Processing Record 48 of Set 3 | todiresti\n",
      "Processing Record 49 of Set 3 | palu\n",
      "Processing Record 1 of Set 4 | broome\n",
      "Processing Record 2 of Set 4 | narsaq\n",
      "Processing Record 3 of Set 4 | chumikan\n",
      "Processing Record 4 of Set 4 | belle glade\n",
      "Processing Record 5 of Set 4 | bengkulu\n",
      "Processing Record 6 of Set 4 | grootfontein\n",
      "Processing Record 7 of Set 4 | west wendover\n",
      "Processing Record 8 of Set 4 | flinders\n",
      "Processing Record 9 of Set 4 | barrow\n",
      "Processing Record 10 of Set 4 | fortuna\n",
      "City not found. Skipping...\n",
      "Processing Record 11 of Set 4 | walvis bay\n",
      "Processing Record 12 of Set 4 | porto belo\n",
      "Processing Record 13 of Set 4 | churachandpur\n",
      "Processing Record 14 of Set 4 | tapes\n",
      "Processing Record 15 of Set 4 | zhigansk\n",
      "Processing Record 16 of Set 4 | gold coast\n",
      "Processing Record 17 of Set 4 | guerrero negro\n",
      "Processing Record 18 of Set 4 | inhambane\n",
      "Processing Record 19 of Set 4 | qazvin\n",
      "Processing Record 20 of Set 4 | pangnirtung\n",
      "Processing Record 21 of Set 4 | ponta do sol\n",
      "Processing Record 22 of Set 4 | nakamura\n",
      "Processing Record 23 of Set 4 | bubaque\n",
      "Processing Record 24 of Set 4 | lompoc\n",
      "Processing Record 25 of Set 4 | grand gaube\n",
      "Processing Record 26 of Set 4 | tahoua\n",
      "Processing Record 27 of Set 4 | arraial do cabo\n",
      "City not found. Skipping...\n",
      "City not found. Skipping...\n",
      "Processing Record 28 of Set 4 | marsaxlokk\n",
      "Processing Record 29 of Set 4 | vagur\n",
      "Processing Record 30 of Set 4 | shar\n",
      "Processing Record 31 of Set 4 | vershino-shakhtaminskiy\n",
      "Processing Record 32 of Set 4 | lohja\n",
      "City not found. Skipping...\n",
      "Processing Record 33 of Set 4 | faanui\n",
      "Processing Record 34 of Set 4 | betong\n",
      "Processing Record 35 of Set 4 | broken hill\n",
      "Processing Record 36 of Set 4 | caranavi\n",
      "Processing Record 37 of Set 4 | payakumbuh\n",
      "Processing Record 38 of Set 4 | namtsy\n",
      "Processing Record 39 of Set 4 | victoria\n",
      "Processing Record 40 of Set 4 | yenagoa\n"
     ]
    },
    {
     "name": "stdout",
     "output_type": "stream",
     "text": [
      "Processing Record 41 of Set 4 | coahuayana\n",
      "Processing Record 42 of Set 4 | belmonte\n",
      "Processing Record 43 of Set 4 | kedrovoye\n",
      "City not found. Skipping...\n",
      "Processing Record 44 of Set 4 | bathsheba\n",
      "Processing Record 45 of Set 4 | nyrob\n",
      "Processing Record 46 of Set 4 | kokopo\n",
      "Processing Record 47 of Set 4 | qaqortoq\n",
      "City not found. Skipping...\n",
      "Processing Record 48 of Set 4 | norman wells\n",
      "Processing Record 49 of Set 4 | amapa\n",
      "Processing Record 1 of Set 5 | lake city\n",
      "Processing Record 2 of Set 5 | chardara\n",
      "Processing Record 3 of Set 5 | cayenne\n",
      "Processing Record 4 of Set 5 | orotukan\n",
      "City not found. Skipping...\n",
      "Processing Record 5 of Set 5 | padang\n",
      "City not found. Skipping...\n",
      "Processing Record 6 of Set 5 | karwar\n",
      "Processing Record 7 of Set 5 | geraldton\n",
      "Processing Record 8 of Set 5 | komsomolskiy\n",
      "Processing Record 9 of Set 5 | abu dhabi\n",
      "Processing Record 10 of Set 5 | kushima\n",
      "Processing Record 11 of Set 5 | ambilobe\n",
      "Processing Record 12 of Set 5 | paraguacu paulista\n",
      "Processing Record 13 of Set 5 | yantzaza\n",
      "Processing Record 14 of Set 5 | goma\n",
      "Processing Record 15 of Set 5 | mokhsogollokh\n",
      "Processing Record 16 of Set 5 | tadine\n",
      "City not found. Skipping...\n",
      "Processing Record 17 of Set 5 | sulangan\n",
      "Processing Record 18 of Set 5 | baft\n",
      "Processing Record 19 of Set 5 | point pedro\n",
      "Processing Record 20 of Set 5 | ribeira grande\n",
      "Processing Record 21 of Set 5 | pontes e lacerda\n",
      "Processing Record 22 of Set 5 | najran\n",
      "Processing Record 23 of Set 5 | bontang\n",
      "Processing Record 24 of Set 5 | borisoglebskiy\n",
      "Processing Record 25 of Set 5 | bethel\n",
      "Processing Record 26 of Set 5 | kysyl-syr\n",
      "Processing Record 27 of Set 5 | saint-denis\n",
      "Processing Record 28 of Set 5 | nizwa\n",
      "Processing Record 29 of Set 5 | vestmanna\n",
      "Processing Record 30 of Set 5 | the valley\n",
      "Processing Record 31 of Set 5 | juba\n",
      "Processing Record 32 of Set 5 | san patricio\n",
      "Processing Record 33 of Set 5 | aswan\n",
      "Processing Record 34 of Set 5 | turan\n",
      "Processing Record 35 of Set 5 | saldanha\n",
      "City not found. Skipping...\n",
      "Processing Record 36 of Set 5 | puerto el triunfo\n",
      "Processing Record 37 of Set 5 | longyearbyen\n",
      "City not found. Skipping...\n",
      "Processing Record 38 of Set 5 | dingle\n",
      "Processing Record 39 of Set 5 | srednekolymsk\n",
      "Processing Record 40 of Set 5 | sitka\n",
      "Processing Record 41 of Set 5 | portland\n",
      "Processing Record 42 of Set 5 | half moon bay\n",
      "City not found. Skipping...\n",
      "Processing Record 43 of Set 5 | hithadhoo\n",
      "Processing Record 44 of Set 5 | kavieng\n",
      "Processing Record 45 of Set 5 | faya\n",
      "Processing Record 46 of Set 5 | paranhos\n",
      "Processing Record 47 of Set 5 | gainesville\n",
      "Processing Record 48 of Set 5 | preobrazheniye\n",
      "Processing Record 49 of Set 5 | marystown\n",
      "Processing Record 1 of Set 6 | koster\n",
      "Processing Record 2 of Set 6 | antalaha\n",
      "Processing Record 3 of Set 6 | coihaique\n",
      "Processing Record 4 of Set 6 | waingapu\n",
      "Processing Record 5 of Set 6 | banyo\n",
      "Processing Record 6 of Set 6 | koumac\n",
      "Processing Record 7 of Set 6 | klaksvik\n",
      "City not found. Skipping...\n",
      "Processing Record 8 of Set 6 | itarema\n",
      "Processing Record 9 of Set 6 | bramsche\n",
      "Processing Record 10 of Set 6 | mount gambier\n",
      "Processing Record 11 of Set 6 | ilheus\n",
      "Processing Record 12 of Set 6 | arman\n",
      "City not found. Skipping...\n",
      "Processing Record 13 of Set 6 | aykhal\n",
      "Processing Record 14 of Set 6 | korla\n",
      "Processing Record 15 of Set 6 | ruidoso\n",
      "Processing Record 16 of Set 6 | elk point\n",
      "Processing Record 17 of Set 6 | fukue\n",
      "Processing Record 18 of Set 6 | viedma\n",
      "Processing Record 19 of Set 6 | kedrovyy\n",
      "Processing Record 20 of Set 6 | fort nelson\n",
      "Processing Record 21 of Set 6 | clyde river\n",
      "Processing Record 22 of Set 6 | ardakan\n",
      "Processing Record 23 of Set 6 | codrington\n",
      "Processing Record 24 of Set 6 | skjervoy\n",
      "Processing Record 25 of Set 6 | timizart\n",
      "Processing Record 26 of Set 6 | verkhoyansk\n",
      "Processing Record 27 of Set 6 | souillac\n",
      "Processing Record 28 of Set 6 | dilla\n",
      "Processing Record 29 of Set 6 | constitucion\n",
      "Processing Record 30 of Set 6 | tucupita\n",
      "Processing Record 31 of Set 6 | bambanglipuro\n",
      "Processing Record 32 of Set 6 | lhokseumawe\n",
      "Processing Record 33 of Set 6 | severo-kurilsk\n",
      "Processing Record 34 of Set 6 | puerto penasco\n",
      "Processing Record 35 of Set 6 | cidreira\n",
      "Processing Record 36 of Set 6 | beyneu\n",
      "City not found. Skipping...\n",
      "Processing Record 37 of Set 6 | bridgetown\n",
      "City not found. Skipping...\n",
      "Processing Record 38 of Set 6 | ranong\n",
      "Processing Record 39 of Set 6 | kavaratti\n",
      "Processing Record 40 of Set 6 | benjamin aceval\n",
      "City not found. Skipping...\n",
      "Processing Record 41 of Set 6 | yar-sale\n",
      "Processing Record 42 of Set 6 | urucara\n",
      "Processing Record 43 of Set 6 | fairbanks\n",
      "Processing Record 44 of Set 6 | chokurdakh\n",
      "City not found. Skipping...\n",
      "Processing Record 45 of Set 6 | humaita\n",
      "Processing Record 46 of Set 6 | lincoln\n",
      "Processing Record 47 of Set 6 | belaya gora\n",
      "Processing Record 48 of Set 6 | mount isa\n",
      "Processing Record 49 of Set 6 | baykit\n",
      "Processing Record 1 of Set 7 | pisco\n",
      "Processing Record 2 of Set 7 | necochea\n",
      "Processing Record 3 of Set 7 | mingguang\n",
      "Processing Record 4 of Set 7 | salme\n",
      "Processing Record 5 of Set 7 | krasnoselkup\n",
      "Processing Record 6 of Set 7 | seoul\n",
      "Processing Record 7 of Set 7 | yining\n",
      "Processing Record 8 of Set 7 | cachoeiras de macacu\n",
      "Processing Record 9 of Set 7 | beira\n",
      "Processing Record 10 of Set 7 | tuy hoa\n",
      "Processing Record 11 of Set 7 | nador\n",
      "Processing Record 12 of Set 7 | keetmanshoop\n",
      "Processing Record 13 of Set 7 | pavlovka\n",
      "Processing Record 14 of Set 7 | abha\n",
      "Processing Record 15 of Set 7 | saint anthony\n",
      "Processing Record 16 of Set 7 | lebu\n",
      "Processing Record 17 of Set 7 | ekuvukeni\n",
      "Processing Record 18 of Set 7 | lazaro cardenas\n",
      "Processing Record 19 of Set 7 | hami\n",
      "Processing Record 20 of Set 7 | sambava\n",
      "Processing Record 21 of Set 7 | muros\n",
      "Processing Record 22 of Set 7 | birao\n",
      "Processing Record 23 of Set 7 | ankazobe\n",
      "Processing Record 24 of Set 7 | maputo\n",
      "Processing Record 25 of Set 7 | mattru\n",
      "Processing Record 26 of Set 7 | slavutych\n",
      "Processing Record 27 of Set 7 | leshukonskoye\n",
      "Processing Record 28 of Set 7 | hay river\n",
      "Processing Record 29 of Set 7 | camocim\n",
      "Processing Record 30 of Set 7 | ilulissat\n",
      "Processing Record 31 of Set 7 | mehamn\n",
      "Processing Record 32 of Set 7 | strezhevoy\n",
      "Processing Record 33 of Set 7 | medina\n",
      "Processing Record 34 of Set 7 | byron bay\n",
      "Processing Record 35 of Set 7 | waipawa\n",
      "Processing Record 36 of Set 7 | naze\n",
      "City not found. Skipping...\n",
      "Processing Record 37 of Set 7 | torbay\n",
      "Processing Record 38 of Set 7 | te anau\n",
      "Processing Record 39 of Set 7 | bazarnyy karabulak\n",
      "Processing Record 40 of Set 7 | maldonado\n",
      "Processing Record 41 of Set 7 | estrela\n",
      "City not found. Skipping...\n",
      "City not found. Skipping...\n",
      "Processing Record 42 of Set 7 | udachnyy\n",
      "Processing Record 43 of Set 7 | adendorf\n",
      "Processing Record 44 of Set 7 | ust-karsk\n",
      "Processing Record 45 of Set 7 | drabiv\n",
      "Processing Record 46 of Set 7 | gombong\n",
      "Processing Record 47 of Set 7 | crailsheim\n",
      "Processing Record 48 of Set 7 | trofors\n",
      "Processing Record 49 of Set 7 | ardabil\n",
      "Processing Record 1 of Set 8 | karratha\n",
      "Processing Record 2 of Set 8 | san quintin\n",
      "Processing Record 3 of Set 8 | lebanon\n",
      "Processing Record 4 of Set 8 | asau\n",
      "Processing Record 5 of Set 8 | port moresby\n",
      "Processing Record 6 of Set 8 | palaia fokaia\n",
      "City not found. Skipping...\n",
      "Processing Record 7 of Set 8 | bowen\n",
      "Processing Record 8 of Set 8 | filadelfia\n",
      "Processing Record 9 of Set 8 | columbus\n",
      "Processing Record 10 of Set 8 | fayaoue\n",
      "Processing Record 11 of Set 8 | chicama\n",
      "Processing Record 12 of Set 8 | manassas\n",
      "Processing Record 13 of Set 8 | healesville\n",
      "Processing Record 14 of Set 8 | sorland\n",
      "Processing Record 15 of Set 8 | honiara\n",
      "Processing Record 16 of Set 8 | loding\n",
      "Processing Record 17 of Set 8 | huimanguillo\n",
      "Processing Record 18 of Set 8 | belyy yar\n",
      "Processing Record 19 of Set 8 | acapulco\n",
      "Processing Record 20 of Set 8 | zaoyang\n",
      "Processing Record 21 of Set 8 | esperance\n",
      "Processing Record 22 of Set 8 | znamenskoye\n",
      "City not found. Skipping...\n",
      "Processing Record 23 of Set 8 | newport\n",
      "City not found. Skipping...\n",
      "Processing Record 24 of Set 8 | bitkine\n",
      "Processing Record 25 of Set 8 | fort frances\n",
      "Processing Record 26 of Set 8 | vydrino\n",
      "Processing Record 27 of Set 8 | chanute\n",
      "Processing Record 28 of Set 8 | shellbrook\n",
      "Processing Record 29 of Set 8 | ayan\n",
      "Processing Record 30 of Set 8 | san policarpo\n"
     ]
    },
    {
     "name": "stdout",
     "output_type": "stream",
     "text": [
      "Processing Record 31 of Set 8 | moberly\n",
      "Processing Record 32 of Set 8 | king city\n",
      "Processing Record 33 of Set 8 | beian\n",
      "Processing Record 34 of Set 8 | sabzevar\n",
      "Processing Record 35 of Set 8 | deputatskiy\n",
      "Processing Record 36 of Set 8 | las vegas\n",
      "Processing Record 37 of Set 8 | florianopolis\n",
      "Processing Record 38 of Set 8 | burhaniye\n",
      "Processing Record 39 of Set 8 | ketchikan\n",
      "Processing Record 40 of Set 8 | port lincoln\n",
      "Processing Record 41 of Set 8 | waiuku\n",
      "Processing Record 42 of Set 8 | pilar\n",
      "Processing Record 43 of Set 8 | beitbridge\n",
      "Processing Record 44 of Set 8 | basco\n",
      "Processing Record 45 of Set 8 | dunedin\n",
      "Processing Record 46 of Set 8 | bucerias\n",
      "Processing Record 47 of Set 8 | phalaborwa\n",
      "City not found. Skipping...\n",
      "City not found. Skipping...\n",
      "Processing Record 48 of Set 8 | dongkan\n",
      "Processing Record 49 of Set 8 | tessalit\n",
      "Processing Record 1 of Set 9 | bonavista\n",
      "Processing Record 2 of Set 9 | grenville\n",
      "Processing Record 3 of Set 9 | launceston\n",
      "Processing Record 4 of Set 9 | kamenka\n",
      "Processing Record 5 of Set 9 | nabire\n",
      "Processing Record 6 of Set 9 | manjacaze\n",
      "Processing Record 7 of Set 9 | harper\n",
      "Processing Record 8 of Set 9 | jiuquan\n",
      "Processing Record 9 of Set 9 | owensboro\n",
      "Processing Record 10 of Set 9 | herat\n",
      "Processing Record 11 of Set 9 | port hedland\n",
      "Processing Record 12 of Set 9 | kollam\n",
      "Processing Record 13 of Set 9 | boende\n",
      "Processing Record 14 of Set 9 | polovinnoye\n",
      "Processing Record 15 of Set 9 | sangar\n",
      "Processing Record 16 of Set 9 | muzhi\n",
      "Processing Record 17 of Set 9 | provideniya\n",
      "Processing Record 18 of Set 9 | sycow\n",
      "Processing Record 19 of Set 9 | garissa\n",
      "Processing Record 20 of Set 9 | porterville\n",
      "Processing Record 21 of Set 9 | greymouth\n",
      "Processing Record 22 of Set 9 | bindura\n",
      "Processing Record 23 of Set 9 | san juan de uraba\n",
      "Processing Record 24 of Set 9 | sumoto\n",
      "Processing Record 25 of Set 9 | mizdah\n",
      "Processing Record 26 of Set 9 | emerald\n",
      "Processing Record 27 of Set 9 | kharagpur\n",
      "Processing Record 28 of Set 9 | noumea\n",
      "Processing Record 29 of Set 9 | vanavara\n",
      "Processing Record 30 of Set 9 | hammerfest\n",
      "Processing Record 31 of Set 9 | gondar\n",
      "Processing Record 32 of Set 9 | praia\n",
      "Processing Record 33 of Set 9 | namibe\n",
      "Processing Record 34 of Set 9 | sao bartolomeu de messines\n",
      "Processing Record 35 of Set 9 | airai\n",
      "Processing Record 36 of Set 9 | akureyri\n",
      "Processing Record 37 of Set 9 | douentza\n",
      "Processing Record 38 of Set 9 | arona\n",
      "Processing Record 39 of Set 9 | touros\n",
      "Processing Record 40 of Set 9 | rio cuarto\n",
      "Processing Record 41 of Set 9 | aldan\n",
      "Processing Record 42 of Set 9 | kahului\n",
      "Processing Record 43 of Set 9 | bokoro\n",
      "Processing Record 44 of Set 9 | dinajpur\n",
      "Processing Record 45 of Set 9 | high level\n",
      "Processing Record 46 of Set 9 | bairnsdale\n",
      "Processing Record 47 of Set 9 | dwarka\n",
      "Processing Record 48 of Set 9 | shelburne\n",
      "Processing Record 49 of Set 9 | prachuap khiri khan\n",
      "Processing Record 1 of Set 10 | sao joao da barra\n",
      "Processing Record 2 of Set 10 | ailigandi\n",
      "Processing Record 3 of Set 10 | taoudenni\n",
      "Processing Record 4 of Set 10 | ossora\n",
      "Processing Record 5 of Set 10 | lerwick\n",
      "Processing Record 6 of Set 10 | salalah\n",
      "Processing Record 7 of Set 10 | mumbwa\n",
      "Processing Record 8 of Set 10 | svobodnyy\n",
      "Processing Record 9 of Set 10 | pervomayskiy\n",
      "Processing Record 10 of Set 10 | riyadh\n",
      "Processing Record 11 of Set 10 | todos santos\n",
      "Processing Record 12 of Set 10 | santo antonio do ica\n",
      "Processing Record 13 of Set 10 | resavica\n",
      "Processing Record 14 of Set 10 | rock falls\n",
      "Processing Record 15 of Set 10 | ahipara\n",
      "Processing Record 16 of Set 10 | leningradskiy\n",
      "Processing Record 17 of Set 10 | vao\n",
      "Processing Record 18 of Set 10 | tanout\n",
      "Processing Record 19 of Set 10 | am timan\n",
      "Processing Record 20 of Set 10 | westport\n",
      "Processing Record 21 of Set 10 | rodrigues alves\n",
      "Processing Record 22 of Set 10 | tamiahua\n",
      "Processing Record 23 of Set 10 | coquimbo\n",
      "Processing Record 24 of Set 10 | port blair\n",
      "Processing Record 25 of Set 10 | lobito\n",
      "Processing Record 26 of Set 10 | chaohu\n",
      "Processing Record 27 of Set 10 | bundaberg\n",
      "Processing Record 28 of Set 10 | auki\n",
      "Processing Record 29 of Set 10 | yulara\n",
      "Processing Record 30 of Set 10 | palmer\n",
      "City not found. Skipping...\n",
      "Processing Record 31 of Set 10 | dongying\n",
      "Processing Record 32 of Set 10 | chapais\n",
      "Processing Record 33 of Set 10 | svetlogorsk\n",
      "Processing Record 34 of Set 10 | ormara\n",
      "Processing Record 35 of Set 10 | alice springs\n",
      "Processing Record 36 of Set 10 | dudinka\n",
      "Processing Record 37 of Set 10 | abengourou\n",
      "Processing Record 38 of Set 10 | rafaela\n",
      "Processing Record 39 of Set 10 | rawson\n",
      "Processing Record 40 of Set 10 | khani\n",
      "Processing Record 41 of Set 10 | gusau\n",
      "Processing Record 42 of Set 10 | aksarayskiy\n",
      "Processing Record 43 of Set 10 | roros\n",
      "Processing Record 44 of Set 10 | kutum\n",
      "Processing Record 45 of Set 10 | rudbar\n",
      "Processing Record 46 of Set 10 | ixtapa\n",
      "Processing Record 47 of Set 10 | pedernales\n",
      "Processing Record 48 of Set 10 | acajutla\n",
      "Processing Record 49 of Set 10 | axim\n",
      "Processing Record 1 of Set 11 | lalin\n",
      "Processing Record 2 of Set 11 | bagdarin\n",
      "Processing Record 3 of Set 11 | asyut\n",
      "Processing Record 4 of Set 11 | kautokeino\n",
      "Processing Record 5 of Set 11 | nkhotakota\n",
      "Processing Record 6 of Set 11 | ola\n",
      "City not found. Skipping...\n",
      "Processing Record 7 of Set 11 | husavik\n",
      "Processing Record 8 of Set 11 | alekseyevsk\n",
      "Processing Record 9 of Set 11 | ler\n",
      "Processing Record 10 of Set 11 | sungai besar\n",
      "Processing Record 11 of Set 11 | siavonga\n",
      "Processing Record 12 of Set 11 | takoradi\n",
      "Processing Record 13 of Set 11 | comodoro rivadavia\n",
      "Processing Record 14 of Set 11 | sibolga\n",
      "Processing Record 15 of Set 11 | svolvaer\n",
      "Processing Record 16 of Set 11 | konstantinovskaya\n",
      "Processing Record 17 of Set 11 | jacarau\n",
      "Processing Record 18 of Set 11 | mount pleasant\n",
      "Processing Record 19 of Set 11 | hirara\n",
      "Processing Record 20 of Set 11 | villazon\n",
      "Processing Record 21 of Set 11 | semenivka\n",
      "Processing Record 22 of Set 11 | kologriv\n",
      "Processing Record 23 of Set 11 | santa rosalia\n",
      "Processing Record 24 of Set 11 | ust-nera\n",
      "Processing Record 25 of Set 11 | jumla\n",
      "Processing Record 26 of Set 11 | banda aceh\n",
      "Processing Record 27 of Set 11 | corato\n",
      "Processing Record 28 of Set 11 | meadow lake\n",
      "Processing Record 29 of Set 11 | bukavu\n",
      "Processing Record 30 of Set 11 | sinnamary\n",
      "Processing Record 31 of Set 11 | makungu\n",
      "Processing Record 32 of Set 11 | qasigiannguit\n",
      "Processing Record 33 of Set 11 | tshikapa\n",
      "Processing Record 34 of Set 11 | vila velha\n",
      "Processing Record 35 of Set 11 | ayaviri\n",
      "Processing Record 36 of Set 11 | santa isabel do rio negro\n",
      "Processing Record 37 of Set 11 | copala\n",
      "Processing Record 38 of Set 11 | chernyshevskiy\n",
      "City not found. Skipping...\n",
      "Processing Record 39 of Set 11 | tomatlan\n",
      "Processing Record 40 of Set 11 | camana\n",
      "Processing Record 41 of Set 11 | urengoy\n",
      "Processing Record 42 of Set 11 | chabahar\n",
      "Processing Record 43 of Set 11 | galesong\n",
      "City not found. Skipping...\n",
      "Processing Record 44 of Set 11 | kyabram\n",
      "Processing Record 45 of Set 11 | nadym\n",
      "Processing Record 46 of Set 11 | polyarnyy\n",
      "Processing Record 47 of Set 11 | oktyabrskoye\n",
      "Processing Record 48 of Set 11 | sabang\n",
      "Processing Record 49 of Set 11 | were ilu\n",
      "Processing Record 1 of Set 12 | menongue\n",
      "City not found. Skipping...\n",
      "Processing Record 2 of Set 12 | sault sainte marie\n",
      "Processing Record 3 of Set 12 | puerto barrios\n",
      "Processing Record 4 of Set 12 | bacsalmas\n",
      "Processing Record 5 of Set 12 | samarai\n",
      "Processing Record 6 of Set 12 | corridonia\n",
      "Processing Record 7 of Set 12 | fare\n",
      "Processing Record 8 of Set 12 | nayoro\n",
      "Processing Record 9 of Set 12 | kirakira\n",
      "Processing Record 10 of Set 12 | limbang\n",
      "Processing Record 11 of Set 12 | sunggal\n",
      "Processing Record 12 of Set 12 | douglas\n",
      "Processing Record 13 of Set 12 | vitoria da conquista\n",
      "Processing Record 14 of Set 12 | gornopravdinsk\n",
      "Processing Record 15 of Set 12 | tinogboc\n",
      "Processing Record 16 of Set 12 | caravelas\n",
      "Processing Record 17 of Set 12 | cordoba\n",
      "Processing Record 18 of Set 12 | gaffney\n",
      "Processing Record 19 of Set 12 | freeport\n",
      "Processing Record 20 of Set 12 | bere\n",
      "Processing Record 21 of Set 12 | marzuq\n",
      "City not found. Skipping...\n",
      "Processing Record 22 of Set 12 | tuatapere\n",
      "Processing Record 23 of Set 12 | north bend\n",
      "Processing Record 24 of Set 12 | springdale\n",
      "City not found. Skipping...\n"
     ]
    },
    {
     "name": "stdout",
     "output_type": "stream",
     "text": [
      "Processing Record 25 of Set 12 | lorengau\n",
      "City not found. Skipping...\n",
      "Processing Record 26 of Set 12 | adrar\n",
      "-----------------------------\n",
      "Data Retrieval Complete\n",
      "-----------------------------\n"
     ]
    }
   ],
   "source": [
    "# Try to grab the data of cities if they are available \n",
    "print('Beginning Data Retrieval')\n",
    "print('-----------------------------')\n",
    "\n",
    "# For loop all the cities\n",
    "for city in cities:\n",
    "# Put the data in the empty lists     \n",
    "    try:\n",
    "        response = requests.get(query_url + city).json() \n",
    "        lat.append(response['coord']['lat'])\n",
    "        lng.append(response['coord']['lon'])\n",
    "        max_temp.append(response['main']['temp_max'])\n",
    "        humidity.append(response['main']['humidity'])\n",
    "        cloudiness.append(response['clouds']['all'])\n",
    "        windspeed.append(response['wind']['speed'])\n",
    "        date.append(response['dt'])\n",
    "        city2.append(city)\n",
    "\n",
    "# Print log of each city\n",
    "        if record > 48:\n",
    "            record = 1\n",
    "            set_key += 1\n",
    "            \n",
    "        else: \n",
    "            record += 1\n",
    "            \n",
    "        print(f'Processing Record {record} of Set {set_key} | {city}')\n",
    "    except:\n",
    "        print('City not found. Skipping...')\n",
    "print('-----------------------------')\n",
    "print('Data Retrieval Complete')\n",
    "print('-----------------------------')"
   ]
  },
  {
   "cell_type": "markdown",
   "metadata": {},
   "source": [
    "### Convert Raw Data to DataFrame\n",
    "* Export the city data into a .csv.\n",
    "* Display the DataFrame"
   ]
  },
  {
   "cell_type": "code",
   "execution_count": 7,
   "metadata": {},
   "outputs": [
    {
     "data": {
      "text/html": [
       "<div>\n",
       "<style scoped>\n",
       "    .dataframe tbody tr th:only-of-type {\n",
       "        vertical-align: middle;\n",
       "    }\n",
       "\n",
       "    .dataframe tbody tr th {\n",
       "        vertical-align: top;\n",
       "    }\n",
       "\n",
       "    .dataframe thead th {\n",
       "        text-align: right;\n",
       "    }\n",
       "</style>\n",
       "<table border=\"1\" class=\"dataframe\">\n",
       "  <thead>\n",
       "    <tr style=\"text-align: right;\">\n",
       "      <th></th>\n",
       "      <th>City</th>\n",
       "      <th>Lat</th>\n",
       "      <th>Lng</th>\n",
       "      <th>Max temp</th>\n",
       "      <th>Humidity</th>\n",
       "      <th>Cloudiness</th>\n",
       "      <th>Wind Speed</th>\n",
       "      <th>Date</th>\n",
       "    </tr>\n",
       "  </thead>\n",
       "  <tbody>\n",
       "    <tr>\n",
       "      <th>0</th>\n",
       "      <td>cabo san lucas</td>\n",
       "      <td>22.8909</td>\n",
       "      <td>-109.9124</td>\n",
       "      <td>60.01</td>\n",
       "      <td>85</td>\n",
       "      <td>42</td>\n",
       "      <td>1.01</td>\n",
       "      <td>1612687256</td>\n",
       "    </tr>\n",
       "    <tr>\n",
       "      <th>1</th>\n",
       "      <td>saint-philippe</td>\n",
       "      <td>-21.3585</td>\n",
       "      <td>55.7679</td>\n",
       "      <td>87.80</td>\n",
       "      <td>62</td>\n",
       "      <td>0</td>\n",
       "      <td>11.50</td>\n",
       "      <td>1612687256</td>\n",
       "    </tr>\n",
       "    <tr>\n",
       "      <th>2</th>\n",
       "      <td>kruisfontein</td>\n",
       "      <td>-34.0033</td>\n",
       "      <td>24.7314</td>\n",
       "      <td>81.00</td>\n",
       "      <td>54</td>\n",
       "      <td>0</td>\n",
       "      <td>8.99</td>\n",
       "      <td>1612687257</td>\n",
       "    </tr>\n",
       "    <tr>\n",
       "      <th>3</th>\n",
       "      <td>avarua</td>\n",
       "      <td>-21.2078</td>\n",
       "      <td>-159.7750</td>\n",
       "      <td>77.00</td>\n",
       "      <td>88</td>\n",
       "      <td>8</td>\n",
       "      <td>3.44</td>\n",
       "      <td>1612687257</td>\n",
       "    </tr>\n",
       "    <tr>\n",
       "      <th>4</th>\n",
       "      <td>jamestown</td>\n",
       "      <td>42.0970</td>\n",
       "      <td>-79.2353</td>\n",
       "      <td>17.60</td>\n",
       "      <td>57</td>\n",
       "      <td>1</td>\n",
       "      <td>8.05</td>\n",
       "      <td>1612687257</td>\n",
       "    </tr>\n",
       "  </tbody>\n",
       "</table>\n",
       "</div>"
      ],
      "text/plain": [
       "             City      Lat       Lng  Max temp  Humidity  Cloudiness  \\\n",
       "0  cabo san lucas  22.8909 -109.9124     60.01        85          42   \n",
       "1  saint-philippe -21.3585   55.7679     87.80        62           0   \n",
       "2    kruisfontein -34.0033   24.7314     81.00        54           0   \n",
       "3          avarua -21.2078 -159.7750     77.00        88           8   \n",
       "4       jamestown  42.0970  -79.2353     17.60        57           1   \n",
       "\n",
       "   Wind Speed        Date  \n",
       "0        1.01  1612687256  \n",
       "1       11.50  1612687256  \n",
       "2        8.99  1612687257  \n",
       "3        3.44  1612687257  \n",
       "4        8.05  1612687257  "
      ]
     },
     "execution_count": 7,
     "metadata": {},
     "output_type": "execute_result"
    }
   ],
   "source": [
    "# Create dictionary of city data\n",
    "cities_data_dict={\n",
    "    'City': city2,\n",
    "    'Lat': lat,\n",
    "    'Lng': lng,\n",
    "    'Max temp': max_temp,\n",
    "    'Humidity': humidity,\n",
    "    'Cloudiness': cloudiness,\n",
    "    'Wind Speed': windspeed,\n",
    "    'Date': date\n",
    "}\n",
    "\n",
    "# Print the DataFrame\n",
    "city_df = pd.DataFrame(cities_data_dict)\n",
    "city_df.head()"
   ]
  },
  {
   "cell_type": "code",
   "execution_count": 8,
   "metadata": {},
   "outputs": [
    {
     "data": {
      "text/html": [
       "<div>\n",
       "<style scoped>\n",
       "    .dataframe tbody tr th:only-of-type {\n",
       "        vertical-align: middle;\n",
       "    }\n",
       "\n",
       "    .dataframe tbody tr th {\n",
       "        vertical-align: top;\n",
       "    }\n",
       "\n",
       "    .dataframe thead th {\n",
       "        text-align: right;\n",
       "    }\n",
       "</style>\n",
       "<table border=\"1\" class=\"dataframe\">\n",
       "  <thead>\n",
       "    <tr style=\"text-align: right;\">\n",
       "      <th></th>\n",
       "      <th>Lat</th>\n",
       "      <th>Lng</th>\n",
       "      <th>Max temp</th>\n",
       "      <th>Humidity</th>\n",
       "      <th>Cloudiness</th>\n",
       "      <th>Wind Speed</th>\n",
       "      <th>Date</th>\n",
       "    </tr>\n",
       "  </thead>\n",
       "  <tbody>\n",
       "    <tr>\n",
       "      <th>count</th>\n",
       "      <td>565.000000</td>\n",
       "      <td>565.000000</td>\n",
       "      <td>565.000000</td>\n",
       "      <td>565.000000</td>\n",
       "      <td>565.000000</td>\n",
       "      <td>565.000000</td>\n",
       "      <td>5.650000e+02</td>\n",
       "    </tr>\n",
       "    <tr>\n",
       "      <th>mean</th>\n",
       "      <td>19.727558</td>\n",
       "      <td>17.593479</td>\n",
       "      <td>50.168106</td>\n",
       "      <td>71.007080</td>\n",
       "      <td>52.196460</td>\n",
       "      <td>8.664885</td>\n",
       "      <td>1.612687e+09</td>\n",
       "    </tr>\n",
       "    <tr>\n",
       "      <th>std</th>\n",
       "      <td>33.755770</td>\n",
       "      <td>89.651953</td>\n",
       "      <td>33.453604</td>\n",
       "      <td>21.947712</td>\n",
       "      <td>40.009157</td>\n",
       "      <td>6.649095</td>\n",
       "      <td>4.739114e+01</td>\n",
       "    </tr>\n",
       "    <tr>\n",
       "      <th>min</th>\n",
       "      <td>-54.800000</td>\n",
       "      <td>-175.200000</td>\n",
       "      <td>-44.000000</td>\n",
       "      <td>1.000000</td>\n",
       "      <td>0.000000</td>\n",
       "      <td>0.400000</td>\n",
       "      <td>1.612687e+09</td>\n",
       "    </tr>\n",
       "    <tr>\n",
       "      <th>25%</th>\n",
       "      <td>-8.767600</td>\n",
       "      <td>-61.486700</td>\n",
       "      <td>30.200000</td>\n",
       "      <td>61.000000</td>\n",
       "      <td>5.000000</td>\n",
       "      <td>3.890000</td>\n",
       "      <td>1.612687e+09</td>\n",
       "    </tr>\n",
       "    <tr>\n",
       "      <th>50%</th>\n",
       "      <td>22.678300</td>\n",
       "      <td>20.647300</td>\n",
       "      <td>61.160000</td>\n",
       "      <td>77.000000</td>\n",
       "      <td>57.000000</td>\n",
       "      <td>6.910000</td>\n",
       "      <td>1.612687e+09</td>\n",
       "    </tr>\n",
       "    <tr>\n",
       "      <th>75%</th>\n",
       "      <td>48.649900</td>\n",
       "      <td>97.150700</td>\n",
       "      <td>77.000000</td>\n",
       "      <td>87.000000</td>\n",
       "      <td>93.000000</td>\n",
       "      <td>11.500000</td>\n",
       "      <td>1.612687e+09</td>\n",
       "    </tr>\n",
       "    <tr>\n",
       "      <th>max</th>\n",
       "      <td>78.218600</td>\n",
       "      <td>178.416700</td>\n",
       "      <td>96.800000</td>\n",
       "      <td>100.000000</td>\n",
       "      <td>100.000000</td>\n",
       "      <td>44.870000</td>\n",
       "      <td>1.612687e+09</td>\n",
       "    </tr>\n",
       "  </tbody>\n",
       "</table>\n",
       "</div>"
      ],
      "text/plain": [
       "              Lat         Lng    Max temp    Humidity  Cloudiness  Wind Speed  \\\n",
       "count  565.000000  565.000000  565.000000  565.000000  565.000000  565.000000   \n",
       "mean    19.727558   17.593479   50.168106   71.007080   52.196460    8.664885   \n",
       "std     33.755770   89.651953   33.453604   21.947712   40.009157    6.649095   \n",
       "min    -54.800000 -175.200000  -44.000000    1.000000    0.000000    0.400000   \n",
       "25%     -8.767600  -61.486700   30.200000   61.000000    5.000000    3.890000   \n",
       "50%     22.678300   20.647300   61.160000   77.000000   57.000000    6.910000   \n",
       "75%     48.649900   97.150700   77.000000   87.000000   93.000000   11.500000   \n",
       "max     78.218600  178.416700   96.800000  100.000000  100.000000   44.870000   \n",
       "\n",
       "               Date  \n",
       "count  5.650000e+02  \n",
       "mean   1.612687e+09  \n",
       "std    4.739114e+01  \n",
       "min    1.612687e+09  \n",
       "25%    1.612687e+09  \n",
       "50%    1.612687e+09  \n",
       "75%    1.612687e+09  \n",
       "max    1.612687e+09  "
      ]
     },
     "execution_count": 8,
     "metadata": {},
     "output_type": "execute_result"
    }
   ],
   "source": [
    "# Describe the DataFrame\n",
    "city_df.describe()"
   ]
  },
  {
   "cell_type": "markdown",
   "metadata": {},
   "source": [
    "## Inspect the data and remove the cities where the humidity > 100%.\n",
    "----\n",
    "Skip this step if there are no cities that have humidity > 100%. "
   ]
  },
  {
   "cell_type": "code",
   "execution_count": 9,
   "metadata": {},
   "outputs": [
    {
     "data": {
      "text/html": [
       "<div>\n",
       "<style scoped>\n",
       "    .dataframe tbody tr th:only-of-type {\n",
       "        vertical-align: middle;\n",
       "    }\n",
       "\n",
       "    .dataframe tbody tr th {\n",
       "        vertical-align: top;\n",
       "    }\n",
       "\n",
       "    .dataframe thead th {\n",
       "        text-align: right;\n",
       "    }\n",
       "</style>\n",
       "<table border=\"1\" class=\"dataframe\">\n",
       "  <thead>\n",
       "    <tr style=\"text-align: right;\">\n",
       "      <th></th>\n",
       "      <th>City</th>\n",
       "      <th>Lat</th>\n",
       "      <th>Lng</th>\n",
       "      <th>Max temp</th>\n",
       "      <th>Humidity</th>\n",
       "      <th>Cloudiness</th>\n",
       "      <th>Wind Speed</th>\n",
       "      <th>Date</th>\n",
       "    </tr>\n",
       "  </thead>\n",
       "  <tbody>\n",
       "  </tbody>\n",
       "</table>\n",
       "</div>"
      ],
      "text/plain": [
       "Empty DataFrame\n",
       "Columns: [City, Lat, Lng, Max temp, Humidity, Cloudiness, Wind Speed, Date]\n",
       "Index: []"
      ]
     },
     "execution_count": 9,
     "metadata": {},
     "output_type": "execute_result"
    }
   ],
   "source": [
    "# Create filter for cities that have humidity above 100%\n",
    "filt = city_df['Humidity'] > 100  \n",
    "city_df[filt]"
   ]
  },
  {
   "cell_type": "code",
   "execution_count": 10,
   "metadata": {},
   "outputs": [
    {
     "data": {
      "text/html": [
       "<div>\n",
       "<style scoped>\n",
       "    .dataframe tbody tr th:only-of-type {\n",
       "        vertical-align: middle;\n",
       "    }\n",
       "\n",
       "    .dataframe tbody tr th {\n",
       "        vertical-align: top;\n",
       "    }\n",
       "\n",
       "    .dataframe thead th {\n",
       "        text-align: right;\n",
       "    }\n",
       "</style>\n",
       "<table border=\"1\" class=\"dataframe\">\n",
       "  <thead>\n",
       "    <tr style=\"text-align: right;\">\n",
       "      <th></th>\n",
       "      <th>Lat</th>\n",
       "      <th>Lng</th>\n",
       "      <th>Max temp</th>\n",
       "      <th>Humidity</th>\n",
       "      <th>Cloudiness</th>\n",
       "      <th>Wind Speed</th>\n",
       "      <th>Date</th>\n",
       "    </tr>\n",
       "  </thead>\n",
       "  <tbody>\n",
       "    <tr>\n",
       "      <th>count</th>\n",
       "      <td>565.000000</td>\n",
       "      <td>565.000000</td>\n",
       "      <td>565.000000</td>\n",
       "      <td>565.000000</td>\n",
       "      <td>565.000000</td>\n",
       "      <td>565.000000</td>\n",
       "      <td>5.650000e+02</td>\n",
       "    </tr>\n",
       "    <tr>\n",
       "      <th>mean</th>\n",
       "      <td>19.727558</td>\n",
       "      <td>17.593479</td>\n",
       "      <td>50.168106</td>\n",
       "      <td>71.007080</td>\n",
       "      <td>52.196460</td>\n",
       "      <td>8.664885</td>\n",
       "      <td>1.612687e+09</td>\n",
       "    </tr>\n",
       "    <tr>\n",
       "      <th>std</th>\n",
       "      <td>33.755770</td>\n",
       "      <td>89.651953</td>\n",
       "      <td>33.453604</td>\n",
       "      <td>21.947712</td>\n",
       "      <td>40.009157</td>\n",
       "      <td>6.649095</td>\n",
       "      <td>4.739114e+01</td>\n",
       "    </tr>\n",
       "    <tr>\n",
       "      <th>min</th>\n",
       "      <td>-54.800000</td>\n",
       "      <td>-175.200000</td>\n",
       "      <td>-44.000000</td>\n",
       "      <td>1.000000</td>\n",
       "      <td>0.000000</td>\n",
       "      <td>0.400000</td>\n",
       "      <td>1.612687e+09</td>\n",
       "    </tr>\n",
       "    <tr>\n",
       "      <th>25%</th>\n",
       "      <td>-8.767600</td>\n",
       "      <td>-61.486700</td>\n",
       "      <td>30.200000</td>\n",
       "      <td>61.000000</td>\n",
       "      <td>5.000000</td>\n",
       "      <td>3.890000</td>\n",
       "      <td>1.612687e+09</td>\n",
       "    </tr>\n",
       "    <tr>\n",
       "      <th>50%</th>\n",
       "      <td>22.678300</td>\n",
       "      <td>20.647300</td>\n",
       "      <td>61.160000</td>\n",
       "      <td>77.000000</td>\n",
       "      <td>57.000000</td>\n",
       "      <td>6.910000</td>\n",
       "      <td>1.612687e+09</td>\n",
       "    </tr>\n",
       "    <tr>\n",
       "      <th>75%</th>\n",
       "      <td>48.649900</td>\n",
       "      <td>97.150700</td>\n",
       "      <td>77.000000</td>\n",
       "      <td>87.000000</td>\n",
       "      <td>93.000000</td>\n",
       "      <td>11.500000</td>\n",
       "      <td>1.612687e+09</td>\n",
       "    </tr>\n",
       "    <tr>\n",
       "      <th>max</th>\n",
       "      <td>78.218600</td>\n",
       "      <td>178.416700</td>\n",
       "      <td>96.800000</td>\n",
       "      <td>100.000000</td>\n",
       "      <td>100.000000</td>\n",
       "      <td>44.870000</td>\n",
       "      <td>1.612687e+09</td>\n",
       "    </tr>\n",
       "  </tbody>\n",
       "</table>\n",
       "</div>"
      ],
      "text/plain": [
       "              Lat         Lng    Max temp    Humidity  Cloudiness  Wind Speed  \\\n",
       "count  565.000000  565.000000  565.000000  565.000000  565.000000  565.000000   \n",
       "mean    19.727558   17.593479   50.168106   71.007080   52.196460    8.664885   \n",
       "std     33.755770   89.651953   33.453604   21.947712   40.009157    6.649095   \n",
       "min    -54.800000 -175.200000  -44.000000    1.000000    0.000000    0.400000   \n",
       "25%     -8.767600  -61.486700   30.200000   61.000000    5.000000    3.890000   \n",
       "50%     22.678300   20.647300   61.160000   77.000000   57.000000    6.910000   \n",
       "75%     48.649900   97.150700   77.000000   87.000000   93.000000   11.500000   \n",
       "max     78.218600  178.416700   96.800000  100.000000  100.000000   44.870000   \n",
       "\n",
       "               Date  \n",
       "count  5.650000e+02  \n",
       "mean   1.612687e+09  \n",
       "std    4.739114e+01  \n",
       "min    1.612687e+09  \n",
       "25%    1.612687e+09  \n",
       "50%    1.612687e+09  \n",
       "75%    1.612687e+09  \n",
       "max    1.612687e+09  "
      ]
     },
     "execution_count": 10,
     "metadata": {},
     "output_type": "execute_result"
    }
   ],
   "source": [
    "# Inspect the data \n",
    "city_df.describe()"
   ]
  },
  {
   "cell_type": "code",
   "execution_count": 11,
   "metadata": {},
   "outputs": [
    {
     "data": {
      "text/plain": [
       "Int64Index([], dtype='int64')"
      ]
     },
     "execution_count": 11,
     "metadata": {},
     "output_type": "execute_result"
    }
   ],
   "source": [
    "#  Get the indices of cities that have humidity over 100%.\n",
    "city_df[filt].index"
   ]
  },
  {
   "cell_type": "code",
   "execution_count": 12,
   "metadata": {},
   "outputs": [
    {
     "data": {
      "text/html": [
       "<div>\n",
       "<style scoped>\n",
       "    .dataframe tbody tr th:only-of-type {\n",
       "        vertical-align: middle;\n",
       "    }\n",
       "\n",
       "    .dataframe tbody tr th {\n",
       "        vertical-align: top;\n",
       "    }\n",
       "\n",
       "    .dataframe thead th {\n",
       "        text-align: right;\n",
       "    }\n",
       "</style>\n",
       "<table border=\"1\" class=\"dataframe\">\n",
       "  <thead>\n",
       "    <tr style=\"text-align: right;\">\n",
       "      <th></th>\n",
       "      <th>City</th>\n",
       "      <th>Lat</th>\n",
       "      <th>Lng</th>\n",
       "      <th>Max temp</th>\n",
       "      <th>Humidity</th>\n",
       "      <th>Cloudiness</th>\n",
       "      <th>Wind Speed</th>\n",
       "      <th>Date</th>\n",
       "    </tr>\n",
       "  </thead>\n",
       "  <tbody>\n",
       "    <tr>\n",
       "      <th>0</th>\n",
       "      <td>cabo san lucas</td>\n",
       "      <td>22.8909</td>\n",
       "      <td>-109.9124</td>\n",
       "      <td>60.01</td>\n",
       "      <td>85</td>\n",
       "      <td>42</td>\n",
       "      <td>1.01</td>\n",
       "      <td>1612687256</td>\n",
       "    </tr>\n",
       "    <tr>\n",
       "      <th>1</th>\n",
       "      <td>saint-philippe</td>\n",
       "      <td>-21.3585</td>\n",
       "      <td>55.7679</td>\n",
       "      <td>87.80</td>\n",
       "      <td>62</td>\n",
       "      <td>0</td>\n",
       "      <td>11.50</td>\n",
       "      <td>1612687256</td>\n",
       "    </tr>\n",
       "    <tr>\n",
       "      <th>2</th>\n",
       "      <td>kruisfontein</td>\n",
       "      <td>-34.0033</td>\n",
       "      <td>24.7314</td>\n",
       "      <td>81.00</td>\n",
       "      <td>54</td>\n",
       "      <td>0</td>\n",
       "      <td>8.99</td>\n",
       "      <td>1612687257</td>\n",
       "    </tr>\n",
       "    <tr>\n",
       "      <th>3</th>\n",
       "      <td>avarua</td>\n",
       "      <td>-21.2078</td>\n",
       "      <td>-159.7750</td>\n",
       "      <td>77.00</td>\n",
       "      <td>88</td>\n",
       "      <td>8</td>\n",
       "      <td>3.44</td>\n",
       "      <td>1612687257</td>\n",
       "    </tr>\n",
       "    <tr>\n",
       "      <th>4</th>\n",
       "      <td>jamestown</td>\n",
       "      <td>42.0970</td>\n",
       "      <td>-79.2353</td>\n",
       "      <td>17.60</td>\n",
       "      <td>57</td>\n",
       "      <td>1</td>\n",
       "      <td>8.05</td>\n",
       "      <td>1612687257</td>\n",
       "    </tr>\n",
       "    <tr>\n",
       "      <th>...</th>\n",
       "      <td>...</td>\n",
       "      <td>...</td>\n",
       "      <td>...</td>\n",
       "      <td>...</td>\n",
       "      <td>...</td>\n",
       "      <td>...</td>\n",
       "      <td>...</td>\n",
       "      <td>...</td>\n",
       "    </tr>\n",
       "    <tr>\n",
       "      <th>560</th>\n",
       "      <td>tuatapere</td>\n",
       "      <td>-46.1333</td>\n",
       "      <td>167.6833</td>\n",
       "      <td>55.45</td>\n",
       "      <td>89</td>\n",
       "      <td>72</td>\n",
       "      <td>0.83</td>\n",
       "      <td>1612687357</td>\n",
       "    </tr>\n",
       "    <tr>\n",
       "      <th>561</th>\n",
       "      <td>north bend</td>\n",
       "      <td>43.4065</td>\n",
       "      <td>-124.2243</td>\n",
       "      <td>46.40</td>\n",
       "      <td>93</td>\n",
       "      <td>90</td>\n",
       "      <td>1.52</td>\n",
       "      <td>1612687357</td>\n",
       "    </tr>\n",
       "    <tr>\n",
       "      <th>562</th>\n",
       "      <td>springdale</td>\n",
       "      <td>36.1867</td>\n",
       "      <td>-94.1288</td>\n",
       "      <td>27.00</td>\n",
       "      <td>74</td>\n",
       "      <td>90</td>\n",
       "      <td>11.50</td>\n",
       "      <td>1612687357</td>\n",
       "    </tr>\n",
       "    <tr>\n",
       "      <th>563</th>\n",
       "      <td>lorengau</td>\n",
       "      <td>-2.0226</td>\n",
       "      <td>147.2712</td>\n",
       "      <td>82.63</td>\n",
       "      <td>80</td>\n",
       "      <td>94</td>\n",
       "      <td>6.85</td>\n",
       "      <td>1612687357</td>\n",
       "    </tr>\n",
       "    <tr>\n",
       "      <th>564</th>\n",
       "      <td>adrar</td>\n",
       "      <td>20.5022</td>\n",
       "      <td>-10.0711</td>\n",
       "      <td>54.82</td>\n",
       "      <td>45</td>\n",
       "      <td>9</td>\n",
       "      <td>13.73</td>\n",
       "      <td>1612687357</td>\n",
       "    </tr>\n",
       "  </tbody>\n",
       "</table>\n",
       "<p>565 rows × 8 columns</p>\n",
       "</div>"
      ],
      "text/plain": [
       "               City      Lat       Lng  Max temp  Humidity  Cloudiness  \\\n",
       "0    cabo san lucas  22.8909 -109.9124     60.01        85          42   \n",
       "1    saint-philippe -21.3585   55.7679     87.80        62           0   \n",
       "2      kruisfontein -34.0033   24.7314     81.00        54           0   \n",
       "3            avarua -21.2078 -159.7750     77.00        88           8   \n",
       "4         jamestown  42.0970  -79.2353     17.60        57           1   \n",
       "..              ...      ...       ...       ...       ...         ...   \n",
       "560       tuatapere -46.1333  167.6833     55.45        89          72   \n",
       "561      north bend  43.4065 -124.2243     46.40        93          90   \n",
       "562      springdale  36.1867  -94.1288     27.00        74          90   \n",
       "563        lorengau  -2.0226  147.2712     82.63        80          94   \n",
       "564           adrar  20.5022  -10.0711     54.82        45           9   \n",
       "\n",
       "     Wind Speed        Date  \n",
       "0          1.01  1612687256  \n",
       "1         11.50  1612687256  \n",
       "2          8.99  1612687257  \n",
       "3          3.44  1612687257  \n",
       "4          8.05  1612687257  \n",
       "..          ...         ...  \n",
       "560        0.83  1612687357  \n",
       "561        1.52  1612687357  \n",
       "562       11.50  1612687357  \n",
       "563        6.85  1612687357  \n",
       "564       13.73  1612687357  \n",
       "\n",
       "[565 rows x 8 columns]"
      ]
     },
     "execution_count": 12,
     "metadata": {},
     "output_type": "execute_result"
    }
   ],
   "source": [
    "# Make a new DataFrame equal to the city data to drop all humidity outliers by index.\n",
    "# Passing \"inplace=False\" will make a copy of the city_data DataFrame, which we call \"clean_city_data\".\n",
    "clean_city_data = city_df.drop(city_df[city_df['Humidity'] > 100].index, inplace = False)\n",
    "clean_city_data"
   ]
  },
  {
   "cell_type": "markdown",
   "metadata": {},
   "source": [
    "## Plotting the Data\n",
    "* Use proper labeling of the plots using plot titles (including date of analysis) and axes labels.\n",
    "* Save the plotted figures as .pngs."
   ]
  },
  {
   "cell_type": "markdown",
   "metadata": {},
   "source": [
    "## Latitude vs. Temperature Plot"
   ]
  },
  {
   "cell_type": "code",
   "execution_count": 13,
   "metadata": {
    "scrolled": true
   },
   "outputs": [],
   "source": [
    "# Set x and y values \n",
    "x_value = clean_city_data['Lat']\n",
    "y_value = clean_city_data['Max temp']"
   ]
  },
  {
   "cell_type": "code",
   "execution_count": 14,
   "metadata": {},
   "outputs": [
    {
     "name": "stdout",
     "output_type": "stream",
     "text": [
      "This plot shows the releationship between each city's latitude and its max temperature on a given date.\n"
     ]
    },
    {
     "data": {
      "image/png": "[encoded data removed]",
      "text/plain": [
       "<Figure size 432x288 with 1 Axes>"
      ]
     },
     "metadata": {
      "needs_background": "light"
     },
     "output_type": "display_data"
    }
   ],
   "source": [
    "# Plot the data\n",
    "plt.scatter(x_value, y_value, marker = 'o', facecolors = 'blue', edgecolors = 'black' , alpha = 0.75)\n",
    "plt.xlabel('Latitude')\n",
    "plt.ylabel('Max Temperature (F)')\n",
    "plt.title('City Latitude vs Max Temperature (06/02/2021)')\n",
    "print(\"This plot shows the releationship between each city's latitude and its max temperature on a given date.\")\n",
    "plt.savefig('output/lat_vs_maxtemp.png')"
   ]
  },
  {
   "cell_type": "markdown",
   "metadata": {},
   "source": [
    "## Latitude vs. Humidity Plot"
   ]
  },
  {
   "cell_type": "code",
   "execution_count": 15,
   "metadata": {},
   "outputs": [],
   "source": [
    "# Set x and y values \n",
    "x_value = clean_city_data['Lat']\n",
    "y_value = clean_city_data['Humidity']"
   ]
  },
  {
   "cell_type": "code",
   "execution_count": 16,
   "metadata": {},
   "outputs": [
    {
     "name": "stdout",
     "output_type": "stream",
     "text": [
      "This plot shows the releationship between each city's latitude and its max temperature on a given date.\n"
     ]
    },
    {
     "data": {
      "image/png": "[encoded data removed]",
      "text/plain": [
       "<Figure size 432x288 with 1 Axes>"
      ]
     },
     "metadata": {
      "needs_background": "light"
     },
     "output_type": "display_data"
    }
   ],
   "source": [
    "# Plot the data\n",
    "plt.scatter(x_value, y_value, marker = 'o', facecolors = 'blue', edgecolors = 'black' , alpha = 0.75)\n",
    "plt.xlabel('Latitude')\n",
    "plt.ylabel('Humidity (%)')\n",
    "plt.title('City Latitude vs Humidity (06/02/2021)')\n",
    "print(\"This plot shows the releationship between each city's latitude and its max temperature on a given date.\")\n",
    "plt.savefig('output/lat_vs_hum.png')"
   ]
  },
  {
   "cell_type": "markdown",
   "metadata": {},
   "source": [
    "## Latitude vs. Cloudiness Plot"
   ]
  },
  {
   "cell_type": "code",
   "execution_count": 17,
   "metadata": {},
   "outputs": [],
   "source": [
    "# Set x and y values \n",
    "x_value = clean_city_data['Lat']\n",
    "y_value = clean_city_data['Cloudiness']"
   ]
  },
  {
   "cell_type": "code",
   "execution_count": 18,
   "metadata": {},
   "outputs": [
    {
     "name": "stdout",
     "output_type": "stream",
     "text": [
      "This plot shows the releationship between each city's latitude and its cloudiness on a given date.\n"
     ]
    },
    {
     "data": {
      "image/png": "[encoded data removed]",
      "text/plain": [
       "<Figure size 432x288 with 1 Axes>"
      ]
     },
     "metadata": {
      "needs_background": "light"
     },
     "output_type": "display_data"
    }
   ],
   "source": [
    "# Plot the data\n",
    "plt.scatter(x_value, y_value, marker = 'o', facecolors = 'blue', edgecolors = 'black' , alpha = 0.75)\n",
    "plt.xlabel('Latitude')\n",
    "plt.ylabel('Cloudiness (%)')\n",
    "plt.title('City Latitude vs Cloudiness (06/02/2021)')\n",
    "print(\"This plot shows the releationship between each city's latitude and its cloudiness on a given date.\")\n",
    "plt.savefig('output/lat_vs_cloudiness.png')"
   ]
  },
  {
   "cell_type": "markdown",
   "metadata": {},
   "source": [
    "## Latitude vs. Wind Speed Plot"
   ]
  },
  {
   "cell_type": "code",
   "execution_count": 19,
   "metadata": {},
   "outputs": [],
   "source": [
    "# Set x and y values \n",
    "x_value = clean_city_data['Lat']\n",
    "y_value = clean_city_data['Wind Speed']"
   ]
  },
  {
   "cell_type": "code",
   "execution_count": 20,
   "metadata": {},
   "outputs": [
    {
     "name": "stdout",
     "output_type": "stream",
     "text": [
      "This plot shows the releationship between each city's latitude and its wind speed (mph) on a given date.\n"
     ]
    },
    {
     "data": {
      "image/png": "[encoded data removed]",
      "text/plain": [
       "<Figure size 432x288 with 1 Axes>"
      ]
     },
     "metadata": {
      "needs_background": "light"
     },
     "output_type": "display_data"
    }
   ],
   "source": [
    "# Plot the data\n",
    "plt.scatter(x_value, y_value, marker = 'o', facecolors = 'blue', edgecolors = 'black' , alpha = 0.75)\n",
    "plt.xlabel('Latitude')\n",
    "plt.ylabel('Wind Speed (mph)')\n",
    "plt.title('City Latitude vs Wind Speed (06/02/2021)')\n",
    "print(\"This plot shows the releationship between each city's latitude and its wind speed (mph) on a given date.\")\n",
    "plt.savefig('output/lat_vs_windspeed.png')"
   ]
  },
  {
   "cell_type": "markdown",
   "metadata": {},
   "source": [
    "## Linear Regression"
   ]
  },
  {
   "cell_type": "code",
   "execution_count": 21,
   "metadata": {},
   "outputs": [],
   "source": [
    "# Make DataFrame for Northern Hemisphere\n",
    "north_hem_df = clean_city_data.drop(clean_city_data[clean_city_data['Lat'] <= 0].index, inplace = False)"
   ]
  },
  {
   "cell_type": "code",
   "execution_count": 22,
   "metadata": {},
   "outputs": [],
   "source": [
    "# Make DataFrame for Southern Hemisphere\n",
    "south_hem_df = clean_city_data.drop(clean_city_data[clean_city_data['Lat'] >= 0].index, inplace = False)"
   ]
  },
  {
   "cell_type": "markdown",
   "metadata": {},
   "source": [
    "####  Northern Hemisphere - Max Temp vs. Latitude Linear Regression"
   ]
  },
  {
   "cell_type": "code",
   "execution_count": 23,
   "metadata": {},
   "outputs": [
    {
     "name": "stdout",
     "output_type": "stream",
     "text": [
      "The r-value is: -0.8636011560712354\n"
     ]
    },
    {
     "data": {
      "image/png": "[encoded data removed]",
      "text/plain": [
       "<Figure size 432x288 with 1 Axes>"
      ]
     },
     "metadata": {
      "needs_background": "light"
     },
     "output_type": "display_data"
    },
    {
     "name": "stdout",
     "output_type": "stream",
     "text": [
      "There is a strong negative relationship between each city's latitude and its maximum temperature in the Northern Hemisphere with an r-value of -0.86. The r-squared value is 0.75, which means that 75.0% of the data fit the regression model.  \n"
     ]
    },
    {
     "data": {
      "text/plain": [
       "<Figure size 432x288 with 0 Axes>"
      ]
     },
     "metadata": {},
     "output_type": "display_data"
    }
   ],
   "source": [
    "# Plot linear regression\n",
    "x_value = north_hem_df['Lat']\n",
    "y_value = north_hem_df['Max temp'] \n",
    "(slope, intercept, rvalue, pvalue, stderr) = linregress(x_value, y_value)\n",
    "regress_value = x_value * slope + intercept \n",
    "line_eq = 'y = ' +str(round(slope,2)) + 'x + ' + str(round(intercept,2))\n",
    "plt.scatter(x_value, y_value)\n",
    "plt.plot(x_value,regress_value,'r-')\n",
    "plt.annotate(line_eq, (0,-20), fontsize=15, color='red')\n",
    "plt.xlabel('Latitude')\n",
    "plt.ylabel('Max Temp')\n",
    "print(f'The r-value is: {rvalue}')\n",
    "plt.show()\n",
    "print(f\"There is a strong negative relationship between each city's latitude and its maximum temperature in the Northern Hemisphere with an r-value of {round(rvalue,2)}. The r-squared value is {round(rvalue**2,2)}, which means that {round(rvalue**2,2)*100}% of the data fit the regression model.  \")\n",
    "plt.savefig('output/nh_lat_vs_maxtemp.png')"
   ]
  },
  {
   "cell_type": "markdown",
   "metadata": {},
   "source": [
    "####  Southern Hemisphere - Max Temp vs. Latitude Linear Regression"
   ]
  },
  {
   "cell_type": "code",
   "execution_count": 24,
   "metadata": {},
   "outputs": [
    {
     "name": "stdout",
     "output_type": "stream",
     "text": [
      "The r-value is: 0.583116497065601\n"
     ]
    },
    {
     "data": {
      "image/png": "[encoded data removed]",
      "text/plain": [
       "<Figure size 432x288 with 1 Axes>"
      ]
     },
     "metadata": {
      "needs_background": "light"
     },
     "output_type": "display_data"
    },
    {
     "name": "stdout",
     "output_type": "stream",
     "text": [
      "There is a moderate positive relationship between each city's latitude and its maximum temperature in the Southern Hemisphere with an r-value of 0.58. The r-squared value is 0.34, which means that 34.0% of the data fit the regression model.  \n"
     ]
    },
    {
     "data": {
      "text/plain": [
       "<Figure size 432x288 with 0 Axes>"
      ]
     },
     "metadata": {},
     "output_type": "display_data"
    }
   ],
   "source": [
    "# Plot linear regression\n",
    "x_value = south_hem_df['Lat']\n",
    "y_value = south_hem_df['Max temp'] \n",
    "(slope, intercept, rvalue, pvalue, stderr) = linregress(x_value, y_value)\n",
    "regress_value = x_value * slope + intercept \n",
    "line_eq = 'y = ' +str(round(slope,2)) + 'x + ' + str(round(intercept,2))\n",
    "plt.scatter(x_value, y_value)\n",
    "plt.plot(x_value,regress_value,'r-')\n",
    "plt.annotate(line_eq, (-30,40), fontsize=15, color='red')\n",
    "plt.xlabel('Latitude')\n",
    "plt.ylabel('Max Temp')\n",
    "print(f'The r-value is: {rvalue}')\n",
    "plt.show()\n",
    "print(f\"There is a moderate positive relationship between each city's latitude and its maximum temperature in the Southern Hemisphere with an r-value of {round(rvalue,2)}. The r-squared value is {round(rvalue**2,2)}, which means that {round(rvalue**2,2)*100}% of the data fit the regression model.  \")\n",
    "plt.savefig('output/sh_lat_vs_maxtemp.png')"
   ]
  },
  {
   "cell_type": "markdown",
   "metadata": {},
   "source": [
    "####  Northern Hemisphere - Humidity (%) vs. Latitude Linear Regression"
   ]
  },
  {
   "cell_type": "code",
   "execution_count": 25,
   "metadata": {},
   "outputs": [
    {
     "name": "stdout",
     "output_type": "stream",
     "text": [
      "The r-value is: 0.37972375625264315\n"
     ]
    },
    {
     "data": {
      "image/png": "[encoded data removed]",
      "text/plain": [
       "<Figure size 432x288 with 1 Axes>"
      ]
     },
     "metadata": {
      "needs_background": "light"
     },
     "output_type": "display_data"
    },
    {
     "name": "stdout",
     "output_type": "stream",
     "text": [
      "There is a weak positive relationship between each city's latitude and its humidity in the Northern Hemisphere with an r-value of 0.38. The r-squared value is 0.14, which means that 14.000000000000002% of the data fit the regression model.  \n"
     ]
    },
    {
     "data": {
      "text/plain": [
       "<Figure size 432x288 with 0 Axes>"
      ]
     },
     "metadata": {},
     "output_type": "display_data"
    }
   ],
   "source": [
    "# Plot linear regression\n",
    "x_value = north_hem_df['Lat']\n",
    "y_value = north_hem_df['Humidity'] \n",
    "(slope, intercept, rvalue, pvalue, stderr) = linregress(x_value, y_value)\n",
    "regress_value = x_value * slope + intercept \n",
    "line_eq = 'y = ' +str(round(slope,2)) + 'x + ' + str(round(intercept,2))\n",
    "plt.scatter(x_value, y_value)\n",
    "plt.plot(x_value,regress_value,'r-')\n",
    "plt.annotate(line_eq, (45,15), fontsize=15, color='red')\n",
    "plt.xlabel('Latitude')\n",
    "plt.ylabel('Humidity')\n",
    "print(f'The r-value is: {rvalue}')\n",
    "plt.show()\n",
    "print(f\"There is a weak positive relationship between each city's latitude and its humidity in the Northern Hemisphere with an r-value of {round(rvalue,2)}. The r-squared value is {round(rvalue**2,2)}, which means that {round(rvalue**2,2)*100}% of the data fit the regression model.  \")\n",
    "plt.savefig('output/nh_lat_vs_hum.png')"
   ]
  },
  {
   "cell_type": "markdown",
   "metadata": {},
   "source": [
    "####  Southern Hemisphere - Humidity (%) vs. Latitude Linear Regression"
   ]
  },
  {
   "cell_type": "code",
   "execution_count": 26,
   "metadata": {},
   "outputs": [
    {
     "name": "stdout",
     "output_type": "stream",
     "text": [
      "The r-value is: 0.10278521101366588\n"
     ]
    },
    {
     "data": {
      "image/png": "[encoded data removed]",
      "text/plain": [
       "<Figure size 432x288 with 1 Axes>"
      ]
     },
     "metadata": {
      "needs_background": "light"
     },
     "output_type": "display_data"
    },
    {
     "name": "stdout",
     "output_type": "stream",
     "text": [
      "There is a weak positive to no relationship between each city's latitude and its humidity in the Southern Hemisphere with an r-value of 0.1. The r-squared value is 0.01, which means that 1.0% of the data fit the regression model.  \n"
     ]
    },
    {
     "data": {
      "text/plain": [
       "<Figure size 432x288 with 0 Axes>"
      ]
     },
     "metadata": {},
     "output_type": "display_data"
    }
   ],
   "source": [
    "# Plot linear regression\n",
    "x_value = south_hem_df['Lat']\n",
    "y_value = south_hem_df['Humidity'] \n",
    "(slope, intercept, rvalue, pvalue, stderr) = linregress(x_value, y_value)\n",
    "regress_value = x_value * slope + intercept \n",
    "line_eq = 'y = ' +str(round(slope,2)) + 'x + ' + str(round(intercept,2))\n",
    "plt.scatter(x_value, y_value)\n",
    "plt.plot(x_value,regress_value,'r-')\n",
    "plt.annotate(line_eq, (-25,30), fontsize=15, color='red')\n",
    "plt.xlabel('Latitude')\n",
    "plt.ylabel('Humidity')\n",
    "print(f'The r-value is: {rvalue}')\n",
    "plt.show()\n",
    "print(f\"There is a weak positive to no relationship between each city's latitude and its humidity in the Southern Hemisphere with an r-value of {round(rvalue,2)}. The r-squared value is {round(rvalue**2,2)}, which means that {round(rvalue**2,2)*100}% of the data fit the regression model.  \")\n",
    "plt.savefig('output/sh_lat_vs_hum.png')"
   ]
  },
  {
   "cell_type": "markdown",
   "metadata": {},
   "source": [
    "####  Northern Hemisphere - Cloudiness (%) vs. Latitude Linear Regression"
   ]
  },
  {
   "cell_type": "code",
   "execution_count": 27,
   "metadata": {},
   "outputs": [
    {
     "name": "stdout",
     "output_type": "stream",
     "text": [
      "The r-value is: 0.17136326173813063\n"
     ]
    },
    {
     "data": {
      "image/png": "[encoded data removed]",
      "text/plain": [
       "<Figure size 432x288 with 1 Axes>"
      ]
     },
     "metadata": {
      "needs_background": "light"
     },
     "output_type": "display_data"
    },
    {
     "name": "stdout",
     "output_type": "stream",
     "text": [
      "There is a weak positive relationship between each city's latitude and its cloudiness in the Northern Hemisphere with an r-value of 0.17. The r-squared value is 0.03, which means that 3.0% of the data fit the regression model.  \n"
     ]
    },
    {
     "data": {
      "text/plain": [
       "<Figure size 432x288 with 0 Axes>"
      ]
     },
     "metadata": {},
     "output_type": "display_data"
    }
   ],
   "source": [
    "# Plot linear regression\n",
    "x_value = north_hem_df['Lat']\n",
    "y_value = north_hem_df['Cloudiness'] \n",
    "(slope, intercept, rvalue, pvalue, stderr) = linregress(x_value, y_value)\n",
    "regress_value = x_value * slope + intercept \n",
    "line_eq = 'y = ' +str(round(slope,2)) + 'x + ' + str(round(intercept,2))\n",
    "plt.scatter(x_value, y_value)\n",
    "plt.plot(x_value,regress_value,'r-')\n",
    "plt.annotate(line_eq, (45,10), fontsize=15, color='red')\n",
    "plt.xlabel('Latitude')\n",
    "plt.ylabel('Cloudiness')\n",
    "print(f'The r-value is: {rvalue}')\n",
    "plt.show()\n",
    "print(f\"There is a weak positive relationship between each city's latitude and its cloudiness in the Northern Hemisphere with an r-value of {round(rvalue,2)}. The r-squared value is {round(rvalue**2,2)}, which means that {round(rvalue**2,2)*100}% of the data fit the regression model.  \")\n",
    "plt.savefig('output/nh_lat_vs_cloudiness.png')"
   ]
  },
  {
   "cell_type": "markdown",
   "metadata": {},
   "source": [
    "####  Southern Hemisphere - Cloudiness (%) vs. Latitude Linear Regression"
   ]
  },
  {
   "cell_type": "code",
   "execution_count": 28,
   "metadata": {},
   "outputs": [
    {
     "name": "stdout",
     "output_type": "stream",
     "text": [
      "The r-value is: 0.36872426661246754\n"
     ]
    },
    {
     "data": {
      "image/png": "[encoded data removed]",
      "text/plain": [
       "<Figure size 432x288 with 1 Axes>"
      ]
     },
     "metadata": {
      "needs_background": "light"
     },
     "output_type": "display_data"
    },
    {
     "name": "stdout",
     "output_type": "stream",
     "text": [
      "There is a weak positive relationship between each city's latitude and its cloudiness in the Southern Hemisphere with an r-value of 0.37. The r-squared value is 0.14, which means that 14.000000000000002% of the data fit the regression model.  \n"
     ]
    },
    {
     "data": {
      "text/plain": [
       "<Figure size 432x288 with 0 Axes>"
      ]
     },
     "metadata": {},
     "output_type": "display_data"
    }
   ],
   "source": [
    "# Plot linear regression\n",
    "x_value = south_hem_df['Lat']\n",
    "y_value = south_hem_df['Cloudiness'] \n",
    "(slope, intercept, rvalue, pvalue, stderr) = linregress(x_value, y_value)\n",
    "regress_value = x_value * slope + intercept \n",
    "line_eq = 'y = ' +str(round(slope,2)) + 'x + ' + str(round(intercept,2))\n",
    "plt.scatter(x_value, y_value)\n",
    "plt.plot(x_value,regress_value,'r-')\n",
    "plt.annotate(line_eq, (-55,90), fontsize=15, color='red')\n",
    "plt.xlabel('Latitude')\n",
    "plt.ylabel('Cloudiness')\n",
    "print(f'The r-value is: {rvalue}')\n",
    "plt.show()\n",
    "print(f\"There is a weak positive relationship between each city's latitude and its cloudiness in the Southern Hemisphere with an r-value of {round(rvalue,2)}. The r-squared value is {round(rvalue**2,2)}, which means that {round(rvalue**2,2)*100}% of the data fit the regression model.  \")\n",
    "plt.savefig('output/sh_lat_vs_cloudiness.png')"
   ]
  },
  {
   "cell_type": "markdown",
   "metadata": {},
   "source": [
    "####  Northern Hemisphere - Wind Speed (mph) vs. Latitude Linear Regression"
   ]
  },
  {
   "cell_type": "code",
   "execution_count": 29,
   "metadata": {},
   "outputs": [
    {
     "name": "stdout",
     "output_type": "stream",
     "text": [
      "The r-value is: 0.13011200381666688\n"
     ]
    },
    {
     "data": {
      "image/png": "[encoded data removed]",
      "text/plain": [
       "<Figure size 432x288 with 1 Axes>"
      ]
     },
     "metadata": {
      "needs_background": "light"
     },
     "output_type": "display_data"
    },
    {
     "name": "stdout",
     "output_type": "stream",
     "text": [
      "There is no relationship between each city's latitude and its wind speed in the Northern Hemisphere with an r-value of 0.13. The r-squared value is 0.02, which means that 2.0% of the data fit the regression model.  \n"
     ]
    },
    {
     "data": {
      "text/plain": [
       "<Figure size 432x288 with 0 Axes>"
      ]
     },
     "metadata": {},
     "output_type": "display_data"
    }
   ],
   "source": [
    "# Plot linear regression\n",
    "x_value = north_hem_df['Lat']\n",
    "y_value = north_hem_df['Wind Speed'] \n",
    "(slope, intercept, rvalue, pvalue, stderr) = linregress(x_value, y_value)\n",
    "regress_value = x_value * slope + intercept \n",
    "line_eq = 'y = ' +str(round(slope,2)) + 'x + ' + str(round(intercept,2))\n",
    "plt.scatter(x_value, y_value)\n",
    "plt.plot(x_value,regress_value,'r-')\n",
    "plt.annotate(line_eq, (0,30), fontsize=15, color='red')\n",
    "plt.xlabel('Latitude')\n",
    "plt.ylabel('Wind Speed')\n",
    "print(f'The r-value is: {rvalue}')\n",
    "plt.show()\n",
    "print(f\"There is no relationship between each city's latitude and its wind speed in the Northern Hemisphere with an r-value of {round(rvalue,2)}. The r-squared value is {round(rvalue**2,2)}, which means that {round(rvalue**2,2)*100}% of the data fit the regression model.  \")\n",
    "plt.savefig('output/nh_lat_vs_winspeed.png')"
   ]
  },
  {
   "cell_type": "markdown",
   "metadata": {},
   "source": [
    "####  Southern Hemisphere - Wind Speed (mph) vs. Latitude Linear Regression"
   ]
  },
  {
   "cell_type": "code",
   "execution_count": 30,
   "metadata": {},
   "outputs": [
    {
     "name": "stdout",
     "output_type": "stream",
     "text": [
      "The r-value is: -0.1905396131257116\n"
     ]
    },
    {
     "data": {
      "image/png": "[encoded data removed]",
      "text/plain": [
       "<Figure size 432x288 with 1 Axes>"
      ]
     },
     "metadata": {
      "needs_background": "light"
     },
     "output_type": "display_data"
    },
    {
     "name": "stdout",
     "output_type": "stream",
     "text": [
      "There is no relationship between each city's latitude and its wind speed in the Southern Hemisphere with an r-value of -0.19. The r-squared value is 0.04, which means that 4.0% of the data fit the regression model.  \n"
     ]
    },
    {
     "data": {
      "text/plain": [
       "<Figure size 432x288 with 0 Axes>"
      ]
     },
     "metadata": {},
     "output_type": "display_data"
    }
   ],
   "source": [
    "# Plot linear regression\n",
    "x_value = south_hem_df['Lat']\n",
    "y_value = south_hem_df['Wind Speed'] \n",
    "(slope, intercept, rvalue, pvalue, stderr) = linregress(x_value, y_value)\n",
    "regress_value = x_value * slope + intercept \n",
    "line_eq = 'y = ' +str(round(slope,2)) + 'x + ' + str(round(intercept,2))\n",
    "plt.scatter(x_value, y_value)\n",
    "plt.plot(x_value,regress_value,'r-')\n",
    "plt.annotate(line_eq, (-55,25), fontsize=15, color='red')\n",
    "plt.xlabel('Latitude')\n",
    "plt.ylabel('Wind Speed')\n",
    "print(f'The r-value is: {rvalue}')\n",
    "plt.show()\n",
    "print(f\"There is no relationship between each city's latitude and its wind speed in the Southern Hemisphere with an r-value of {round(rvalue,2)}. The r-squared value is {round(rvalue**2,2)}, which means that {round(rvalue**2,2)*100}% of the data fit the regression model.  \")\n",
    "plt.savefig('output/sh_lat_vs_windspeed.png')"
   ]
  },
  {
   "cell_type": "code",
   "execution_count": 31,
   "metadata": {},
   "outputs": [],
   "source": [
    "# Export DataFrame to CSV \n",
    "clean_city_data.to_csv('output/clean_city_data.csv')"
   ]
  }
 ],
 "metadata": {
  "anaconda-cloud": {},
  "kernel_info": {
   "name": "python3"
  },
  "kernelspec": {
   "display_name": "Python [conda env:PythonData] *",
   "language": "python",
   "name": "conda-env-PythonData-py"
  },
  "language_info": {
   "codemirror_mode": {
    "name": "ipython",
    "version": 3
   },
   "file_extension": ".py",
   "mimetype": "text/x-python",
   "name": "python",
   "nbconvert_exporter": "python",
   "pygments_lexer": "ipython3",
   "version": "3.6.10"
  },
  "latex_envs": {
   "LaTeX_envs_menu_present": true,
   "autoclose": false,
   "autocomplete": true,
   "bibliofile": "biblio.bib",
   "cite_by": "apalike",
   "current_citInitial": 1,
   "eqLabelWithNumbers": true,
   "eqNumInitial": 1,
   "hotkeys": {
    "equation": "Ctrl-E",
    "itemize": "Ctrl-I"
   },
   "labels_anchors": false,
   "latex_user_defs": false,
   "report_style_numbering": false,
   "user_envs_cfg": false
  },
  "nteract": {
   "version": "0.12.3"
  }
 },
 "nbformat": 4,
 "nbformat_minor": 2
}
