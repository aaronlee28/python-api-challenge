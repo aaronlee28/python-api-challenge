{
 "cells": [
  {
   "cell_type": "markdown",
   "metadata": {},
   "source": [
    "# WeatherPy\n",
    "----\n",
    "\n",
    "#### Note\n",
    "* Instructions have been included for each segment. You do not have to follow them exactly, but they are included to help you think through the steps."
   ]
  },
  {
   "cell_type": "code",
   "execution_count": 1,
   "metadata": {
    "scrolled": true
   },
   "outputs": [],
   "source": [
    "# Dependencies and Setup\n",
    "import matplotlib.pyplot as plt\n",
    "import pandas as pd\n",
    "import numpy as np\n",
    "import requests\n",
    "import time\n",
    "from scipy.stats import linregress\n",
    "\n",
    "# Import API key\n",
    "from api_keys import weather_api_key\n",
    "\n",
    "# Incorporated citipy to determine city based on latitude and longitude\n",
    "from citipy import citipy\n",
    "\n",
    "# Output File (CSV)\n",
    "output_data_file = \"output_data/cities.csv\"\n",
    "\n",
    "# Range of latitudes and longitudes\n",
    "lat_range = (-90, 90)\n",
    "lng_range = (-180, 180)\n"
   ]
  },
  {
   "cell_type": "markdown",
   "metadata": {},
   "source": [
    "## Generate Cities List"
   ]
  },
  {
   "cell_type": "code",
   "execution_count": 2,
   "metadata": {},
   "outputs": [
    {
     "data": {
      "text/plain": [
       "617"
      ]
     },
     "execution_count": 2,
     "metadata": {},
     "output_type": "execute_result"
    }
   ],
   "source": [
    "# List for holding lat_lngs and cities\n",
    "lat_lngs = []\n",
    "cities = []\n",
    "\n",
    "# Create a set of random lat and lng combinations\n",
    "lats = np.random.uniform(lat_range[0], lat_range[1], size=1500)\n",
    "lngs = np.random.uniform(lng_range[0], lng_range[1], size=1500)\n",
    "lat_lngs = zip(lats, lngs)\n",
    "\n",
    "# Identify nearest city for each lat, lng combination\n",
    "for lat_lng in lat_lngs:\n",
    "    city = citipy.nearest_city(lat_lng[0], lat_lng[1]).city_name\n",
    "    \n",
    "    # If the city is unique, then add it to a our cities list\n",
    "    if city not in cities:\n",
    "        cities.append(city)\n",
    "\n",
    "# Print the city count to confirm sufficient count\n",
    "len(cities)"
   ]
  },
  {
   "cell_type": "markdown",
   "metadata": {},
   "source": [
    "### Perform API Calls\n",
    "* Perform a weather check on each city using a series of successive API calls.\n",
    "* Include a print log of each city as it'sbeing processed (with the city number and city name).\n"
   ]
  },
  {
   "cell_type": "code",
   "execution_count": 3,
   "metadata": {
    "scrolled": true
   },
   "outputs": [],
   "source": [
    "# Set empty list to store data\n",
    "city2 = []\n",
    "lat = []\n",
    "lng = []\n",
    "max_temp = []\n",
    "humidity = []\n",
    "cloudiness = []\n",
    "windspeed = []\n",
    "date = []"
   ]
  },
  {
   "cell_type": "code",
   "execution_count": 4,
   "metadata": {},
   "outputs": [],
   "source": [
    "# Set vatiable to process data \n",
    "record = 0\n",
    "set_key = 1"
   ]
  },
  {
   "cell_type": "code",
   "execution_count": 5,
   "metadata": {},
   "outputs": [],
   "source": [
    "# Create search query \n",
    "\n",
    "url = 'https://api.openweathermap.org/data/2.5/weather?'\n",
    "units = 'imperial'\n",
    "query_url = f'{url}appid={weather_api_key}&units={units}&q='"
   ]
  },
  {
   "cell_type": "code",
   "execution_count": 6,
   "metadata": {},
   "outputs": [
    {
     "name": "stdout",
     "output_type": "stream",
     "text": [
      "Beginning Data Retrieval\n",
      "-----------------------------\n",
      "Processing Record 1 of Set 1 | bredasdorp\n",
      "Processing Record 2 of Set 1 | airai\n",
      "City not found. Skipping...\n",
      "Processing Record 3 of Set 1 | sawtell\n",
      "Processing Record 4 of Set 1 | ishigaki\n",
      "Processing Record 5 of Set 1 | thompson\n",
      "Processing Record 6 of Set 1 | belmonte\n",
      "Processing Record 7 of Set 1 | diplo\n",
      "Processing Record 8 of Set 1 | samarai\n",
      "City not found. Skipping...\n",
      "Processing Record 9 of Set 1 | yumen\n",
      "Processing Record 10 of Set 1 | port blair\n",
      "Processing Record 11 of Set 1 | bengkulu\n",
      "Processing Record 12 of Set 1 | billings\n",
      "Processing Record 13 of Set 1 | busselton\n",
      "Processing Record 14 of Set 1 | maracacume\n",
      "Processing Record 15 of Set 1 | lerwick\n",
      "Processing Record 16 of Set 1 | barrow\n",
      "Processing Record 17 of Set 1 | rikitea\n",
      "Processing Record 18 of Set 1 | hithadhoo\n",
      "Processing Record 19 of Set 1 | puerto ayora\n",
      "Processing Record 20 of Set 1 | baykit\n",
      "City not found. Skipping...\n",
      "Processing Record 21 of Set 1 | tuatapere\n",
      "City not found. Skipping...\n",
      "Processing Record 22 of Set 1 | bluff\n",
      "Processing Record 23 of Set 1 | georgetown\n",
      "Processing Record 24 of Set 1 | chapada dos guimaraes\n",
      "City not found. Skipping...\n",
      "Processing Record 25 of Set 1 | mataura\n",
      "Processing Record 26 of Set 1 | upernavik\n",
      "City not found. Skipping...\n",
      "Processing Record 27 of Set 1 | mezen\n",
      "Processing Record 28 of Set 1 | new norfolk\n",
      "Processing Record 29 of Set 1 | ilulissat\n",
      "Processing Record 30 of Set 1 | pevek\n",
      "Processing Record 31 of Set 1 | atuona\n",
      "Processing Record 32 of Set 1 | yerbogachen\n",
      "Processing Record 33 of Set 1 | adre\n",
      "Processing Record 34 of Set 1 | albany\n",
      "Processing Record 35 of Set 1 | margate\n",
      "Processing Record 36 of Set 1 | klaksvik\n",
      "Processing Record 37 of Set 1 | east london\n",
      "Processing Record 38 of Set 1 | chopovychi\n",
      "Processing Record 39 of Set 1 | pacific grove\n",
      "Processing Record 40 of Set 1 | beira\n",
      "Processing Record 41 of Set 1 | kruisfontein\n",
      "Processing Record 42 of Set 1 | sanghar\n",
      "City not found. Skipping...\n",
      "Processing Record 43 of Set 1 | bandarbeyla\n",
      "Processing Record 44 of Set 1 | arraial do cabo\n",
      "Processing Record 45 of Set 1 | naze\n",
      "Processing Record 46 of Set 1 | bar\n",
      "City not found. Skipping...\n",
      "Processing Record 47 of Set 1 | kodiak\n",
      "Processing Record 48 of Set 1 | upington\n",
      "Processing Record 49 of Set 1 | khasan\n",
      "Processing Record 1 of Set 2 | shieli\n",
      "Processing Record 2 of Set 2 | high rock\n",
      "Processing Record 3 of Set 2 | riyadh\n",
      "Processing Record 4 of Set 2 | vardo\n",
      "Processing Record 5 of Set 2 | avarua\n",
      "Processing Record 6 of Set 2 | ust-maya\n",
      "Processing Record 7 of Set 2 | hailey\n",
      "Processing Record 8 of Set 2 | jamestown\n",
      "Processing Record 9 of Set 2 | luleburgaz\n",
      "Processing Record 10 of Set 2 | ancud\n",
      "Processing Record 11 of Set 2 | ushuaia\n",
      "Processing Record 12 of Set 2 | tarbes\n",
      "Processing Record 13 of Set 2 | sao filipe\n",
      "Processing Record 14 of Set 2 | lakatoro\n",
      "City not found. Skipping...\n",
      "Processing Record 15 of Set 2 | esperance\n",
      "Processing Record 16 of Set 2 | ponta do sol\n",
      "Processing Record 17 of Set 2 | caravelas\n",
      "Processing Record 18 of Set 2 | porto walter\n",
      "Processing Record 19 of Set 2 | tsaratanana\n",
      "Processing Record 20 of Set 2 | grand gaube\n",
      "Processing Record 21 of Set 2 | tuktoyaktuk\n",
      "Processing Record 22 of Set 2 | chuy\n",
      "Processing Record 23 of Set 2 | nikolskoye\n",
      "Processing Record 24 of Set 2 | saint-philippe\n",
      "City not found. Skipping...\n",
      "Processing Record 25 of Set 2 | neiafu\n",
      "Processing Record 26 of Set 2 | salalah\n",
      "Processing Record 27 of Set 2 | khatanga\n",
      "Processing Record 28 of Set 2 | matay\n",
      "City not found. Skipping...\n",
      "Processing Record 29 of Set 2 | vila franca do campo\n",
      "City not found. Skipping...\n",
      "Processing Record 30 of Set 2 | hermanus\n",
      "Processing Record 31 of Set 2 | makokou\n",
      "Processing Record 32 of Set 2 | kapaa\n",
      "Processing Record 33 of Set 2 | namatanai\n",
      "Processing Record 34 of Set 2 | acapulco\n",
      "Processing Record 35 of Set 2 | novyy yarychiv\n",
      "Processing Record 36 of Set 2 | mahebourg\n",
      "Processing Record 37 of Set 2 | kozhanka\n",
      "Processing Record 38 of Set 2 | pochutla\n",
      "Processing Record 39 of Set 2 | yangambi\n",
      "Processing Record 40 of Set 2 | high level\n",
      "Processing Record 41 of Set 2 | akonolinga\n",
      "Processing Record 42 of Set 2 | leningradskiy\n",
      "Processing Record 43 of Set 2 | saint-augustin\n",
      "Processing Record 44 of Set 2 | tigil\n",
      "Processing Record 45 of Set 2 | norrtalje\n",
      "Processing Record 46 of Set 2 | bubaque\n",
      "Processing Record 47 of Set 2 | phalaborwa\n",
      "Processing Record 48 of Set 2 | tasiilaq\n",
      "Processing Record 49 of Set 2 | torbay\n",
      "Processing Record 1 of Set 3 | iskateley\n",
      "Processing Record 2 of Set 3 | pulandian\n",
      "Processing Record 3 of Set 3 | mareeba\n",
      "Processing Record 4 of Set 3 | pisco\n",
      "Processing Record 5 of Set 3 | ojinaga\n",
      "Processing Record 6 of Set 3 | boyolangu\n",
      "Processing Record 7 of Set 3 | katsuura\n",
      "Processing Record 8 of Set 3 | lebu\n",
      "Processing Record 9 of Set 3 | qaanaaq\n",
      "Processing Record 10 of Set 3 | yar-sale\n",
      "Processing Record 11 of Set 3 | kavieng\n",
      "Processing Record 12 of Set 3 | missoula\n",
      "Processing Record 13 of Set 3 | dudinka\n",
      "Processing Record 14 of Set 3 | kisoro\n",
      "Processing Record 15 of Set 3 | asau\n",
      "Processing Record 16 of Set 3 | aurora\n",
      "Processing Record 17 of Set 3 | mar del plata\n",
      "Processing Record 18 of Set 3 | san rafael\n",
      "Processing Record 19 of Set 3 | yellowknife\n",
      "City not found. Skipping...\n",
      "Processing Record 20 of Set 3 | rocha\n",
      "City not found. Skipping...\n",
      "Processing Record 21 of Set 3 | deputatskiy\n",
      "City not found. Skipping...\n",
      "Processing Record 22 of Set 3 | katsina\n",
      "Processing Record 23 of Set 3 | zhigalovo\n",
      "Processing Record 24 of Set 3 | isangel\n",
      "Processing Record 25 of Set 3 | castro\n",
      "Processing Record 26 of Set 3 | severo-kurilsk\n",
      "Processing Record 27 of Set 3 | longkou\n",
      "Processing Record 28 of Set 3 | fortuna\n",
      "Processing Record 29 of Set 3 | gamba\n",
      "Processing Record 30 of Set 3 | broken hill\n",
      "Processing Record 31 of Set 3 | tuy hoa\n",
      "City not found. Skipping...\n",
      "Processing Record 32 of Set 3 | atar\n",
      "Processing Record 33 of Set 3 | goshen\n",
      "Processing Record 34 of Set 3 | hilo\n",
      "Processing Record 35 of Set 3 | saint-louis\n",
      "Processing Record 36 of Set 3 | vaini\n",
      "Processing Record 37 of Set 3 | tiksi\n",
      "City not found. Skipping...\n",
      "Processing Record 38 of Set 3 | korla\n",
      "Processing Record 39 of Set 3 | evensk\n",
      "Processing Record 40 of Set 3 | mogadishu\n",
      "Processing Record 41 of Set 3 | butaritari\n",
      "Processing Record 42 of Set 3 | mugur-aksy\n",
      "Processing Record 43 of Set 3 | narsaq\n",
      "Processing Record 44 of Set 3 | port elizabeth\n",
      "Processing Record 45 of Set 3 | talnakh\n",
      "Processing Record 46 of Set 3 | rantepao\n",
      "Processing Record 47 of Set 3 | miri\n",
      "Processing Record 48 of Set 3 | port lincoln\n",
      "Processing Record 49 of Set 3 | mount isa\n",
      "Processing Record 1 of Set 4 | tucumcari\n",
      "Processing Record 2 of Set 4 | taoudenni\n",
      "Processing Record 3 of Set 4 | chokurdakh\n",
      "Processing Record 4 of Set 4 | alyangula\n",
      "Processing Record 5 of Set 4 | dillon\n",
      "Processing Record 6 of Set 4 | santa cruz\n",
      "Processing Record 7 of Set 4 | mollendo\n",
      "Processing Record 8 of Set 4 | asbestos\n",
      "Processing Record 9 of Set 4 | puksoozero\n",
      "Processing Record 10 of Set 4 | port augusta\n",
      "Processing Record 11 of Set 4 | vao\n",
      "Processing Record 12 of Set 4 | belyy yar\n",
      "Processing Record 13 of Set 4 | arkhara\n",
      "Processing Record 14 of Set 4 | carnarvon\n",
      "Processing Record 15 of Set 4 | padang\n",
      "Processing Record 16 of Set 4 | brasilia\n",
      "Processing Record 17 of Set 4 | henties bay\n",
      "Processing Record 18 of Set 4 | kedrovyy\n",
      "Processing Record 19 of Set 4 | punta arenas\n",
      "Processing Record 20 of Set 4 | austin\n",
      "Processing Record 21 of Set 4 | codrington\n",
      "Processing Record 22 of Set 4 | port macquarie\n",
      "Processing Record 23 of Set 4 | aklavik\n",
      "Processing Record 24 of Set 4 | bereda\n",
      "Processing Record 25 of Set 4 | hobart\n",
      "Processing Record 26 of Set 4 | tilichiki\n",
      "Processing Record 27 of Set 4 | lagoa\n",
      "City not found. Skipping...\n",
      "Processing Record 28 of Set 4 | ponnani\n",
      "Processing Record 29 of Set 4 | thinadhoo\n",
      "Processing Record 30 of Set 4 | cherskiy\n",
      "Processing Record 31 of Set 4 | benito juarez\n",
      "City not found. Skipping...\n",
      "Processing Record 32 of Set 4 | cape town\n",
      "Processing Record 33 of Set 4 | kaitangata\n",
      "Processing Record 34 of Set 4 | aberdeen\n",
      "Processing Record 35 of Set 4 | kjollefjord\n",
      "Processing Record 36 of Set 4 | ayan\n",
      "Processing Record 37 of Set 4 | novichikha\n",
      "Processing Record 38 of Set 4 | mudu\n",
      "Processing Record 39 of Set 4 | faanui\n",
      "Processing Record 40 of Set 4 | camargo\n",
      "Processing Record 41 of Set 4 | oromocto\n"
     ]
    },
    {
     "name": "stdout",
     "output_type": "stream",
     "text": [
      "Processing Record 42 of Set 4 | tisovec\n",
      "Processing Record 43 of Set 4 | launceston\n",
      "Processing Record 44 of Set 4 | matagami\n",
      "Processing Record 45 of Set 4 | kahului\n",
      "Processing Record 46 of Set 4 | vila velha\n",
      "Processing Record 47 of Set 4 | rioja\n",
      "City not found. Skipping...\n",
      "Processing Record 48 of Set 4 | iqaluit\n",
      "City not found. Skipping...\n",
      "Processing Record 49 of Set 4 | singaraja\n",
      "Processing Record 1 of Set 5 | wuda\n",
      "Processing Record 2 of Set 5 | eureka\n",
      "City not found. Skipping...\n",
      "Processing Record 3 of Set 5 | dhule\n",
      "Processing Record 4 of Set 5 | jiuquan\n",
      "Processing Record 5 of Set 5 | ponta delgada\n",
      "Processing Record 6 of Set 5 | ranot\n",
      "City not found. Skipping...\n",
      "Processing Record 7 of Set 5 | danielskuil\n",
      "Processing Record 8 of Set 5 | vostok\n",
      "Processing Record 9 of Set 5 | lata\n",
      "Processing Record 10 of Set 5 | gazanjyk\n",
      "Processing Record 11 of Set 5 | voi\n",
      "City not found. Skipping...\n",
      "Processing Record 12 of Set 5 | provideniya\n",
      "Processing Record 13 of Set 5 | dennery\n",
      "Processing Record 14 of Set 5 | hasaki\n",
      "Processing Record 15 of Set 5 | tomatlan\n",
      "Processing Record 16 of Set 5 | port alfred\n",
      "Processing Record 17 of Set 5 | yarmouth\n",
      "Processing Record 18 of Set 5 | zhangye\n",
      "Processing Record 19 of Set 5 | holoby\n",
      "Processing Record 20 of Set 5 | saint george\n",
      "Processing Record 21 of Set 5 | clyde river\n",
      "Processing Record 22 of Set 5 | kidal\n",
      "Processing Record 23 of Set 5 | carutapera\n",
      "City not found. Skipping...\n",
      "Processing Record 24 of Set 5 | nemuro\n",
      "Processing Record 25 of Set 5 | pundaguitan\n",
      "Processing Record 26 of Set 5 | zelenogradsk\n",
      "Processing Record 27 of Set 5 | gbadolite\n",
      "Processing Record 28 of Set 5 | lavrentiya\n",
      "Processing Record 29 of Set 5 | lompoc\n",
      "Processing Record 30 of Set 5 | vestmannaeyjar\n",
      "Processing Record 31 of Set 5 | bambous virieux\n",
      "Processing Record 32 of Set 5 | maldonado\n",
      "Processing Record 33 of Set 5 | lodja\n",
      "Processing Record 34 of Set 5 | karwar\n",
      "Processing Record 35 of Set 5 | mukhen\n",
      "Processing Record 36 of Set 5 | teguldet\n",
      "Processing Record 37 of Set 5 | egvekinot\n",
      "Processing Record 38 of Set 5 | ashqelon\n",
      "Processing Record 39 of Set 5 | san quintin\n",
      "Processing Record 40 of Set 5 | san andres\n",
      "Processing Record 41 of Set 5 | dezhou\n",
      "Processing Record 42 of Set 5 | burnie\n",
      "Processing Record 43 of Set 5 | urengoy\n",
      "Processing Record 44 of Set 5 | yulara\n",
      "Processing Record 45 of Set 5 | kinna\n",
      "Processing Record 46 of Set 5 | pindiga\n",
      "Processing Record 47 of Set 5 | cappelle-la-grande\n",
      "Processing Record 48 of Set 5 | vanderhoof\n",
      "Processing Record 49 of Set 5 | mehamn\n",
      "Processing Record 1 of Set 6 | hanting\n",
      "Processing Record 2 of Set 6 | tlalnepantla\n",
      "Processing Record 3 of Set 6 | dubreka\n",
      "Processing Record 4 of Set 6 | solnechnyy\n",
      "Processing Record 5 of Set 6 | tsiroanomandidy\n",
      "Processing Record 6 of Set 6 | cidreira\n",
      "Processing Record 7 of Set 6 | quatre cocos\n",
      "Processing Record 8 of Set 6 | ribeira grande\n",
      "Processing Record 9 of Set 6 | cabo san lucas\n",
      "Processing Record 10 of Set 6 | svetlogorsk\n",
      "Processing Record 11 of Set 6 | chililabombwe\n",
      "Processing Record 12 of Set 6 | geraldton\n",
      "Processing Record 13 of Set 6 | lima\n",
      "Processing Record 14 of Set 6 | victoria\n",
      "Processing Record 15 of Set 6 | nalut\n",
      "Processing Record 16 of Set 6 | elizabeth city\n",
      "Processing Record 17 of Set 6 | portland\n",
      "Processing Record 18 of Set 6 | ust-kuyga\n",
      "Processing Record 19 of Set 6 | hobyo\n",
      "Processing Record 20 of Set 6 | lazaro cardenas\n",
      "Processing Record 21 of Set 6 | adrar\n",
      "Processing Record 22 of Set 6 | estelle\n",
      "Processing Record 23 of Set 6 | hofn\n",
      "Processing Record 24 of Set 6 | flinders\n",
      "Processing Record 25 of Set 6 | fairbanks\n",
      "Processing Record 26 of Set 6 | ambulu\n",
      "Processing Record 27 of Set 6 | charters towers\n",
      "Processing Record 28 of Set 6 | la libertad\n",
      "Processing Record 29 of Set 6 | yanam\n",
      "City not found. Skipping...\n",
      "Processing Record 30 of Set 6 | nampa\n",
      "Processing Record 31 of Set 6 | sur\n",
      "Processing Record 32 of Set 6 | olafsvik\n",
      "Processing Record 33 of Set 6 | iranshahr\n",
      "Processing Record 34 of Set 6 | westport\n",
      "Processing Record 35 of Set 6 | abadan\n",
      "Processing Record 36 of Set 6 | shingu\n",
      "Processing Record 37 of Set 6 | kawalu\n",
      "Processing Record 38 of Set 6 | grand-santi\n",
      "Processing Record 39 of Set 6 | sola\n",
      "Processing Record 40 of Set 6 | metro\n",
      "Processing Record 41 of Set 6 | phichit\n",
      "City not found. Skipping...\n",
      "Processing Record 42 of Set 6 | eyl\n",
      "City not found. Skipping...\n",
      "Processing Record 43 of Set 6 | dingle\n",
      "Processing Record 44 of Set 6 | saskylakh\n",
      "Processing Record 45 of Set 6 | araceli\n",
      "Processing Record 46 of Set 6 | hami\n",
      "Processing Record 47 of Set 6 | cap malheureux\n",
      "Processing Record 48 of Set 6 | sandakan\n",
      "Processing Record 49 of Set 6 | roma\n",
      "Processing Record 1 of Set 7 | teahupoo\n",
      "Processing Record 2 of Set 7 | hervey bay\n",
      "Processing Record 3 of Set 7 | hamilton\n",
      "Processing Record 4 of Set 7 | severodvinsk\n",
      "Processing Record 5 of Set 7 | mandalgovi\n",
      "Processing Record 6 of Set 7 | bilibino\n",
      "Processing Record 7 of Set 7 | butterworth\n",
      "Processing Record 8 of Set 7 | boden\n",
      "Processing Record 9 of Set 7 | nacala\n",
      "City not found. Skipping...\n",
      "Processing Record 10 of Set 7 | dong hoi\n",
      "Processing Record 11 of Set 7 | sao joao da barra\n",
      "Processing Record 12 of Set 7 | maposeni\n",
      "Processing Record 13 of Set 7 | segezha\n",
      "Processing Record 14 of Set 7 | real\n",
      "City not found. Skipping...\n",
      "Processing Record 15 of Set 7 | port hedland\n",
      "Processing Record 16 of Set 7 | bathsheba\n",
      "Processing Record 17 of Set 7 | saint-francois\n",
      "Processing Record 18 of Set 7 | banda aceh\n",
      "Processing Record 19 of Set 7 | bo phloi\n",
      "Processing Record 20 of Set 7 | broome\n",
      "Processing Record 21 of Set 7 | hay river\n",
      "Processing Record 22 of Set 7 | nelson bay\n",
      "Processing Record 23 of Set 7 | port hardy\n",
      "Processing Record 24 of Set 7 | vanino\n",
      "City not found. Skipping...\n",
      "Processing Record 25 of Set 7 | gumdag\n",
      "Processing Record 26 of Set 7 | kibaya\n",
      "Processing Record 27 of Set 7 | san isidro\n",
      "Processing Record 28 of Set 7 | keti bandar\n",
      "Processing Record 29 of Set 7 | rozivka\n",
      "Processing Record 30 of Set 7 | mount gambier\n",
      "Processing Record 31 of Set 7 | karera\n",
      "Processing Record 32 of Set 7 | pangnirtung\n",
      "City not found. Skipping...\n",
      "Processing Record 33 of Set 7 | lasa\n",
      "Processing Record 34 of Set 7 | chernyshevskiy\n",
      "Processing Record 35 of Set 7 | saldanha\n",
      "Processing Record 36 of Set 7 | grants\n",
      "Processing Record 37 of Set 7 | vila do maio\n",
      "Processing Record 38 of Set 7 | big rapids\n",
      "Processing Record 39 of Set 7 | usta muhammad\n",
      "Processing Record 40 of Set 7 | barwadih\n",
      "Processing Record 41 of Set 7 | santarem\n",
      "City not found. Skipping...\n",
      "Processing Record 42 of Set 7 | sao joao da ponte\n",
      "Processing Record 43 of Set 7 | mikhaylovka\n",
      "Processing Record 44 of Set 7 | muncar\n",
      "Processing Record 45 of Set 7 | dikson\n",
      "Processing Record 46 of Set 7 | dedza\n",
      "Processing Record 47 of Set 7 | avera\n",
      "Processing Record 48 of Set 7 | kozulka\n",
      "Processing Record 49 of Set 7 | rognan\n",
      "City not found. Skipping...\n",
      "Processing Record 1 of Set 8 | parma\n",
      "Processing Record 2 of Set 8 | arcata\n",
      "Processing Record 3 of Set 8 | basco\n",
      "City not found. Skipping...\n",
      "Processing Record 4 of Set 8 | abu kamal\n",
      "Processing Record 5 of Set 8 | kavaratti\n",
      "Processing Record 6 of Set 8 | axim\n",
      "Processing Record 7 of Set 8 | laplace\n",
      "Processing Record 8 of Set 8 | praia\n",
      "Processing Record 9 of Set 8 | penzance\n",
      "Processing Record 10 of Set 8 | auriflama\n",
      "Processing Record 11 of Set 8 | sorland\n",
      "Processing Record 12 of Set 8 | esperantinopolis\n",
      "Processing Record 13 of Set 8 | bara\n",
      "Processing Record 14 of Set 8 | jacmel\n",
      "Processing Record 15 of Set 8 | dhidhdhoo\n",
      "Processing Record 16 of Set 8 | aswan\n",
      "Processing Record 17 of Set 8 | uyskoye\n",
      "City not found. Skipping...\n",
      "Processing Record 18 of Set 8 | bam\n",
      "Processing Record 19 of Set 8 | praia da vitoria\n",
      "Processing Record 20 of Set 8 | shenzhen\n",
      "Processing Record 21 of Set 8 | sarlat-la-caneda\n",
      "Processing Record 22 of Set 8 | souillac\n",
      "Processing Record 23 of Set 8 | troitsko-pechorsk\n",
      "Processing Record 24 of Set 8 | indian head\n",
      "Processing Record 25 of Set 8 | curup\n",
      "Processing Record 26 of Set 8 | murgab\n",
      "Processing Record 27 of Set 8 | itarema\n",
      "Processing Record 28 of Set 8 | san cristobal\n",
      "Processing Record 29 of Set 8 | dandong\n",
      "Processing Record 30 of Set 8 | rosa zarate\n",
      "Processing Record 31 of Set 8 | suntar\n",
      "Processing Record 32 of Set 8 | lorengau\n",
      "Processing Record 33 of Set 8 | macau\n",
      "Processing Record 34 of Set 8 | lancaster\n",
      "City not found. Skipping...\n"
     ]
    },
    {
     "name": "stdout",
     "output_type": "stream",
     "text": [
      "Processing Record 35 of Set 8 | baghdad\n",
      "Processing Record 36 of Set 8 | trairi\n",
      "Processing Record 37 of Set 8 | norman wells\n",
      "City not found. Skipping...\n",
      "Processing Record 38 of Set 8 | poum\n",
      "Processing Record 39 of Set 8 | nokaneng\n",
      "Processing Record 40 of Set 8 | stornoway\n",
      "Processing Record 41 of Set 8 | phonhong\n",
      "Processing Record 42 of Set 8 | mao\n",
      "Processing Record 43 of Set 8 | hobbs\n",
      "Processing Record 44 of Set 8 | mayo\n",
      "Processing Record 45 of Set 8 | paamiut\n",
      "Processing Record 46 of Set 8 | tessalit\n",
      "Processing Record 47 of Set 8 | goderich\n",
      "Processing Record 48 of Set 8 | mantua\n",
      "City not found. Skipping...\n",
      "Processing Record 49 of Set 8 | ambilobe\n",
      "Processing Record 1 of Set 9 | ocampo\n",
      "Processing Record 2 of Set 9 | kachug\n",
      "Processing Record 3 of Set 9 | garowe\n",
      "Processing Record 4 of Set 9 | sohag\n",
      "Processing Record 5 of Set 9 | ladario\n",
      "Processing Record 6 of Set 9 | machali\n",
      "Processing Record 7 of Set 9 | andenes\n",
      "Processing Record 8 of Set 9 | hwange\n",
      "Processing Record 9 of Set 9 | aktau\n",
      "Processing Record 10 of Set 9 | saint anthony\n",
      "City not found. Skipping...\n",
      "Processing Record 11 of Set 9 | kigoma\n",
      "Processing Record 12 of Set 9 | fort nelson\n",
      "Processing Record 13 of Set 9 | sibolga\n",
      "Processing Record 14 of Set 9 | alofi\n",
      "Processing Record 15 of Set 9 | rundu\n",
      "Processing Record 16 of Set 9 | aleksandrovskiy zavod\n",
      "Processing Record 17 of Set 9 | walvis bay\n",
      "Processing Record 18 of Set 9 | noumea\n",
      "Processing Record 19 of Set 9 | mindelo\n",
      "Processing Record 20 of Set 9 | bacolod\n",
      "Processing Record 21 of Set 9 | gambela\n",
      "Processing Record 22 of Set 9 | kropotkin\n",
      "Processing Record 23 of Set 9 | ormara\n",
      "Processing Record 24 of Set 9 | chifeng\n",
      "Processing Record 25 of Set 9 | severo-yeniseyskiy\n",
      "Processing Record 26 of Set 9 | central point\n",
      "Processing Record 27 of Set 9 | skelmersdale\n",
      "Processing Record 28 of Set 9 | cabra\n",
      "Processing Record 29 of Set 9 | salinas\n",
      "Processing Record 30 of Set 9 | chinhoyi\n",
      "Processing Record 31 of Set 9 | tignere\n",
      "Processing Record 32 of Set 9 | faya\n",
      "Processing Record 33 of Set 9 | udachnyy\n",
      "Processing Record 34 of Set 9 | mananara\n",
      "Processing Record 35 of Set 9 | havre-saint-pierre\n",
      "Processing Record 36 of Set 9 | bikaner\n",
      "Processing Record 37 of Set 9 | belen\n",
      "Processing Record 38 of Set 9 | krasnyy kholm\n",
      "City not found. Skipping...\n",
      "Processing Record 39 of Set 9 | simcoe\n",
      "Processing Record 40 of Set 9 | longyearbyen\n",
      "Processing Record 41 of Set 9 | serik\n",
      "Processing Record 42 of Set 9 | buraydah\n",
      "Processing Record 43 of Set 9 | zyryanka\n",
      "Processing Record 44 of Set 9 | indi\n",
      "Processing Record 45 of Set 9 | yudong\n",
      "Processing Record 46 of Set 9 | nanga eboko\n",
      "Processing Record 47 of Set 9 | sotouboua\n",
      "Processing Record 48 of Set 9 | pajapan\n",
      "Processing Record 49 of Set 9 | quang ngai\n",
      "Processing Record 1 of Set 10 | opuwo\n",
      "Processing Record 2 of Set 10 | tabas\n",
      "Processing Record 3 of Set 10 | lynchburg\n",
      "Processing Record 4 of Set 10 | biak\n",
      "Processing Record 5 of Set 10 | ouidah\n",
      "Processing Record 6 of Set 10 | alice springs\n",
      "Processing Record 7 of Set 10 | puerto salgar\n",
      "Processing Record 8 of Set 10 | san antonio\n",
      "Processing Record 9 of Set 10 | liseleje\n",
      "Processing Record 10 of Set 10 | laguna\n",
      "Processing Record 11 of Set 10 | san patricio\n",
      "Processing Record 12 of Set 10 | akdepe\n",
      "Processing Record 13 of Set 10 | tarakan\n",
      "Processing Record 14 of Set 10 | khandyga\n",
      "Processing Record 15 of Set 10 | telimele\n",
      "Processing Record 16 of Set 10 | zaragoza\n",
      "Processing Record 17 of Set 10 | vanimo\n",
      "City not found. Skipping...\n",
      "Processing Record 18 of Set 10 | trapani\n",
      "Processing Record 19 of Set 10 | corinto\n",
      "Processing Record 20 of Set 10 | zykovo\n",
      "Processing Record 21 of Set 10 | batangafo\n",
      "Processing Record 22 of Set 10 | doha\n",
      "Processing Record 23 of Set 10 | bethel\n",
      "Processing Record 24 of Set 10 | zonguldak\n",
      "City not found. Skipping...\n",
      "Processing Record 25 of Set 10 | bull savanna\n",
      "Processing Record 26 of Set 10 | sampit\n",
      "Processing Record 27 of Set 10 | bharatpur\n",
      "Processing Record 28 of Set 10 | raudeberg\n",
      "Processing Record 29 of Set 10 | tromso\n",
      "Processing Record 30 of Set 10 | derzhavinsk\n",
      "Processing Record 31 of Set 10 | catamarca\n",
      "Processing Record 32 of Set 10 | dakar\n",
      "Processing Record 33 of Set 10 | kysyl-syr\n",
      "Processing Record 34 of Set 10 | langxiang\n",
      "Processing Record 35 of Set 10 | dera bugti\n",
      "Processing Record 36 of Set 10 | arecibo\n",
      "Processing Record 37 of Set 10 | mana\n",
      "Processing Record 38 of Set 10 | svetlaya\n",
      "Processing Record 39 of Set 10 | juneau\n",
      "Processing Record 40 of Set 10 | snezhnogorsk\n",
      "Processing Record 41 of Set 10 | itoman\n",
      "Processing Record 42 of Set 10 | isabela\n",
      "Processing Record 43 of Set 10 | irbeyskoye\n",
      "City not found. Skipping...\n",
      "Processing Record 44 of Set 10 | rock sound\n",
      "Processing Record 45 of Set 10 | plaridel\n",
      "Processing Record 46 of Set 10 | catabola\n",
      "Processing Record 47 of Set 10 | inuvik\n",
      "Processing Record 48 of Set 10 | oranjemund\n",
      "Processing Record 49 of Set 10 | ahipara\n",
      "Processing Record 1 of Set 11 | kirakira\n",
      "Processing Record 2 of Set 11 | ugoofaaru\n",
      "Processing Record 3 of Set 11 | viedma\n",
      "Processing Record 4 of Set 11 | saint-joseph\n",
      "Processing Record 5 of Set 11 | perth\n",
      "Processing Record 6 of Set 11 | tutoia\n",
      "Processing Record 7 of Set 11 | kaeo\n",
      "Processing Record 8 of Set 11 | novorzhev\n",
      "Processing Record 9 of Set 11 | ciudad bolivar\n",
      "Processing Record 10 of Set 11 | kudirkos naumiestis\n",
      "Processing Record 11 of Set 11 | corrales\n",
      "Processing Record 12 of Set 11 | ust-kan\n",
      "Processing Record 13 of Set 11 | nome\n",
      "Processing Record 14 of Set 11 | oistins\n",
      "Processing Record 15 of Set 11 | maneadero\n",
      "Processing Record 16 of Set 11 | irbit\n",
      "Processing Record 17 of Set 11 | cozumel\n",
      "City not found. Skipping...\n",
      "Processing Record 18 of Set 11 | loei\n",
      "Processing Record 19 of Set 11 | ketchikan\n",
      "Processing Record 20 of Set 11 | puchezh\n",
      "Processing Record 21 of Set 11 | jeremie\n",
      "Processing Record 22 of Set 11 | hohhot\n",
      "Processing Record 23 of Set 11 | medeiros neto\n",
      "Processing Record 24 of Set 11 | pangody\n",
      "Processing Record 25 of Set 11 | kununurra\n",
      "Processing Record 26 of Set 11 | barra dos coqueiros\n",
      "City not found. Skipping...\n",
      "Processing Record 27 of Set 11 | verkhoyansk\n",
      "Processing Record 28 of Set 11 | nishihara\n",
      "Processing Record 29 of Set 11 | diego de almagro\n",
      "Processing Record 30 of Set 11 | lulea\n",
      "Processing Record 31 of Set 11 | tual\n",
      "Processing Record 32 of Set 11 | teguise\n",
      "Processing Record 33 of Set 11 | custodia\n",
      "Processing Record 34 of Set 11 | minsk\n",
      "Processing Record 35 of Set 11 | borba\n",
      "City not found. Skipping...\n",
      "Processing Record 36 of Set 11 | road town\n",
      "Processing Record 37 of Set 11 | tianpeng\n",
      "Processing Record 38 of Set 11 | atambua\n",
      "Processing Record 39 of Set 11 | bafra\n",
      "Processing Record 40 of Set 11 | catuday\n",
      "Processing Record 41 of Set 11 | nefteyugansk\n",
      "Processing Record 42 of Set 11 | comodoro rivadavia\n",
      "Processing Record 43 of Set 11 | rawson\n",
      "Processing Record 44 of Set 11 | marzuq\n",
      "Processing Record 45 of Set 11 | porto novo\n",
      "Processing Record 46 of Set 11 | berlevag\n",
      "Processing Record 47 of Set 11 | verkhnevilyuysk\n",
      "Processing Record 48 of Set 11 | palu\n",
      "Processing Record 49 of Set 11 | chapais\n",
      "Processing Record 1 of Set 12 | beringovskiy\n",
      "Processing Record 2 of Set 12 | bonavista\n",
      "Processing Record 3 of Set 12 | birjand\n",
      "Processing Record 4 of Set 12 | atasu\n",
      "Processing Record 5 of Set 12 | el alto\n",
      "Processing Record 6 of Set 12 | chippewa falls\n",
      "Processing Record 7 of Set 12 | moree\n",
      "Processing Record 8 of Set 12 | dawei\n",
      "Processing Record 9 of Set 12 | paredon\n",
      "Processing Record 10 of Set 12 | ascension\n",
      "Processing Record 11 of Set 12 | nipawin\n",
      "City not found. Skipping...\n",
      "Processing Record 12 of Set 12 | arzgir\n",
      "Processing Record 13 of Set 12 | nioro\n",
      "Processing Record 14 of Set 12 | dwarka\n",
      "Processing Record 15 of Set 12 | nizhniy tsasuchey\n",
      "Processing Record 16 of Set 12 | abrau-dyurso\n",
      "Processing Record 17 of Set 12 | kuzhener\n",
      "Processing Record 18 of Set 12 | zemio\n",
      "Processing Record 19 of Set 12 | tingo maria\n",
      "Processing Record 20 of Set 12 | kloulklubed\n",
      "Processing Record 21 of Set 12 | nueve de julio\n",
      "Processing Record 22 of Set 12 | surt\n",
      "City not found. Skipping...\n",
      "Processing Record 23 of Set 12 | usinsk\n",
      "Processing Record 24 of Set 12 | ban nahin\n",
      "Processing Record 25 of Set 12 | susanville\n",
      "Processing Record 26 of Set 12 | anadyr\n",
      "City not found. Skipping...\n",
      "Processing Record 27 of Set 12 | harrison\n",
      "Processing Record 28 of Set 12 | oneonta\n",
      "-----------------------------\n",
      "Data Retrieval Complete\n",
      "-----------------------------\n"
     ]
    }
   ],
   "source": [
    "# Try to grab the data of cities if they are available \n",
    "print('Beginning Data Retrieval')\n",
    "print('-----------------------------')\n",
    "\n",
    "# For loop all the cities\n",
    "for city in cities:\n",
    "# Put the data in the empty lists     \n",
    "    try:\n",
    "        response = requests.get(query_url + city).json() \n",
    "        lat.append(response['coord']['lat'])\n",
    "        lng.append(response['coord']['lon'])\n",
    "        max_temp.append(response['main']['temp_max'])\n",
    "        humidity.append(response['main']['humidity'])\n",
    "        cloudiness.append(response['clouds']['all'])\n",
    "        windspeed.append(response['wind']['speed'])\n",
    "        date.append(response['dt'])\n",
    "        city2.append(city)\n",
    "\n",
    "# Print log of each city\n",
    "        if record > 48:\n",
    "            record = 1\n",
    "            set_key += 1\n",
    "            \n",
    "        else: \n",
    "            record += 1\n",
    "            \n",
    "        print(f'Processing Record {record} of Set {set_key} | {city}')\n",
    "    except:\n",
    "        print('City not found. Skipping...')\n",
    "print('-----------------------------')\n",
    "print('Data Retrieval Complete')\n",
    "print('-----------------------------')"
   ]
  },
  {
   "cell_type": "markdown",
   "metadata": {},
   "source": [
    "### Convert Raw Data to DataFrame\n",
    "* Export the city data into a .csv.\n",
    "* Display the DataFrame"
   ]
  },
  {
   "cell_type": "code",
   "execution_count": 7,
   "metadata": {},
   "outputs": [
    {
     "data": {
      "text/html": [
       "<div>\n",
       "<style scoped>\n",
       "    .dataframe tbody tr th:only-of-type {\n",
       "        vertical-align: middle;\n",
       "    }\n",
       "\n",
       "    .dataframe tbody tr th {\n",
       "        vertical-align: top;\n",
       "    }\n",
       "\n",
       "    .dataframe thead th {\n",
       "        text-align: right;\n",
       "    }\n",
       "</style>\n",
       "<table border=\"1\" class=\"dataframe\">\n",
       "  <thead>\n",
       "    <tr style=\"text-align: right;\">\n",
       "      <th></th>\n",
       "      <th>City</th>\n",
       "      <th>Lat</th>\n",
       "      <th>Lng</th>\n",
       "      <th>Max temp</th>\n",
       "      <th>Humidity</th>\n",
       "      <th>Cloudiness</th>\n",
       "      <th>Wind Speed</th>\n",
       "      <th>Date</th>\n",
       "    </tr>\n",
       "  </thead>\n",
       "  <tbody>\n",
       "    <tr>\n",
       "      <th>0</th>\n",
       "      <td>bredasdorp</td>\n",
       "      <td>-34.5322</td>\n",
       "      <td>20.0403</td>\n",
       "      <td>80.60</td>\n",
       "      <td>54</td>\n",
       "      <td>0</td>\n",
       "      <td>10.36</td>\n",
       "      <td>1612608561</td>\n",
       "    </tr>\n",
       "    <tr>\n",
       "      <th>1</th>\n",
       "      <td>airai</td>\n",
       "      <td>-8.9266</td>\n",
       "      <td>125.4092</td>\n",
       "      <td>62.47</td>\n",
       "      <td>94</td>\n",
       "      <td>100</td>\n",
       "      <td>1.79</td>\n",
       "      <td>1612608558</td>\n",
       "    </tr>\n",
       "    <tr>\n",
       "      <th>2</th>\n",
       "      <td>sawtell</td>\n",
       "      <td>-30.3833</td>\n",
       "      <td>153.1000</td>\n",
       "      <td>73.40</td>\n",
       "      <td>94</td>\n",
       "      <td>90</td>\n",
       "      <td>4.61</td>\n",
       "      <td>1612609027</td>\n",
       "    </tr>\n",
       "    <tr>\n",
       "      <th>3</th>\n",
       "      <td>ishigaki</td>\n",
       "      <td>24.3448</td>\n",
       "      <td>124.1572</td>\n",
       "      <td>68.00</td>\n",
       "      <td>77</td>\n",
       "      <td>20</td>\n",
       "      <td>3.44</td>\n",
       "      <td>1612609027</td>\n",
       "    </tr>\n",
       "    <tr>\n",
       "      <th>4</th>\n",
       "      <td>thompson</td>\n",
       "      <td>55.7435</td>\n",
       "      <td>-97.8558</td>\n",
       "      <td>-31.00</td>\n",
       "      <td>68</td>\n",
       "      <td>40</td>\n",
       "      <td>13.80</td>\n",
       "      <td>1612608571</td>\n",
       "    </tr>\n",
       "  </tbody>\n",
       "</table>\n",
       "</div>"
      ],
      "text/plain": [
       "         City      Lat       Lng  Max temp  Humidity  Cloudiness  Wind Speed  \\\n",
       "0  bredasdorp -34.5322   20.0403     80.60        54           0       10.36   \n",
       "1       airai  -8.9266  125.4092     62.47        94         100        1.79   \n",
       "2     sawtell -30.3833  153.1000     73.40        94          90        4.61   \n",
       "3    ishigaki  24.3448  124.1572     68.00        77          20        3.44   \n",
       "4    thompson  55.7435  -97.8558    -31.00        68          40       13.80   \n",
       "\n",
       "         Date  \n",
       "0  1612608561  \n",
       "1  1612608558  \n",
       "2  1612609027  \n",
       "3  1612609027  \n",
       "4  1612608571  "
      ]
     },
     "execution_count": 7,
     "metadata": {},
     "output_type": "execute_result"
    }
   ],
   "source": [
    "# Create dictionary of city data\n",
    "cities_data_dict={\n",
    "    'City': city2,\n",
    "    'Lat': lat,\n",
    "    'Lng': lng,\n",
    "    'Max temp': max_temp,\n",
    "    'Humidity': humidity,\n",
    "    'Cloudiness': cloudiness,\n",
    "    'Wind Speed': windspeed,\n",
    "    'Date': date\n",
    "}\n",
    "\n",
    "# Print the DataFrame\n",
    "city_df = pd.DataFrame(cities_data_dict)\n",
    "city_df.head()"
   ]
  },
  {
   "cell_type": "code",
   "execution_count": 8,
   "metadata": {},
   "outputs": [
    {
     "data": {
      "text/html": [
       "<div>\n",
       "<style scoped>\n",
       "    .dataframe tbody tr th:only-of-type {\n",
       "        vertical-align: middle;\n",
       "    }\n",
       "\n",
       "    .dataframe tbody tr th {\n",
       "        vertical-align: top;\n",
       "    }\n",
       "\n",
       "    .dataframe thead th {\n",
       "        text-align: right;\n",
       "    }\n",
       "</style>\n",
       "<table border=\"1\" class=\"dataframe\">\n",
       "  <thead>\n",
       "    <tr style=\"text-align: right;\">\n",
       "      <th></th>\n",
       "      <th>Lat</th>\n",
       "      <th>Lng</th>\n",
       "      <th>Max temp</th>\n",
       "      <th>Humidity</th>\n",
       "      <th>Cloudiness</th>\n",
       "      <th>Wind Speed</th>\n",
       "      <th>Date</th>\n",
       "    </tr>\n",
       "  </thead>\n",
       "  <tbody>\n",
       "    <tr>\n",
       "      <th>count</th>\n",
       "      <td>567.000000</td>\n",
       "      <td>567.000000</td>\n",
       "      <td>567.000000</td>\n",
       "      <td>567.000000</td>\n",
       "      <td>567.000000</td>\n",
       "      <td>567.000000</td>\n",
       "      <td>5.670000e+02</td>\n",
       "    </tr>\n",
       "    <tr>\n",
       "      <th>mean</th>\n",
       "      <td>21.467852</td>\n",
       "      <td>21.210488</td>\n",
       "      <td>51.199259</td>\n",
       "      <td>72.014109</td>\n",
       "      <td>54.772487</td>\n",
       "      <td>8.301252</td>\n",
       "      <td>1.612609e+09</td>\n",
       "    </tr>\n",
       "    <tr>\n",
       "      <th>std</th>\n",
       "      <td>32.522454</td>\n",
       "      <td>89.820915</td>\n",
       "      <td>33.190207</td>\n",
       "      <td>21.666354</td>\n",
       "      <td>38.857756</td>\n",
       "      <td>5.667614</td>\n",
       "      <td>2.392307e+02</td>\n",
       "    </tr>\n",
       "    <tr>\n",
       "      <th>min</th>\n",
       "      <td>-54.800000</td>\n",
       "      <td>-179.166700</td>\n",
       "      <td>-41.800000</td>\n",
       "      <td>1.000000</td>\n",
       "      <td>0.000000</td>\n",
       "      <td>0.090000</td>\n",
       "      <td>1.612608e+09</td>\n",
       "    </tr>\n",
       "    <tr>\n",
       "      <th>25%</th>\n",
       "      <td>-3.575000</td>\n",
       "      <td>-59.563600</td>\n",
       "      <td>29.315000</td>\n",
       "      <td>63.500000</td>\n",
       "      <td>10.500000</td>\n",
       "      <td>3.905000</td>\n",
       "      <td>1.612609e+09</td>\n",
       "    </tr>\n",
       "    <tr>\n",
       "      <th>50%</th>\n",
       "      <td>25.208800</td>\n",
       "      <td>27.566700</td>\n",
       "      <td>62.010000</td>\n",
       "      <td>78.000000</td>\n",
       "      <td>69.000000</td>\n",
       "      <td>6.910000</td>\n",
       "      <td>1.612609e+09</td>\n",
       "    </tr>\n",
       "    <tr>\n",
       "      <th>75%</th>\n",
       "      <td>47.883300</td>\n",
       "      <td>101.882750</td>\n",
       "      <td>78.610000</td>\n",
       "      <td>88.000000</td>\n",
       "      <td>90.000000</td>\n",
       "      <td>11.500000</td>\n",
       "      <td>1.612609e+09</td>\n",
       "    </tr>\n",
       "    <tr>\n",
       "      <th>max</th>\n",
       "      <td>78.218600</td>\n",
       "      <td>179.316700</td>\n",
       "      <td>101.320000</td>\n",
       "      <td>100.000000</td>\n",
       "      <td>100.000000</td>\n",
       "      <td>32.210000</td>\n",
       "      <td>1.612609e+09</td>\n",
       "    </tr>\n",
       "  </tbody>\n",
       "</table>\n",
       "</div>"
      ],
      "text/plain": [
       "              Lat         Lng    Max temp    Humidity  Cloudiness  Wind Speed  \\\n",
       "count  567.000000  567.000000  567.000000  567.000000  567.000000  567.000000   \n",
       "mean    21.467852   21.210488   51.199259   72.014109   54.772487    8.301252   \n",
       "std     32.522454   89.820915   33.190207   21.666354   38.857756    5.667614   \n",
       "min    -54.800000 -179.166700  -41.800000    1.000000    0.000000    0.090000   \n",
       "25%     -3.575000  -59.563600   29.315000   63.500000   10.500000    3.905000   \n",
       "50%     25.208800   27.566700   62.010000   78.000000   69.000000    6.910000   \n",
       "75%     47.883300  101.882750   78.610000   88.000000   90.000000   11.500000   \n",
       "max     78.218600  179.316700  101.320000  100.000000  100.000000   32.210000   \n",
       "\n",
       "               Date  \n",
       "count  5.670000e+02  \n",
       "mean   1.612609e+09  \n",
       "std    2.392307e+02  \n",
       "min    1.612608e+09  \n",
       "25%    1.612609e+09  \n",
       "50%    1.612609e+09  \n",
       "75%    1.612609e+09  \n",
       "max    1.612609e+09  "
      ]
     },
     "execution_count": 8,
     "metadata": {},
     "output_type": "execute_result"
    }
   ],
   "source": [
    "# Describe the DataFrame\n",
    "city_df.describe()"
   ]
  },
  {
   "cell_type": "markdown",
   "metadata": {},
   "source": [
    "## Inspect the data and remove the cities where the humidity > 100%.\n",
    "----\n",
    "Skip this step if there are no cities that have humidity > 100%. "
   ]
  },
  {
   "cell_type": "code",
   "execution_count": 9,
   "metadata": {},
   "outputs": [
    {
     "data": {
      "text/html": [
       "<div>\n",
       "<style scoped>\n",
       "    .dataframe tbody tr th:only-of-type {\n",
       "        vertical-align: middle;\n",
       "    }\n",
       "\n",
       "    .dataframe tbody tr th {\n",
       "        vertical-align: top;\n",
       "    }\n",
       "\n",
       "    .dataframe thead th {\n",
       "        text-align: right;\n",
       "    }\n",
       "</style>\n",
       "<table border=\"1\" class=\"dataframe\">\n",
       "  <thead>\n",
       "    <tr style=\"text-align: right;\">\n",
       "      <th></th>\n",
       "      <th>City</th>\n",
       "      <th>Lat</th>\n",
       "      <th>Lng</th>\n",
       "      <th>Max temp</th>\n",
       "      <th>Humidity</th>\n",
       "      <th>Cloudiness</th>\n",
       "      <th>Wind Speed</th>\n",
       "      <th>Date</th>\n",
       "    </tr>\n",
       "  </thead>\n",
       "  <tbody>\n",
       "  </tbody>\n",
       "</table>\n",
       "</div>"
      ],
      "text/plain": [
       "Empty DataFrame\n",
       "Columns: [City, Lat, Lng, Max temp, Humidity, Cloudiness, Wind Speed, Date]\n",
       "Index: []"
      ]
     },
     "execution_count": 9,
     "metadata": {},
     "output_type": "execute_result"
    }
   ],
   "source": [
    "# Create filter for cities that have humidity above 100%\n",
    "filt = city_df['Humidity'] > 100  \n",
    "city_df[filt]"
   ]
  },
  {
   "cell_type": "code",
   "execution_count": 10,
   "metadata": {},
   "outputs": [
    {
     "data": {
      "text/html": [
       "<div>\n",
       "<style scoped>\n",
       "    .dataframe tbody tr th:only-of-type {\n",
       "        vertical-align: middle;\n",
       "    }\n",
       "\n",
       "    .dataframe tbody tr th {\n",
       "        vertical-align: top;\n",
       "    }\n",
       "\n",
       "    .dataframe thead th {\n",
       "        text-align: right;\n",
       "    }\n",
       "</style>\n",
       "<table border=\"1\" class=\"dataframe\">\n",
       "  <thead>\n",
       "    <tr style=\"text-align: right;\">\n",
       "      <th></th>\n",
       "      <th>Lat</th>\n",
       "      <th>Lng</th>\n",
       "      <th>Max temp</th>\n",
       "      <th>Humidity</th>\n",
       "      <th>Cloudiness</th>\n",
       "      <th>Wind Speed</th>\n",
       "      <th>Date</th>\n",
       "    </tr>\n",
       "  </thead>\n",
       "  <tbody>\n",
       "    <tr>\n",
       "      <th>count</th>\n",
       "      <td>567.000000</td>\n",
       "      <td>567.000000</td>\n",
       "      <td>567.000000</td>\n",
       "      <td>567.000000</td>\n",
       "      <td>567.000000</td>\n",
       "      <td>567.000000</td>\n",
       "      <td>5.670000e+02</td>\n",
       "    </tr>\n",
       "    <tr>\n",
       "      <th>mean</th>\n",
       "      <td>21.467852</td>\n",
       "      <td>21.210488</td>\n",
       "      <td>51.199259</td>\n",
       "      <td>72.014109</td>\n",
       "      <td>54.772487</td>\n",
       "      <td>8.301252</td>\n",
       "      <td>1.612609e+09</td>\n",
       "    </tr>\n",
       "    <tr>\n",
       "      <th>std</th>\n",
       "      <td>32.522454</td>\n",
       "      <td>89.820915</td>\n",
       "      <td>33.190207</td>\n",
       "      <td>21.666354</td>\n",
       "      <td>38.857756</td>\n",
       "      <td>5.667614</td>\n",
       "      <td>2.392307e+02</td>\n",
       "    </tr>\n",
       "    <tr>\n",
       "      <th>min</th>\n",
       "      <td>-54.800000</td>\n",
       "      <td>-179.166700</td>\n",
       "      <td>-41.800000</td>\n",
       "      <td>1.000000</td>\n",
       "      <td>0.000000</td>\n",
       "      <td>0.090000</td>\n",
       "      <td>1.612608e+09</td>\n",
       "    </tr>\n",
       "    <tr>\n",
       "      <th>25%</th>\n",
       "      <td>-3.575000</td>\n",
       "      <td>-59.563600</td>\n",
       "      <td>29.315000</td>\n",
       "      <td>63.500000</td>\n",
       "      <td>10.500000</td>\n",
       "      <td>3.905000</td>\n",
       "      <td>1.612609e+09</td>\n",
       "    </tr>\n",
       "    <tr>\n",
       "      <th>50%</th>\n",
       "      <td>25.208800</td>\n",
       "      <td>27.566700</td>\n",
       "      <td>62.010000</td>\n",
       "      <td>78.000000</td>\n",
       "      <td>69.000000</td>\n",
       "      <td>6.910000</td>\n",
       "      <td>1.612609e+09</td>\n",
       "    </tr>\n",
       "    <tr>\n",
       "      <th>75%</th>\n",
       "      <td>47.883300</td>\n",
       "      <td>101.882750</td>\n",
       "      <td>78.610000</td>\n",
       "      <td>88.000000</td>\n",
       "      <td>90.000000</td>\n",
       "      <td>11.500000</td>\n",
       "      <td>1.612609e+09</td>\n",
       "    </tr>\n",
       "    <tr>\n",
       "      <th>max</th>\n",
       "      <td>78.218600</td>\n",
       "      <td>179.316700</td>\n",
       "      <td>101.320000</td>\n",
       "      <td>100.000000</td>\n",
       "      <td>100.000000</td>\n",
       "      <td>32.210000</td>\n",
       "      <td>1.612609e+09</td>\n",
       "    </tr>\n",
       "  </tbody>\n",
       "</table>\n",
       "</div>"
      ],
      "text/plain": [
       "              Lat         Lng    Max temp    Humidity  Cloudiness  Wind Speed  \\\n",
       "count  567.000000  567.000000  567.000000  567.000000  567.000000  567.000000   \n",
       "mean    21.467852   21.210488   51.199259   72.014109   54.772487    8.301252   \n",
       "std     32.522454   89.820915   33.190207   21.666354   38.857756    5.667614   \n",
       "min    -54.800000 -179.166700  -41.800000    1.000000    0.000000    0.090000   \n",
       "25%     -3.575000  -59.563600   29.315000   63.500000   10.500000    3.905000   \n",
       "50%     25.208800   27.566700   62.010000   78.000000   69.000000    6.910000   \n",
       "75%     47.883300  101.882750   78.610000   88.000000   90.000000   11.500000   \n",
       "max     78.218600  179.316700  101.320000  100.000000  100.000000   32.210000   \n",
       "\n",
       "               Date  \n",
       "count  5.670000e+02  \n",
       "mean   1.612609e+09  \n",
       "std    2.392307e+02  \n",
       "min    1.612608e+09  \n",
       "25%    1.612609e+09  \n",
       "50%    1.612609e+09  \n",
       "75%    1.612609e+09  \n",
       "max    1.612609e+09  "
      ]
     },
     "execution_count": 10,
     "metadata": {},
     "output_type": "execute_result"
    }
   ],
   "source": [
    "# Inspect the data \n",
    "city_df.describe()"
   ]
  },
  {
   "cell_type": "code",
   "execution_count": 11,
   "metadata": {},
   "outputs": [
    {
     "data": {
      "text/plain": [
       "Int64Index([], dtype='int64')"
      ]
     },
     "execution_count": 11,
     "metadata": {},
     "output_type": "execute_result"
    }
   ],
   "source": [
    "#  Get the indices of cities that have humidity over 100%.\n",
    "city_df[filt].index"
   ]
  },
  {
   "cell_type": "code",
   "execution_count": 12,
   "metadata": {},
   "outputs": [
    {
     "data": {
      "text/html": [
       "<div>\n",
       "<style scoped>\n",
       "    .dataframe tbody tr th:only-of-type {\n",
       "        vertical-align: middle;\n",
       "    }\n",
       "\n",
       "    .dataframe tbody tr th {\n",
       "        vertical-align: top;\n",
       "    }\n",
       "\n",
       "    .dataframe thead th {\n",
       "        text-align: right;\n",
       "    }\n",
       "</style>\n",
       "<table border=\"1\" class=\"dataframe\">\n",
       "  <thead>\n",
       "    <tr style=\"text-align: right;\">\n",
       "      <th></th>\n",
       "      <th>City</th>\n",
       "      <th>Lat</th>\n",
       "      <th>Lng</th>\n",
       "      <th>Max temp</th>\n",
       "      <th>Humidity</th>\n",
       "      <th>Cloudiness</th>\n",
       "      <th>Wind Speed</th>\n",
       "      <th>Date</th>\n",
       "    </tr>\n",
       "  </thead>\n",
       "  <tbody>\n",
       "    <tr>\n",
       "      <th>0</th>\n",
       "      <td>bredasdorp</td>\n",
       "      <td>-34.5322</td>\n",
       "      <td>20.0403</td>\n",
       "      <td>80.60</td>\n",
       "      <td>54</td>\n",
       "      <td>0</td>\n",
       "      <td>10.36</td>\n",
       "      <td>1612608561</td>\n",
       "    </tr>\n",
       "    <tr>\n",
       "      <th>1</th>\n",
       "      <td>airai</td>\n",
       "      <td>-8.9266</td>\n",
       "      <td>125.4092</td>\n",
       "      <td>62.47</td>\n",
       "      <td>94</td>\n",
       "      <td>100</td>\n",
       "      <td>1.79</td>\n",
       "      <td>1612608558</td>\n",
       "    </tr>\n",
       "    <tr>\n",
       "      <th>2</th>\n",
       "      <td>sawtell</td>\n",
       "      <td>-30.3833</td>\n",
       "      <td>153.1000</td>\n",
       "      <td>73.40</td>\n",
       "      <td>94</td>\n",
       "      <td>90</td>\n",
       "      <td>4.61</td>\n",
       "      <td>1612609027</td>\n",
       "    </tr>\n",
       "    <tr>\n",
       "      <th>3</th>\n",
       "      <td>ishigaki</td>\n",
       "      <td>24.3448</td>\n",
       "      <td>124.1572</td>\n",
       "      <td>68.00</td>\n",
       "      <td>77</td>\n",
       "      <td>20</td>\n",
       "      <td>3.44</td>\n",
       "      <td>1612609027</td>\n",
       "    </tr>\n",
       "    <tr>\n",
       "      <th>4</th>\n",
       "      <td>thompson</td>\n",
       "      <td>55.7435</td>\n",
       "      <td>-97.8558</td>\n",
       "      <td>-31.00</td>\n",
       "      <td>68</td>\n",
       "      <td>40</td>\n",
       "      <td>13.80</td>\n",
       "      <td>1612608571</td>\n",
       "    </tr>\n",
       "    <tr>\n",
       "      <th>...</th>\n",
       "      <td>...</td>\n",
       "      <td>...</td>\n",
       "      <td>...</td>\n",
       "      <td>...</td>\n",
       "      <td>...</td>\n",
       "      <td>...</td>\n",
       "      <td>...</td>\n",
       "      <td>...</td>\n",
       "    </tr>\n",
       "    <tr>\n",
       "      <th>562</th>\n",
       "      <td>ban nahin</td>\n",
       "      <td>18.2418</td>\n",
       "      <td>104.2122</td>\n",
       "      <td>78.71</td>\n",
       "      <td>39</td>\n",
       "      <td>3</td>\n",
       "      <td>0.47</td>\n",
       "      <td>1612609092</td>\n",
       "    </tr>\n",
       "    <tr>\n",
       "      <th>563</th>\n",
       "      <td>susanville</td>\n",
       "      <td>40.4163</td>\n",
       "      <td>-120.6530</td>\n",
       "      <td>26.60</td>\n",
       "      <td>86</td>\n",
       "      <td>1</td>\n",
       "      <td>4.61</td>\n",
       "      <td>1612609093</td>\n",
       "    </tr>\n",
       "    <tr>\n",
       "      <th>564</th>\n",
       "      <td>anadyr</td>\n",
       "      <td>64.7500</td>\n",
       "      <td>177.4833</td>\n",
       "      <td>-4.00</td>\n",
       "      <td>77</td>\n",
       "      <td>0</td>\n",
       "      <td>8.95</td>\n",
       "      <td>1612608614</td>\n",
       "    </tr>\n",
       "    <tr>\n",
       "      <th>565</th>\n",
       "      <td>harrison</td>\n",
       "      <td>30.4091</td>\n",
       "      <td>-89.0436</td>\n",
       "      <td>48.20</td>\n",
       "      <td>87</td>\n",
       "      <td>90</td>\n",
       "      <td>8.05</td>\n",
       "      <td>1612609093</td>\n",
       "    </tr>\n",
       "    <tr>\n",
       "      <th>566</th>\n",
       "      <td>oneonta</td>\n",
       "      <td>42.4529</td>\n",
       "      <td>-75.0638</td>\n",
       "      <td>17.28</td>\n",
       "      <td>95</td>\n",
       "      <td>39</td>\n",
       "      <td>7.20</td>\n",
       "      <td>1612609093</td>\n",
       "    </tr>\n",
       "  </tbody>\n",
       "</table>\n",
       "<p>567 rows × 8 columns</p>\n",
       "</div>"
      ],
      "text/plain": [
       "           City      Lat       Lng  Max temp  Humidity  Cloudiness  \\\n",
       "0    bredasdorp -34.5322   20.0403     80.60        54           0   \n",
       "1         airai  -8.9266  125.4092     62.47        94         100   \n",
       "2       sawtell -30.3833  153.1000     73.40        94          90   \n",
       "3      ishigaki  24.3448  124.1572     68.00        77          20   \n",
       "4      thompson  55.7435  -97.8558    -31.00        68          40   \n",
       "..          ...      ...       ...       ...       ...         ...   \n",
       "562   ban nahin  18.2418  104.2122     78.71        39           3   \n",
       "563  susanville  40.4163 -120.6530     26.60        86           1   \n",
       "564      anadyr  64.7500  177.4833     -4.00        77           0   \n",
       "565    harrison  30.4091  -89.0436     48.20        87          90   \n",
       "566     oneonta  42.4529  -75.0638     17.28        95          39   \n",
       "\n",
       "     Wind Speed        Date  \n",
       "0         10.36  1612608561  \n",
       "1          1.79  1612608558  \n",
       "2          4.61  1612609027  \n",
       "3          3.44  1612609027  \n",
       "4         13.80  1612608571  \n",
       "..          ...         ...  \n",
       "562        0.47  1612609092  \n",
       "563        4.61  1612609093  \n",
       "564        8.95  1612608614  \n",
       "565        8.05  1612609093  \n",
       "566        7.20  1612609093  \n",
       "\n",
       "[567 rows x 8 columns]"
      ]
     },
     "execution_count": 12,
     "metadata": {},
     "output_type": "execute_result"
    }
   ],
   "source": [
    "# Make a new DataFrame equal to the city data to drop all humidity outliers by index.\n",
    "# Passing \"inplace=False\" will make a copy of the city_data DataFrame, which we call \"clean_city_data\".\n",
    "clean_city_data = city_df.drop(city_df[city_df['Humidity'] > 100].index, inplace = False)\n",
    "clean_city_data"
   ]
  },
  {
   "cell_type": "markdown",
   "metadata": {},
   "source": [
    "## Plotting the Data\n",
    "* Use proper labeling of the plots using plot titles (including date of analysis) and axes labels.\n",
    "* Save the plotted figures as .pngs."
   ]
  },
  {
   "cell_type": "markdown",
   "metadata": {},
   "source": [
    "## Latitude vs. Temperature Plot"
   ]
  },
  {
   "cell_type": "code",
   "execution_count": 13,
   "metadata": {
    "scrolled": true
   },
   "outputs": [],
   "source": [
    "# Set x and y values \n",
    "x_value = clean_city_data['Lat']\n",
    "y_value = clean_city_data['Max temp']"
   ]
  },
  {
   "cell_type": "code",
   "execution_count": 14,
   "metadata": {},
   "outputs": [
    {
     "name": "stdout",
     "output_type": "stream",
     "text": [
      "This plot shows the releationship between each city's latitude and its max temperature on a given date.\n"
     ]
    },
    {
     "data": {
      "image/png": "[encoded data removed]",
      "text/plain": [
       "<Figure size 432x288 with 1 Axes>"
      ]
     },
     "metadata": {
      "needs_background": "light"
     },
     "output_type": "display_data"
    }
   ],
   "source": [
    "# Plot the data\n",
    "plt.scatter(x_value, y_value, marker = 'o', facecolors = 'blue', edgecolors = 'black' , alpha = 0.75)\n",
    "plt.xlabel('Latitude')\n",
    "plt.ylabel('Max Temperature (F)')\n",
    "plt.title('City Latitude vs Max Temperature (06/02/2021)')\n",
    "print(\"This plot shows the releationship between each city's latitude and its max temperature on a given date.\")\n",
    "plt.savefig('output/lat_vs_maxtemp.png')"
   ]
  },
  {
   "cell_type": "markdown",
   "metadata": {},
   "source": [
    "## Latitude vs. Humidity Plot"
   ]
  },
  {
   "cell_type": "code",
   "execution_count": 15,
   "metadata": {},
   "outputs": [],
   "source": [
    "# Set x and y values \n",
    "x_value = clean_city_data['Lat']\n",
    "y_value = clean_city_data['Humidity']"
   ]
  },
  {
   "cell_type": "code",
   "execution_count": 16,
   "metadata": {},
   "outputs": [
    {
     "name": "stdout",
     "output_type": "stream",
     "text": [
      "This plot shows the releationship between each city's latitude and its max temperature on a given date.\n"
     ]
    },
    {
     "data": {
      "image/png": "[encoded data removed]",
      "text/plain": [
       "<Figure size 432x288 with 1 Axes>"
      ]
     },
     "metadata": {
      "needs_background": "light"
     },
     "output_type": "display_data"
    }
   ],
   "source": [
    "# Plot the data\n",
    "plt.scatter(x_value, y_value, marker = 'o', facecolors = 'blue', edgecolors = 'black' , alpha = 0.75)\n",
    "plt.xlabel('Latitude')\n",
    "plt.ylabel('Humidity (%)')\n",
    "plt.title('City Latitude vs Humidity (06/02/2021)')\n",
    "print(\"This plot shows the releationship between each city's latitude and its max temperature on a given date.\")\n",
    "plt.savefig('output/lat_vs_hum.png')"
   ]
  },
  {
   "cell_type": "markdown",
   "metadata": {},
   "source": [
    "## Latitude vs. Cloudiness Plot"
   ]
  },
  {
   "cell_type": "code",
   "execution_count": 17,
   "metadata": {},
   "outputs": [],
   "source": [
    "# Set x and y values \n",
    "x_value = clean_city_data['Lat']\n",
    "y_value = clean_city_data['Cloudiness']"
   ]
  },
  {
   "cell_type": "code",
   "execution_count": 18,
   "metadata": {},
   "outputs": [
    {
     "name": "stdout",
     "output_type": "stream",
     "text": [
      "This plot shows the releationship between each city's latitude and its cloudiness on a given date.\n"
     ]
    },
    {
     "data": {
      "image/png": "[encoded data removed]",
      "text/plain": [
       "<Figure size 432x288 with 1 Axes>"
      ]
     },
     "metadata": {
      "needs_background": "light"
     },
     "output_type": "display_data"
    }
   ],
   "source": [
    "# Plot the data\n",
    "plt.scatter(x_value, y_value, marker = 'o', facecolors = 'blue', edgecolors = 'black' , alpha = 0.75)\n",
    "plt.xlabel('Latitude')\n",
    "plt.ylabel('Cloudiness (%)')\n",
    "plt.title('City Latitude vs Cloudiness (06/02/2021)')\n",
    "print(\"This plot shows the releationship between each city's latitude and its cloudiness on a given date.\")\n",
    "plt.savefig('output/lat_vs_cloudiness.png')"
   ]
  },
  {
   "cell_type": "markdown",
   "metadata": {},
   "source": [
    "## Latitude vs. Wind Speed Plot"
   ]
  },
  {
   "cell_type": "code",
   "execution_count": 19,
   "metadata": {},
   "outputs": [],
   "source": [
    "# Set x and y values \n",
    "x_value = clean_city_data['Lat']\n",
    "y_value = clean_city_data['Wind Speed']"
   ]
  },
  {
   "cell_type": "code",
   "execution_count": 20,
   "metadata": {},
   "outputs": [
    {
     "name": "stdout",
     "output_type": "stream",
     "text": [
      "This plot shows the releationship between each city's latitude and its wind speed (mph) on a given date.\n"
     ]
    },
    {
     "data": {
      "image/png": "[encoded data removed]",
      "text/plain": [
       "<Figure size 432x288 with 1 Axes>"
      ]
     },
     "metadata": {
      "needs_background": "light"
     },
     "output_type": "display_data"
    }
   ],
   "source": [
    "# Plot the data\n",
    "plt.scatter(x_value, y_value, marker = 'o', facecolors = 'blue', edgecolors = 'black' , alpha = 0.75)\n",
    "plt.xlabel('Latitude')\n",
    "plt.ylabel('Wind Speed (mph)')\n",
    "plt.title('City Latitude vs Wind Speed (06/02/2021)')\n",
    "print(\"This plot shows the releationship between each city's latitude and its wind speed (mph) on a given date.\")\n",
    "plt.savefig('output/lat_vs_windspeed.png')"
   ]
  },
  {
   "cell_type": "markdown",
   "metadata": {},
   "source": [
    "## Linear Regression"
   ]
  },
  {
   "cell_type": "code",
   "execution_count": 21,
   "metadata": {},
   "outputs": [],
   "source": [
    "# Make DataFrame for Northern Hemisphere\n",
    "north_hem_df = clean_city_data.drop(clean_city_data[clean_city_data['Lat'] <= 0].index, inplace = False)"
   ]
  },
  {
   "cell_type": "code",
   "execution_count": 22,
   "metadata": {},
   "outputs": [],
   "source": [
    "# Make DataFrame for Southern Hemisphere\n",
    "south_hem_df = clean_city_data.drop(clean_city_data[clean_city_data['Lat'] >= 0].index, inplace = False)"
   ]
  },
  {
   "cell_type": "markdown",
   "metadata": {},
   "source": [
    "####  Northern Hemisphere - Max Temp vs. Latitude Linear Regression"
   ]
  },
  {
   "cell_type": "code",
   "execution_count": 23,
   "metadata": {},
   "outputs": [
    {
     "name": "stdout",
     "output_type": "stream",
     "text": [
      "The r-value is: -0.8818513476303393\n"
     ]
    },
    {
     "data": {
      "image/png": "[encoded data removed]",
      "text/plain": [
       "<Figure size 432x288 with 1 Axes>"
      ]
     },
     "metadata": {
      "needs_background": "light"
     },
     "output_type": "display_data"
    },
    {
     "name": "stdout",
     "output_type": "stream",
     "text": [
      "There is a strong negative relationship between each city's latitude and its maximum temperature in the Northern Hemisphere with an r-value of -0.88. The r-squared value is 0.78, which means that 78.0% of the data fit the regression model.  \n"
     ]
    },
    {
     "data": {
      "text/plain": [
       "<Figure size 432x288 with 0 Axes>"
      ]
     },
     "metadata": {},
     "output_type": "display_data"
    }
   ],
   "source": [
    "# Plot linear regression\n",
    "x_value = north_hem_df['Lat']\n",
    "y_value = north_hem_df['Max temp'] \n",
    "(slope, intercept, rvalue, pvalue, stderr) = linregress(x_value, y_value)\n",
    "regress_value = x_value * slope + intercept \n",
    "line_eq = 'y = ' +str(round(slope,2)) + 'x + ' + str(round(intercept,2))\n",
    "plt.scatter(x_value, y_value)\n",
    "plt.plot(x_value,regress_value,'r-')\n",
    "plt.annotate(line_eq, (0,-20), fontsize=15, color='red')\n",
    "plt.xlabel('Latitude')\n",
    "plt.ylabel('Max Temp')\n",
    "print(f'The r-value is: {rvalue}')\n",
    "plt.show()\n",
    "print(f\"There is a strong negative relationship between each city's latitude and its maximum temperature in the Northern Hemisphere with an r-value of {round(rvalue,2)}. The r-squared value is {round(rvalue**2,2)}, which means that {round(rvalue**2,2)*100}% of the data fit the regression model.  \")\n",
    "plt.savefig('output/nh_lat_vs_maxtemp.png')"
   ]
  },
  {
   "cell_type": "markdown",
   "metadata": {},
   "source": [
    "####  Southern Hemisphere - Max Temp vs. Latitude Linear Regression"
   ]
  },
  {
   "cell_type": "code",
   "execution_count": 24,
   "metadata": {},
   "outputs": [
    {
     "name": "stdout",
     "output_type": "stream",
     "text": [
      "The r-value is: 0.6212628170647954\n"
     ]
    },
    {
     "data": {
      "image/png": "[encoded data removed]",
      "text/plain": [
       "<Figure size 432x288 with 1 Axes>"
      ]
     },
     "metadata": {
      "needs_background": "light"
     },
     "output_type": "display_data"
    },
    {
     "name": "stdout",
     "output_type": "stream",
     "text": [
      "There is a moderate positive relationship between each city's latitude and its maximum temperature in the Southern Hemisphere with an r-value of 0.62. The r-squared value is 0.39, which means that 39.0% of the data fit the regression model.  \n"
     ]
    },
    {
     "data": {
      "text/plain": [
       "<Figure size 432x288 with 0 Axes>"
      ]
     },
     "metadata": {},
     "output_type": "display_data"
    }
   ],
   "source": [
    "# Plot linear regression\n",
    "x_value = south_hem_df['Lat']\n",
    "y_value = south_hem_df['Max temp'] \n",
    "(slope, intercept, rvalue, pvalue, stderr) = linregress(x_value, y_value)\n",
    "regress_value = x_value * slope + intercept \n",
    "line_eq = 'y = ' +str(round(slope,2)) + 'x + ' + str(round(intercept,2))\n",
    "plt.scatter(x_value, y_value)\n",
    "plt.plot(x_value,regress_value,'r-')\n",
    "plt.annotate(line_eq, (-30,40), fontsize=15, color='red')\n",
    "plt.xlabel('Latitude')\n",
    "plt.ylabel('Max Temp')\n",
    "print(f'The r-value is: {rvalue}')\n",
    "plt.show()\n",
    "print(f\"There is a moderate positive relationship between each city's latitude and its maximum temperature in the Southern Hemisphere with an r-value of {round(rvalue,2)}. The r-squared value is {round(rvalue**2,2)}, which means that {round(rvalue**2,2)*100}% of the data fit the regression model.  \")\n",
    "plt.savefig('output/sh_lat_vs_maxtemp.png')"
   ]
  },
  {
   "cell_type": "markdown",
   "metadata": {},
   "source": [
    "####  Northern Hemisphere - Humidity (%) vs. Latitude Linear Regression"
   ]
  },
  {
   "cell_type": "code",
   "execution_count": 25,
   "metadata": {},
   "outputs": [
    {
     "name": "stdout",
     "output_type": "stream",
     "text": [
      "The r-value is: 0.42931243932900665\n"
     ]
    },
    {
     "data": {
      "image/png": "[encoded data removed]",
      "text/plain": [
       "<Figure size 432x288 with 1 Axes>"
      ]
     },
     "metadata": {
      "needs_background": "light"
     },
     "output_type": "display_data"
    },
    {
     "name": "stdout",
     "output_type": "stream",
     "text": [
      "There is a weak positive relationship between each city's latitude and its humidity in the Northern Hemisphere with an r-value of 0.43. The r-squared value is 0.18, which means that 18.0% of the data fit the regression model.  \n"
     ]
    },
    {
     "data": {
      "text/plain": [
       "<Figure size 432x288 with 0 Axes>"
      ]
     },
     "metadata": {},
     "output_type": "display_data"
    }
   ],
   "source": [
    "# Plot linear regression\n",
    "x_value = north_hem_df['Lat']\n",
    "y_value = north_hem_df['Humidity'] \n",
    "(slope, intercept, rvalue, pvalue, stderr) = linregress(x_value, y_value)\n",
    "regress_value = x_value * slope + intercept \n",
    "line_eq = 'y = ' +str(round(slope,2)) + 'x + ' + str(round(intercept,2))\n",
    "plt.scatter(x_value, y_value)\n",
    "plt.plot(x_value,regress_value,'r-')\n",
    "plt.annotate(line_eq, (45,15), fontsize=15, color='red')\n",
    "plt.xlabel('Latitude')\n",
    "plt.ylabel('Humidity')\n",
    "print(f'The r-value is: {rvalue}')\n",
    "plt.show()\n",
    "print(f\"There is a weak positive relationship between each city's latitude and its humidity in the Northern Hemisphere with an r-value of {round(rvalue,2)}. The r-squared value is {round(rvalue**2,2)}, which means that {round(rvalue**2,2)*100}% of the data fit the regression model.  \")\n",
    "plt.savefig('output/nh_lat_vs_hum.png')"
   ]
  },
  {
   "cell_type": "markdown",
   "metadata": {},
   "source": [
    "####  Southern Hemisphere - Humidity (%) vs. Latitude Linear Regression"
   ]
  },
  {
   "cell_type": "code",
   "execution_count": 26,
   "metadata": {},
   "outputs": [
    {
     "name": "stdout",
     "output_type": "stream",
     "text": [
      "The r-value is: 0.007041576406621378\n"
     ]
    },
    {
     "data": {
      "image/png": "[encoded data removed]",
      "text/plain": [
       "<Figure size 432x288 with 1 Axes>"
      ]
     },
     "metadata": {
      "needs_background": "light"
     },
     "output_type": "display_data"
    },
    {
     "name": "stdout",
     "output_type": "stream",
     "text": [
      "There is a weak positive to no relationship between each city's latitude and its humidity in the Southern Hemisphere with an r-value of 0.01. The r-squared value is 0.0, which means that 0.0% of the data fit the regression model.  \n"
     ]
    },
    {
     "data": {
      "text/plain": [
       "<Figure size 432x288 with 0 Axes>"
      ]
     },
     "metadata": {},
     "output_type": "display_data"
    }
   ],
   "source": [
    "# Plot linear regression\n",
    "x_value = south_hem_df['Lat']\n",
    "y_value = south_hem_df['Humidity'] \n",
    "(slope, intercept, rvalue, pvalue, stderr) = linregress(x_value, y_value)\n",
    "regress_value = x_value * slope + intercept \n",
    "line_eq = 'y = ' +str(round(slope,2)) + 'x + ' + str(round(intercept,2))\n",
    "plt.scatter(x_value, y_value)\n",
    "plt.plot(x_value,regress_value,'r-')\n",
    "plt.annotate(line_eq, (-25,30), fontsize=15, color='red')\n",
    "plt.xlabel('Latitude')\n",
    "plt.ylabel('Humidity')\n",
    "print(f'The r-value is: {rvalue}')\n",
    "plt.show()\n",
    "print(f\"There is a weak positive to no relationship between each city's latitude and its humidity in the Southern Hemisphere with an r-value of {round(rvalue,2)}. The r-squared value is {round(rvalue**2,2)}, which means that {round(rvalue**2,2)*100}% of the data fit the regression model.  \")\n",
    "plt.savefig('output/sh_lat_vs_hum.png')"
   ]
  },
  {
   "cell_type": "markdown",
   "metadata": {},
   "source": [
    "####  Northern Hemisphere - Cloudiness (%) vs. Latitude Linear Regression"
   ]
  },
  {
   "cell_type": "code",
   "execution_count": 27,
   "metadata": {},
   "outputs": [
    {
     "name": "stdout",
     "output_type": "stream",
     "text": [
      "The r-value is: 0.2895790155246337\n"
     ]
    },
    {
     "data": {
      "image/png": "[encoded data removed]",
      "text/plain": [
       "<Figure size 432x288 with 1 Axes>"
      ]
     },
     "metadata": {
      "needs_background": "light"
     },
     "output_type": "display_data"
    },
    {
     "name": "stdout",
     "output_type": "stream",
     "text": [
      "There is a weak positive relationship between each city's latitude and its cloudiness in the Northern Hemisphere with an r-value of 0.29. The r-squared value is 0.08, which means that 8.0% of the data fit the regression model.  \n"
     ]
    },
    {
     "data": {
      "text/plain": [
       "<Figure size 432x288 with 0 Axes>"
      ]
     },
     "metadata": {},
     "output_type": "display_data"
    }
   ],
   "source": [
    "# Plot linear regression\n",
    "x_value = north_hem_df['Lat']\n",
    "y_value = north_hem_df['Cloudiness'] \n",
    "(slope, intercept, rvalue, pvalue, stderr) = linregress(x_value, y_value)\n",
    "regress_value = x_value * slope + intercept \n",
    "line_eq = 'y = ' +str(round(slope,2)) + 'x + ' + str(round(intercept,2))\n",
    "plt.scatter(x_value, y_value)\n",
    "plt.plot(x_value,regress_value,'r-')\n",
    "plt.annotate(line_eq, (45,10), fontsize=15, color='red')\n",
    "plt.xlabel('Latitude')\n",
    "plt.ylabel('Cloudiness')\n",
    "print(f'The r-value is: {rvalue}')\n",
    "plt.show()\n",
    "print(f\"There is a weak positive relationship between each city's latitude and its cloudiness in the Northern Hemisphere with an r-value of {round(rvalue,2)}. The r-squared value is {round(rvalue**2,2)}, which means that {round(rvalue**2,2)*100}% of the data fit the regression model.  \")\n",
    "plt.savefig('output/nh_lat_vs_cloudiness.png')"
   ]
  },
  {
   "cell_type": "markdown",
   "metadata": {},
   "source": [
    "####  Southern Hemisphere - Cloudiness (%) vs. Latitude Linear Regression"
   ]
  },
  {
   "cell_type": "code",
   "execution_count": 28,
   "metadata": {},
   "outputs": [
    {
     "name": "stdout",
     "output_type": "stream",
     "text": [
      "The r-value is: 0.42154522184701537\n"
     ]
    },
    {
     "data": {
      "image/png": "[encoded data removed]",
      "text/plain": [
       "<Figure size 432x288 with 1 Axes>"
      ]
     },
     "metadata": {
      "needs_background": "light"
     },
     "output_type": "display_data"
    },
    {
     "name": "stdout",
     "output_type": "stream",
     "text": [
      "There is a weak positive relationship between each city's latitude and its cloudiness in the Southern Hemisphere with an r-value of 0.42. The r-squared value is 0.18, which means that 18.0% of the data fit the regression model.  \n"
     ]
    },
    {
     "data": {
      "text/plain": [
       "<Figure size 432x288 with 0 Axes>"
      ]
     },
     "metadata": {},
     "output_type": "display_data"
    }
   ],
   "source": [
    "# Plot linear regression\n",
    "x_value = south_hem_df['Lat']\n",
    "y_value = south_hem_df['Cloudiness'] \n",
    "(slope, intercept, rvalue, pvalue, stderr) = linregress(x_value, y_value)\n",
    "regress_value = x_value * slope + intercept \n",
    "line_eq = 'y = ' +str(round(slope,2)) + 'x + ' + str(round(intercept,2))\n",
    "plt.scatter(x_value, y_value)\n",
    "plt.plot(x_value,regress_value,'r-')\n",
    "plt.annotate(line_eq, (-55,90), fontsize=15, color='red')\n",
    "plt.xlabel('Latitude')\n",
    "plt.ylabel('Cloudiness')\n",
    "print(f'The r-value is: {rvalue}')\n",
    "plt.show()\n",
    "print(f\"There is a weak positive relationship between each city's latitude and its cloudiness in the Southern Hemisphere with an r-value of {round(rvalue,2)}. The r-squared value is {round(rvalue**2,2)}, which means that {round(rvalue**2,2)*100}% of the data fit the regression model.  \")\n",
    "plt.savefig('output/sh_lat_vs_cloudiness.png')"
   ]
  },
  {
   "cell_type": "markdown",
   "metadata": {},
   "source": [
    "####  Northern Hemisphere - Wind Speed (mph) vs. Latitude Linear Regression"
   ]
  },
  {
   "cell_type": "code",
   "execution_count": 29,
   "metadata": {},
   "outputs": [
    {
     "name": "stdout",
     "output_type": "stream",
     "text": [
      "The r-value is: -0.07298546066916736\n"
     ]
    },
    {
     "data": {
      "image/png": "[encoded data removed]",
      "text/plain": [
       "<Figure size 432x288 with 1 Axes>"
      ]
     },
     "metadata": {
      "needs_background": "light"
     },
     "output_type": "display_data"
    },
    {
     "name": "stdout",
     "output_type": "stream",
     "text": [
      "There is no relationship between each city's latitude and its wind speed in the Northern Hemisphere with an r-value of -0.07. The r-squared value is 0.01, which means that 1.0% of the data fit the regression model.  \n"
     ]
    },
    {
     "data": {
      "text/plain": [
       "<Figure size 432x288 with 0 Axes>"
      ]
     },
     "metadata": {},
     "output_type": "display_data"
    }
   ],
   "source": [
    "# Plot linear regression\n",
    "x_value = north_hem_df['Lat']\n",
    "y_value = north_hem_df['Wind Speed'] \n",
    "(slope, intercept, rvalue, pvalue, stderr) = linregress(x_value, y_value)\n",
    "regress_value = x_value * slope + intercept \n",
    "line_eq = 'y = ' +str(round(slope,2)) + 'x + ' + str(round(intercept,2))\n",
    "plt.scatter(x_value, y_value)\n",
    "plt.plot(x_value,regress_value,'r-')\n",
    "plt.annotate(line_eq, (0,30), fontsize=15, color='red')\n",
    "plt.xlabel('Latitude')\n",
    "plt.ylabel('Wind Speed')\n",
    "print(f'The r-value is: {rvalue}')\n",
    "plt.show()\n",
    "print(f\"There is no relationship between each city's latitude and its wind speed in the Northern Hemisphere with an r-value of {round(rvalue,2)}. The r-squared value is {round(rvalue**2,2)}, which means that {round(rvalue**2,2)*100}% of the data fit the regression model.  \")\n",
    "plt.savefig('output/nh_lat_vs_winspeed.png')"
   ]
  },
  {
   "cell_type": "markdown",
   "metadata": {},
   "source": [
    "####  Southern Hemisphere - Wind Speed (mph) vs. Latitude Linear Regression"
   ]
  },
  {
   "cell_type": "code",
   "execution_count": 30,
   "metadata": {},
   "outputs": [
    {
     "name": "stdout",
     "output_type": "stream",
     "text": [
      "The r-value is: -0.11439489032796125\n"
     ]
    },
    {
     "data": {
      "image/png": "[encoded data removed]",
      "text/plain": [
       "<Figure size 432x288 with 1 Axes>"
      ]
     },
     "metadata": {
      "needs_background": "light"
     },
     "output_type": "display_data"
    },
    {
     "name": "stdout",
     "output_type": "stream",
     "text": [
      "There is no relationship between each city's latitude and its wind speed in the Southern Hemisphere with an r-value of -0.11. The r-squared value is 0.01, which means that 1.0% of the data fit the regression model.  \n"
     ]
    },
    {
     "data": {
      "text/plain": [
       "<Figure size 432x288 with 0 Axes>"
      ]
     },
     "metadata": {},
     "output_type": "display_data"
    }
   ],
   "source": [
    "# Plot linear regression\n",
    "x_value = south_hem_df['Lat']\n",
    "y_value = south_hem_df['Wind Speed'] \n",
    "(slope, intercept, rvalue, pvalue, stderr) = linregress(x_value, y_value)\n",
    "regress_value = x_value * slope + intercept \n",
    "line_eq = 'y = ' +str(round(slope,2)) + 'x + ' + str(round(intercept,2))\n",
    "plt.scatter(x_value, y_value)\n",
    "plt.plot(x_value,regress_value,'r-')\n",
    "plt.annotate(line_eq, (-55,25), fontsize=15, color='red')\n",
    "plt.xlabel('Latitude')\n",
    "plt.ylabel('Wind Speed')\n",
    "print(f'The r-value is: {rvalue}')\n",
    "plt.show()\n",
    "print(f\"There is no relationship between each city's latitude and its wind speed in the Southern Hemisphere with an r-value of {round(rvalue,2)}. The r-squared value is {round(rvalue**2,2)}, which means that {round(rvalue**2,2)*100}% of the data fit the regression model.  \")\n",
    "plt.savefig('output/sh_lat_vs_windspeed.png')"
   ]
  },
  {
   "cell_type": "code",
   "execution_count": 31,
   "metadata": {},
   "outputs": [],
   "source": [
    "# Export DataFrame to CSV \n",
    "clean_city_data.to_csv('output/clean_city_data.csv')"
   ]
  }
 ],
 "metadata": {
  "anaconda-cloud": {},
  "kernel_info": {
   "name": "python3"
  },
  "kernelspec": {
   "display_name": "Python [conda env:.conda-PythonData] *",
   "language": "python",
   "name": "conda-env-.conda-PythonData-py"
  },
  "language_info": {
   "codemirror_mode": {
    "name": "ipython",
    "version": 3
   },
   "file_extension": ".py",
   "mimetype": "text/x-python",
   "name": "python",
   "nbconvert_exporter": "python",
   "pygments_lexer": "ipython3",
   "version": "3.6.10"
  },
  "latex_envs": {
   "LaTeX_envs_menu_present": true,
   "autoclose": false,
   "autocomplete": true,
   "bibliofile": "biblio.bib",
   "cite_by": "apalike",
   "current_citInitial": 1,
   "eqLabelWithNumbers": true,
   "eqNumInitial": 1,
   "hotkeys": {
    "equation": "Ctrl-E",
    "itemize": "Ctrl-I"
   },
   "labels_anchors": false,
   "latex_user_defs": false,
   "report_style_numbering": false,
   "user_envs_cfg": false
  },
  "nteract": {
   "version": "0.12.3"
  }
 },
 "nbformat": 4,
 "nbformat_minor": 2
}
